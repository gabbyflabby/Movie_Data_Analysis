{
 "cells": [
  {
   "cell_type": "code",
   "execution_count": 105,
   "metadata": {},
   "outputs": [],
   "source": [
    "import pandas as pd\n",
    "import numpy as np\n",
    "import matplotlib.pyplot as plt\n",
    "%matplotlib inline\n",
    "import seaborn as sns"
   ]
  },
  {
   "cell_type": "code",
   "execution_count": 80,
   "metadata": {},
   "outputs": [],
   "source": [
    "df = pd.read_csv('movie_data.csv')"
   ]
  },
  {
   "cell_type": "code",
   "execution_count": 81,
   "metadata": {},
   "outputs": [
    {
     "data": {
      "text/html": [
       "<div>\n",
       "<style scoped>\n",
       "    .dataframe tbody tr th:only-of-type {\n",
       "        vertical-align: middle;\n",
       "    }\n",
       "\n",
       "    .dataframe tbody tr th {\n",
       "        vertical-align: top;\n",
       "    }\n",
       "\n",
       "    .dataframe thead th {\n",
       "        text-align: right;\n",
       "    }\n",
       "</style>\n",
       "<table border=\"1\" class=\"dataframe\">\n",
       "  <thead>\n",
       "    <tr style=\"text-align: right;\">\n",
       "      <th></th>\n",
       "      <th>Unnamed: 0</th>\n",
       "      <th>movie_id</th>\n",
       "      <th>movie_title</th>\n",
       "      <th>mpaa_rating</th>\n",
       "      <th>runtime</th>\n",
       "      <th>genre</th>\n",
       "      <th>star_rating</th>\n",
       "      <th>gross_revenue</th>\n",
       "      <th>budget</th>\n",
       "    </tr>\n",
       "  </thead>\n",
       "  <tbody>\n",
       "    <tr>\n",
       "      <td>0</td>\n",
       "      <td>0</td>\n",
       "      <td>tt6751668</td>\n",
       "      <td>Parasite</td>\n",
       "      <td>R</td>\n",
       "      <td>132 min</td>\n",
       "      <td>Comedy, Drama, Thriller</td>\n",
       "      <td>8.6</td>\n",
       "      <td>201055038.0</td>\n",
       "      <td>11363000.0</td>\n",
       "    </tr>\n",
       "    <tr>\n",
       "      <td>1</td>\n",
       "      <td>1</td>\n",
       "      <td>tt8946378</td>\n",
       "      <td>Knives Out</td>\n",
       "      <td>PG-13</td>\n",
       "      <td>131 min</td>\n",
       "      <td>Comedy, Crime, Drama</td>\n",
       "      <td>8.0</td>\n",
       "      <td>163700000.0</td>\n",
       "      <td>40000000.0</td>\n",
       "    </tr>\n",
       "    <tr>\n",
       "      <td>2</td>\n",
       "      <td>2</td>\n",
       "      <td>tt2584384</td>\n",
       "      <td>Jojo Rabbit</td>\n",
       "      <td>PG-13</td>\n",
       "      <td>108 min</td>\n",
       "      <td>Comedy, Drama, War</td>\n",
       "      <td>8.0</td>\n",
       "      <td>82468705.0</td>\n",
       "      <td>14000000.0</td>\n",
       "    </tr>\n",
       "    <tr>\n",
       "      <td>3</td>\n",
       "      <td>3</td>\n",
       "      <td>tt8579674</td>\n",
       "      <td>1917</td>\n",
       "      <td>R</td>\n",
       "      <td>119 min</td>\n",
       "      <td>Drama, War</td>\n",
       "      <td>8.4</td>\n",
       "      <td>200483309.0</td>\n",
       "      <td>100000000.0</td>\n",
       "    </tr>\n",
       "    <tr>\n",
       "      <td>4</td>\n",
       "      <td>4</td>\n",
       "      <td>tt8367814</td>\n",
       "      <td>The Gentlemen</td>\n",
       "      <td>R</td>\n",
       "      <td>113 min</td>\n",
       "      <td>Action, Comedy, Crime</td>\n",
       "      <td>8.1</td>\n",
       "      <td>48441089.0</td>\n",
       "      <td>18400000.0</td>\n",
       "    </tr>\n",
       "  </tbody>\n",
       "</table>\n",
       "</div>"
      ],
      "text/plain": [
       "   Unnamed: 0   movie_id    movie_title mpaa_rating  runtime  \\\n",
       "0           0  tt6751668       Parasite           R  132 min   \n",
       "1           1  tt8946378     Knives Out       PG-13  131 min   \n",
       "2           2  tt2584384    Jojo Rabbit       PG-13  108 min   \n",
       "3           3  tt8579674           1917           R  119 min   \n",
       "4           4  tt8367814  The Gentlemen           R  113 min   \n",
       "\n",
       "                     genre  star_rating  gross_revenue       budget  \n",
       "0  Comedy, Drama, Thriller          8.6    201055038.0   11363000.0  \n",
       "1     Comedy, Crime, Drama          8.0    163700000.0   40000000.0  \n",
       "2       Comedy, Drama, War          8.0     82468705.0   14000000.0  \n",
       "3               Drama, War          8.4    200483309.0  100000000.0  \n",
       "4    Action, Comedy, Crime          8.1     48441089.0   18400000.0  "
      ]
     },
     "execution_count": 81,
     "metadata": {},
     "output_type": "execute_result"
    }
   ],
   "source": [
    "df.head()"
   ]
  },
  {
   "cell_type": "code",
   "execution_count": 82,
   "metadata": {},
   "outputs": [],
   "source": [
    "df.drop('Unnamed: 0', axis=1, inplace=True)"
   ]
  },
  {
   "cell_type": "code",
   "execution_count": 83,
   "metadata": {},
   "outputs": [],
   "source": [
    "##cleaning data"
   ]
  },
  {
   "cell_type": "code",
   "execution_count": 84,
   "metadata": {},
   "outputs": [],
   "source": [
    "#turn mpaa rating NAs into string \"Not Rated\"\n",
    "df['mpaa_rating'].fillna(\"Not Rated\", inplace=True)"
   ]
  },
  {
   "cell_type": "code",
   "execution_count": 85,
   "metadata": {},
   "outputs": [],
   "source": [
    "#turn runtime from strings into integers\n",
    "df['runtime'].fillna(0, inplace = True)\n",
    "df['runtime'] = df['runtime'].astype(str)\n",
    "df['runtime'] = df['runtime'].apply(lambda x: x.rstrip(' min'))\n",
    "df['runtime'] = df['runtime'].astype(int)"
   ]
  },
  {
   "cell_type": "code",
   "execution_count": 86,
   "metadata": {},
   "outputs": [],
   "source": [
    "#turn genre NAs into string \"No Genre\"\n",
    "df['genre'].fillna(\"No Genre\", inplace=True)"
   ]
  },
  {
   "cell_type": "code",
   "execution_count": 87,
   "metadata": {},
   "outputs": [],
   "source": [
    "#turn gross_revenue and budget NAs into 0\n",
    "df['gross_revenue'].fillna(0, inplace=True)\n",
    "df['budget'].fillna(0, inplace=True)"
   ]
  },
  {
   "cell_type": "code",
   "execution_count": null,
   "metadata": {},
   "outputs": [],
   "source": [
    "##creating visualizations"
   ]
  },
  {
   "cell_type": "code",
   "execution_count": 91,
   "metadata": {},
   "outputs": [
    {
     "name": "stdout",
     "output_type": "stream",
     "text": [
      "{'Comedy': 2906, 'Drama': 5704, 'Thriller': 2046, 'Crime': 1293, 'War': 156, 'Action': 2009, 'Biography': 553, 'Adventure': 1047, 'History': 346, 'Horror': 1529, 'Mystery': 811, 'Animation': 400, 'Romance': 1442, 'Fantasy': 551, 'Sci-Fi': 581, 'Music': 202, 'Family': 380, 'Western': 72, 'Musical': 70, 'Sport': 145, 'Adult': 1, 'Game-Show': 1, 'No Genre': 3}\n"
     ]
    }
   ],
   "source": [
    "#how many movies belonged to which genre\n",
    "# genre_list = []\n",
    "# for genres in df['genre']:\n",
    "#     genre_list.extend(genre.strip() for genre in genres.split(','))\n",
    "#     genre_dict = {}\n",
    "#     for genre in genre_list:\n",
    "#         if genre in genre_dict:\n",
    "#             genre_dict[genre] += 1\n",
    "#         else:\n",
    "#             genre_dict[genre] = 1\n",
    "\n",
    "# print(genre_dict)"
   ]
  },
  {
   "cell_type": "code",
   "execution_count": 132,
   "metadata": {},
   "outputs": [
    {
     "name": "stdout",
     "output_type": "stream",
     "text": [
      "{'Comedy': 211, 'Drama': 672, 'Thriller': 140, 'Crime': 135, 'War': 22, 'Action': 197, 'Biography': 83, 'Romance': 124, 'History': 41, 'Fantasy': 42, 'Horror': 36, 'Sci-Fi': 34, 'Adventure': 115, 'Animation': 85, 'Mystery': 61, 'Music': 23, 'Musical': 19, 'Western': 2, 'Sport': 18, 'Family': 40, 'No Genre': 1}\n"
     ]
    }
   ],
   "source": [
    "average_rating = df['star_rating'].mean()\n",
    "highest_rated_df = df[df['star_rating']>(average_rating*1.25)]\n",
    "\n",
    "genre_list = []\n",
    "for genres in highest_rated_df['genre']:\n",
    "    genre_list.extend(genre.strip() for genre in genres.split(','))\n",
    "    genre_dict = {}\n",
    "    for genre in genre_list:\n",
    "        if genre in genre_dict:\n",
    "            genre_dict[genre] += 1\n",
    "        else:\n",
    "            genre_dict[genre] = 1\n",
    "\n",
    "print(genre_dict)"
   ]
  },
  {
   "cell_type": "code",
   "execution_count": 138,
   "metadata": {},
   "outputs": [
    {
     "data": {
      "text/plain": [
       "<matplotlib.axes._subplots.AxesSubplot at 0x1a2d96e690>"
      ]
     },
     "execution_count": 138,
     "metadata": {},
     "output_type": "execute_result"
    },
    {
     "data": {
      "image/png": "[encoded data removed]",
      "text/plain": [
       "<Figure size 1440x720 with 1 Axes>"
      ]
     },
     "metadata": {
      "needs_background": "light"
     },
     "output_type": "display_data"
    }
   ],
   "source": [
    "fig, ax = plt.subplots(figsize=(20,10))\n",
    "sns.barplot(list(genre_dict.keys()), list(genre_dict.values()))"
   ]
  },
  {
   "cell_type": "code",
   "execution_count": 120,
   "metadata": {},
   "outputs": [
    {
     "data": {
      "text/plain": [
       "genre\n",
       "Action                          5.012987\n",
       "Action, Adventure               5.218750\n",
       "Action, Adventure, Biography    6.942857\n",
       "Action, Adventure, Comedy       5.419091\n",
       "Action, Adventure, Crime        5.600000\n",
       "                                  ...   \n",
       "Thriller                        5.202427\n",
       "Thriller, War                   6.100000\n",
       "Thriller, Western               6.250000\n",
       "War                             5.700000\n",
       "Western                         4.842857\n",
       "Name: star_rating, Length: 449, dtype: float64"
      ]
     },
     "execution_count": 120,
     "metadata": {},
     "output_type": "execute_result"
    }
   ],
   "source": [
    "df.groupby('genre')['star_rating'].mean()"
   ]
  },
  {
   "cell_type": "code",
   "execution_count": null,
   "metadata": {},
   "outputs": [],
   "source": []
  }
 ],
 "metadata": {
  "kernelspec": {
   "display_name": "Python 3",
   "language": "python",
   "name": "python3"
  },
  "language_info": {
   "codemirror_mode": {
    "name": "ipython",
    "version": 3
   },
   "file_extension": ".py",
   "mimetype": "text/x-python",
   "name": "python",
   "nbconvert_exporter": "python",
   "pygments_lexer": "ipython3",
   "version": "3.7.4"
  }
 },
 "nbformat": 4,
 "nbformat_minor": 2
}
