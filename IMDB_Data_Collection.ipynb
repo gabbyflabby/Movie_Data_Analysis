{
 "cells": [
  {
   "cell_type": "code",
   "execution_count": 1,
   "metadata": {},
   "outputs": [],
   "source": [
    "from bs4 import BeautifulSoup\n",
    "import requests"
   ]
  },
  {
   "cell_type": "code",
   "execution_count": 2,
   "metadata": {},
   "outputs": [],
   "source": [
    "#get all titles from the container and put into list all_titles\n",
    "def titles(movies_container):\n",
    "    all_titles = [h3.find('a').get_text() for h3 in movies_container.findAll('h3')]\n",
    "    return all_titles"
   ]
  },
  {
   "cell_type": "code",
   "execution_count": 3,
   "metadata": {},
   "outputs": [],
   "source": [
    "#get all ratings from container and put into mpaa_ratings list\n",
    "#if no rating exists, put NaN\n",
    "def mpaa_ratings(imdb_movie_list):\n",
    "    mpaa_ratings = []\n",
    "    for movie in imdb_movie_list:\n",
    "        rating = movie.find('span', class_='certificate')\n",
    "        if rating:\n",
    "            mpaa_ratings.append(rating.get_text())\n",
    "        else:\n",
    "            mpaa_ratings.append(\"NaN\")\n",
    "    return mpaa_ratings"
   ]
  },
  {
   "cell_type": "code",
   "execution_count": 4,
   "metadata": {},
   "outputs": [],
   "source": [
    "#get all runtime from container and put into all_runtimes list\n",
    "#if no runtimes exists, put NaN\n",
    "def runtimes(imdb_movie_list):\n",
    "    all_runtimes = []\n",
    "    for movie in imdb_movie_list:\n",
    "        runtime = movie.find('span', class_='runtime')\n",
    "        if runtime:\n",
    "            all_runtimes.append(runtime.get_text())\n",
    "        else:\n",
    "            all_runtimes.append(\"NaN\")\n",
    "    return all_runtimes"
   ]
  },
  {
   "cell_type": "code",
   "execution_count": 17,
   "metadata": {},
   "outputs": [],
   "source": [
    "#get all genres from container and put into all_genres list\n",
    "#if no genres exists, put NaN\n",
    "def genres(imdb_movie_list):\n",
    "    all_genres = []\n",
    "    for movie in imdb_movie_list:\n",
    "        genre = movie.find('span', class_='genre')\n",
    "        if genre:\n",
    "            all_genres.append(genre.get_text())\n",
    "        else:\n",
    "            all_genres.append(\"NaN\")\n",
    "    all_genres = [genre.strip() for genre in all_genres]\n",
    "    return all_genres"
   ]
  },
  {
   "cell_type": "code",
   "execution_count": 60,
   "metadata": {},
   "outputs": [],
   "source": [
    "def imdb_id(imdb_movie_list):\n",
    "    all_ids = []\n",
    "    for movie in imdb_movie_list:\n",
    "        header = movie.find('h3', class_=\"lister-item-header\")\n",
    "        xid = header.find('a').attrs['href']\n",
    "        xid = xid.lstrip('/title/')\n",
    "        xid = xid.rstrip('/')\n",
    "        xid = \"tt\"+xid\n",
    "        all_ids.append(xid)\n",
    "    return all_ids"
   ]
  },
  {
   "cell_type": "code",
   "execution_count": 6,
   "metadata": {},
   "outputs": [],
   "source": [
    "#get all star ratings from container and put into star_ratings list\n",
    "#if no star ratings exists, put NaN\n",
    "def star_ratings(imdb_movie_list):\n",
    "    star_ratings = []\n",
    "    for movie in imdb_movie_list:\n",
    "        rating = movie.find('strong')\n",
    "        if rating:\n",
    "            star_ratings.append(rating.get_text())\n",
    "        else:\n",
    "            star_ratings.append(\"NaN\")\n",
    "    return star_ratings"
   ]
  },
  {
   "cell_type": "code",
   "execution_count": 7,
   "metadata": {},
   "outputs": [],
   "source": [
    "import time"
   ]
  },
  {
   "cell_type": "code",
   "execution_count": 61,
   "metadata": {},
   "outputs": [],
   "source": [
    "#collect data from all pages\n",
    "all_titles = []\n",
    "all_mpaa_ratings = []\n",
    "all_runtimes = []\n",
    "all_genres = []\n",
    "all_star_ratings = []\n",
    "all_ids = []\n",
    "\n",
    "#first page\n",
    "html_page = requests.get(\"https://www.imdb.com/search/title/?title_type=feature&release_date=2010-01-01,2019-12-31\")\n",
    "soup = BeautifulSoup(html_page.content, 'html.parser')\n",
    "movies_container = soup.find('div', class_=\"lister-list\")\n",
    "imdb_movie_list = movies_container.findAll('div', class_=\"lister-item-content\")\n",
    "for title in titles(movies_container):\n",
    "    all_titles.append(title)\n",
    "for rating in mpaa_ratings(imdb_movie_list):\n",
    "    all_mpaa_ratings.append(rating)\n",
    "for runtime in runtimes(imdb_movie_list):\n",
    "    all_runtimes.append(runtime)\n",
    "for genre in genres(imdb_movie_list):\n",
    "    all_genres.append(genre)\n",
    "for rating in star_ratings(imdb_movie_list):\n",
    "    all_star_ratings.append(rating)\n",
    "for xid in imdb_id(imdb_movie_list):\n",
    "    all_ids.append(xid)\n",
    "\n",
    "#for every other page\n",
    "for i in range(51,10_001,50):\n",
    "    url = f\"https://www.imdb.com/search/title/?title_type=feature&release_date=2010-01-01,2019-12-31&start={i}&ref_=adv_nxt\"\n",
    "    html_page = requests.get(url)\n",
    "    soup = BeautifulSoup(html_page.content, 'html.parser')\n",
    "    movies_container = soup.find('div', class_=\"lister-list\")\n",
    "    imdb_movie_list = movies_container.findAll('div', class_=\"lister-item-content\")\n",
    "    for title in titles(movies_container):\n",
    "        all_titles.append(title)\n",
    "    for rating in mpaa_ratings(imdb_movie_list):\n",
    "        all_mpaa_ratings.append(rating)\n",
    "    for runtime in runtimes(imdb_movie_list):\n",
    "        all_runtimes.append(runtime)\n",
    "    for genre in genres(imdb_movie_list):\n",
    "        all_genres.append(genre)\n",
    "    for rating in star_ratings(imdb_movie_list):\n",
    "        all_star_ratings.append(rating)\n",
    "    for xid in imdb_id(imdb_movie_list):\n",
    "        all_ids.append(xid)\n",
    "    time.sleep(0.5)"
   ]
  },
  {
   "cell_type": "code",
   "execution_count": 62,
   "metadata": {},
   "outputs": [],
   "source": [
    "#creating dataframe with our data\n",
    "import pandas as pd\n",
    "\n",
    "columns = {'imdb_id': all_ids, 'title': all_titles, 'mpaa_rating': all_mpaa_ratings, 'runtime': all_runtimes, 'genre': all_genres, 'star_rating': all_star_ratings}\n",
    "\n",
    "imdb_df = pd.DataFrame(columns)"
   ]
  },
  {
   "cell_type": "code",
   "execution_count": 63,
   "metadata": {},
   "outputs": [
    {
     "data": {
      "text/html": [
       "<div>\n",
       "<style scoped>\n",
       "    .dataframe tbody tr th:only-of-type {\n",
       "        vertical-align: middle;\n",
       "    }\n",
       "\n",
       "    .dataframe tbody tr th {\n",
       "        vertical-align: top;\n",
       "    }\n",
       "\n",
       "    .dataframe thead th {\n",
       "        text-align: right;\n",
       "    }\n",
       "</style>\n",
       "<table border=\"1\" class=\"dataframe\">\n",
       "  <thead>\n",
       "    <tr style=\"text-align: right;\">\n",
       "      <th></th>\n",
       "      <th>imdb_id</th>\n",
       "      <th>title</th>\n",
       "      <th>mpaa_rating</th>\n",
       "      <th>runtime</th>\n",
       "      <th>genre</th>\n",
       "      <th>star_rating</th>\n",
       "    </tr>\n",
       "  </thead>\n",
       "  <tbody>\n",
       "    <tr>\n",
       "      <td>0</td>\n",
       "      <td>tt6751668</td>\n",
       "      <td>Parasite</td>\n",
       "      <td>R</td>\n",
       "      <td>132 min</td>\n",
       "      <td>Comedy, Drama, Thriller</td>\n",
       "      <td>8.6</td>\n",
       "    </tr>\n",
       "    <tr>\n",
       "      <td>1</td>\n",
       "      <td>tt8946378</td>\n",
       "      <td>Knives Out</td>\n",
       "      <td>PG-13</td>\n",
       "      <td>131 min</td>\n",
       "      <td>Comedy, Crime, Drama</td>\n",
       "      <td>8.0</td>\n",
       "    </tr>\n",
       "    <tr>\n",
       "      <td>2</td>\n",
       "      <td>tt2584384</td>\n",
       "      <td>Jojo Rabbit</td>\n",
       "      <td>PG-13</td>\n",
       "      <td>108 min</td>\n",
       "      <td>Comedy, Drama, War</td>\n",
       "      <td>8.0</td>\n",
       "    </tr>\n",
       "    <tr>\n",
       "      <td>3</td>\n",
       "      <td>tt8579674</td>\n",
       "      <td>1917</td>\n",
       "      <td>R</td>\n",
       "      <td>119 min</td>\n",
       "      <td>Drama, War</td>\n",
       "      <td>8.4</td>\n",
       "    </tr>\n",
       "    <tr>\n",
       "      <td>4</td>\n",
       "      <td>tt8367814</td>\n",
       "      <td>The Gentlemen</td>\n",
       "      <td>R</td>\n",
       "      <td>113 min</td>\n",
       "      <td>Action, Comedy, Crime</td>\n",
       "      <td>8.1</td>\n",
       "    </tr>\n",
       "    <tr>\n",
       "      <td>...</td>\n",
       "      <td>...</td>\n",
       "      <td>...</td>\n",
       "      <td>...</td>\n",
       "      <td>...</td>\n",
       "      <td>...</td>\n",
       "      <td>...</td>\n",
       "    </tr>\n",
       "    <tr>\n",
       "      <td>9995</td>\n",
       "      <td>tt5584732</td>\n",
       "      <td>Die Hölle</td>\n",
       "      <td>Not Rated</td>\n",
       "      <td>92 min</td>\n",
       "      <td>Action, Crime, Thriller</td>\n",
       "      <td>6.5</td>\n",
       "    </tr>\n",
       "    <tr>\n",
       "      <td>9996</td>\n",
       "      <td>tt1533817</td>\n",
       "      <td>Stomp the Yard 2: Homecoming</td>\n",
       "      <td>PG-13</td>\n",
       "      <td>89 min</td>\n",
       "      <td>Drama, Music</td>\n",
       "      <td>4.2</td>\n",
       "    </tr>\n",
       "    <tr>\n",
       "      <td>9997</td>\n",
       "      <td>tt5258904</td>\n",
       "      <td>B&amp;B</td>\n",
       "      <td>TV-MA</td>\n",
       "      <td>87 min</td>\n",
       "      <td>Thriller</td>\n",
       "      <td>5.3</td>\n",
       "    </tr>\n",
       "    <tr>\n",
       "      <td>9998</td>\n",
       "      <td>tt2585736</td>\n",
       "      <td>American Bistro</td>\n",
       "      <td>TV-MA</td>\n",
       "      <td>94 min</td>\n",
       "      <td>Adventure, Comedy, Drama</td>\n",
       "      <td>7.1</td>\n",
       "    </tr>\n",
       "    <tr>\n",
       "      <td>9999</td>\n",
       "      <td>tt2015315</td>\n",
       "      <td>Poo-reun so-geum</td>\n",
       "      <td>Not Rated</td>\n",
       "      <td>122 min</td>\n",
       "      <td>Action, Drama</td>\n",
       "      <td>6.4</td>\n",
       "    </tr>\n",
       "  </tbody>\n",
       "</table>\n",
       "<p>10000 rows × 6 columns</p>\n",
       "</div>"
      ],
      "text/plain": [
       "        imdb_id                         title mpaa_rating  runtime  \\\n",
       "0     tt6751668                      Parasite           R  132 min   \n",
       "1     tt8946378                    Knives Out       PG-13  131 min   \n",
       "2     tt2584384                   Jojo Rabbit       PG-13  108 min   \n",
       "3     tt8579674                          1917           R  119 min   \n",
       "4     tt8367814                 The Gentlemen           R  113 min   \n",
       "...         ...                           ...         ...      ...   \n",
       "9995  tt5584732                     Die Hölle   Not Rated   92 min   \n",
       "9996  tt1533817  Stomp the Yard 2: Homecoming       PG-13   89 min   \n",
       "9997  tt5258904                           B&B       TV-MA   87 min   \n",
       "9998  tt2585736               American Bistro       TV-MA   94 min   \n",
       "9999  tt2015315              Poo-reun so-geum   Not Rated  122 min   \n",
       "\n",
       "                         genre star_rating  \n",
       "0      Comedy, Drama, Thriller         8.6  \n",
       "1         Comedy, Crime, Drama         8.0  \n",
       "2           Comedy, Drama, War         8.0  \n",
       "3                   Drama, War         8.4  \n",
       "4        Action, Comedy, Crime         8.1  \n",
       "...                        ...         ...  \n",
       "9995   Action, Crime, Thriller         6.5  \n",
       "9996              Drama, Music         4.2  \n",
       "9997                  Thriller         5.3  \n",
       "9998  Adventure, Comedy, Drama         7.1  \n",
       "9999             Action, Drama         6.4  \n",
       "\n",
       "[10000 rows x 6 columns]"
      ]
     },
     "execution_count": 63,
     "metadata": {},
     "output_type": "execute_result"
    }
   ],
   "source": [
    "imdb_df"
   ]
  },
  {
   "cell_type": "code",
   "execution_count": 64,
   "metadata": {},
   "outputs": [],
   "source": [
    "imdb_df.to_csv(\"imdb_data.csv\")"
   ]
  },
  {
   "cell_type": "code",
   "execution_count": 70,
   "metadata": {},
   "outputs": [
    {
     "data": {
      "text/plain": [
       "10000"
      ]
     },
     "execution_count": 70,
     "metadata": {},
     "output_type": "execute_result"
    }
   ],
   "source": [
    "len(all_ids)"
   ]
  },
  {
   "cell_type": "code",
   "execution_count": 75,
   "metadata": {},
   "outputs": [],
   "source": [
    "#use titles to search for movie budget and revenue from themoviedb\n",
    "import urllib.parse\n",
    "import json\n",
    "\n",
    "all_budgets = []\n",
    "all_revenues = []\n",
    "for xid in all_ids:\n",
    "    movie_id = None\n",
    "    budget = None\n",
    "    revenue = None\n",
    "    url = f\"https://api.themoviedb.org/3/find/{xid}?api_key=19ad5c6f0c75547d77ec237563fb0d7e&language=en-US&external_source=imdb_id\"\n",
    "    data = json.load(urllib.request.urlopen(url))\n",
    "    for result in data['movie_results']:\n",
    "        if result['id']:\n",
    "            movie_id = result['id']\n",
    "            new_url = f\"https://api.themoviedb.org/3/movie/{movie_id}?api_key=19ad5c6f0c75547d77ec237563fb0d7e&language=en-US\"\n",
    "            new_data = json.load(urllib.request.urlopen(new_url))\n",
    "            budget = new_data['budget']\n",
    "            revenue = new_data['revenue']\n",
    "        else:\n",
    "            movie_id = \"NaN\"\n",
    "            budget = \"NaN\"\n",
    "            revenue = \"NaN\"\n",
    "    all_budgets.append(budget)\n",
    "    all_revenues.append(revenue)\n",
    "    time.sleep(0.5)"
   ]
  },
  {
   "cell_type": "code",
   "execution_count": 77,
   "metadata": {},
   "outputs": [
    {
     "name": "stdout",
     "output_type": "stream",
     "text": [
      "[11363000, 40000000, 14000000, 100000000, 18400000] [201055038, 163700000, 82468705, 200483309, 48441089]\n"
     ]
    }
   ],
   "source": [
    "# print(all_budgets, all_revenues)"
   ]
  },
  {
   "cell_type": "code",
   "execution_count": 69,
   "metadata": {},
   "outputs": [
    {
     "ename": "ValueError",
     "evalue": "not enough values to unpack (expected 3, got 1)",
     "output_type": "error",
     "traceback": [
      "\u001b[0;31m---------------------------------------------------------------------------\u001b[0m",
      "\u001b[0;31mValueError\u001b[0m                                Traceback (most recent call last)",
      "\u001b[0;32m<ipython-input-69-02b0f9123e8d>\u001b[0m in \u001b[0;36m<module>\u001b[0;34m\u001b[0m\n\u001b[0;32m----> 1\u001b[0;31m \u001b[0mtest\u001b[0m\u001b[0;34m,\u001b[0m \u001b[0mtesting\u001b[0m\u001b[0;34m,\u001b[0m \u001b[0mtester\u001b[0m \u001b[0;34m=\u001b[0m \u001b[0;34m\"2\"\u001b[0m\u001b[0;34m\u001b[0m\u001b[0;34m\u001b[0m\u001b[0m\n\u001b[0m\u001b[1;32m      2\u001b[0m \u001b[0mtest\u001b[0m\u001b[0;34m\u001b[0m\u001b[0;34m\u001b[0m\u001b[0m\n",
      "\u001b[0;31mValueError\u001b[0m: not enough values to unpack (expected 3, got 1)"
     ]
    }
   ],
   "source": [
    "#     movie_name = urllib.parse.quote(title, safe='')"
   ]
  },
  {
   "cell_type": "code",
   "execution_count": null,
   "metadata": {},
   "outputs": [],
   "source": []
  }
 ],
 "metadata": {
  "kernelspec": {
   "display_name": "Python 3",
   "language": "python",
   "name": "python3"
  },
  "language_info": {
   "codemirror_mode": {
    "name": "ipython",
    "version": 3
   },
   "file_extension": ".py",
   "mimetype": "text/x-python",
   "name": "python",
   "nbconvert_exporter": "python",
   "pygments_lexer": "ipython3",
   "version": "3.7.4"
  }
 },
 "nbformat": 4,
 "nbformat_minor": 2
}
