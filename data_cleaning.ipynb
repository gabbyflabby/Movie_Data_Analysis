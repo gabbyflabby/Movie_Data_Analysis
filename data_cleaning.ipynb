{
 "metadata": {
  "language_info": {
   "codemirror_mode": {
    "name": "ipython",
    "version": 3
   },
   "file_extension": ".py",
   "mimetype": "text/x-python",
   "name": "python",
   "nbconvert_exporter": "python",
   "pygments_lexer": "ipython3",
   "version": "3.7.4-final"
  },
  "orig_nbformat": 2,
  "kernelspec": {
   "name": "Python 3.7.4 64-bit ('base': conda)",
   "display_name": "Python 3.7.4 64-bit ('base': conda)",
   "metadata": {
    "interpreter": {
     "hash": "b2e1723db1371234b8d567df1145a76a02469bdac12b84b864d7749e47a35033"
    }
   }
  }
 },
 "nbformat": 4,
 "nbformat_minor": 2,
 "cells": [
  {
   "source": [
    "# Data Cleaning\n",
    "\n",
    "I've collected data from the top 10,000 popular movies ranging from summer 2010 to summer 2020 on IMDB using web scraping and combined this with budget and revenue data for these movies collected from TMDB using their API. \n",
    "\n",
    "Next, I'll get a sense of what the data looks like.\n",
    "\n",
    "## Import Libraries and Data"
   ],
   "cell_type": "markdown",
   "metadata": {}
  },
  {
   "source": [
    "import pandas as pd"
   ],
   "cell_type": "code",
   "metadata": {},
   "execution_count": 1,
   "outputs": []
  },
  {
   "cell_type": "code",
   "execution_count": 2,
   "metadata": {},
   "outputs": [],
   "source": [
    "df = pd.read_pickle(\"./movie_data.pkl\")"
   ]
  },
  {
   "source": [
    "## Explore and Clean Data\n",
    "\n",
    "First, I want to make sure the shape of the dataframe is what I would expect. I collected 10,000 movies and for each I grabbed the following information.\n",
    "* `title`\n",
    "* `mpaa_rating`\n",
    "* `runtime`\n",
    "* `genre`\n",
    "* `star_rating` - This is the rating the movie has on IMDB out of 10.\n",
    "* `budget`\n",
    "* `revenue`\n",
    "\n",
    "As such, I expect my dataframe to have 10,000 rows and 7 columns."
   ],
   "cell_type": "markdown",
   "metadata": {}
  },
  {
   "cell_type": "code",
   "execution_count": 3,
   "metadata": {},
   "outputs": [
    {
     "output_type": "execute_result",
     "data": {
      "text/plain": [
       "(10000, 7)"
      ]
     },
     "metadata": {},
     "execution_count": 3
    }
   ],
   "source": [
    "df.shape"
   ]
  },
  {
   "source": [
    "Great. Now I want to see what this dataframe looks like."
   ],
   "cell_type": "markdown",
   "metadata": {}
  },
  {
   "cell_type": "code",
   "execution_count": 4,
   "metadata": {},
   "outputs": [
    {
     "output_type": "execute_result",
     "data": {
      "text/plain": [
       "                          title mpaa_rating  runtime  \\\n",
       "0                   The Outpost           R  123 min   \n",
       "1                 The Gentlemen           R  113 min   \n",
       "2  Murder on the Orient Express       PG-13  114 min   \n",
       "3                      365 Days       TV-MA  114 min   \n",
       "4                         Mulan       PG-13  115 min   \n",
       "\n",
       "                                    genre star_rating       budget  \\\n",
       "0    \\nAction, Drama, History                     6.7          0.0   \n",
       "1     \\nAction, Comedy, Crime                     7.9   22000000.0   \n",
       "2     \\nCrime, Drama, Mystery                     6.5   55000000.0   \n",
       "3            \\nDrama, Romance                     3.3          0.0   \n",
       "4  \\nAction, Adventure, Drama                     5.4  200000000.0   \n",
       "\n",
       "       revenue  \n",
       "0          0.0  \n",
       "1  114996853.0  \n",
       "2  351839303.0  \n",
       "3    9458590.0  \n",
       "4   57000000.0  "
      ],
      "text/html": "<div>\n<style scoped>\n    .dataframe tbody tr th:only-of-type {\n        vertical-align: middle;\n    }\n\n    .dataframe tbody tr th {\n        vertical-align: top;\n    }\n\n    .dataframe thead th {\n        text-align: right;\n    }\n</style>\n<table border=\"1\" class=\"dataframe\">\n  <thead>\n    <tr style=\"text-align: right;\">\n      <th></th>\n      <th>title</th>\n      <th>mpaa_rating</th>\n      <th>runtime</th>\n      <th>genre</th>\n      <th>star_rating</th>\n      <th>budget</th>\n      <th>revenue</th>\n    </tr>\n  </thead>\n  <tbody>\n    <tr>\n      <td>0</td>\n      <td>The Outpost</td>\n      <td>R</td>\n      <td>123 min</td>\n      <td>\\nAction, Drama, History</td>\n      <td>6.7</td>\n      <td>0.0</td>\n      <td>0.0</td>\n    </tr>\n    <tr>\n      <td>1</td>\n      <td>The Gentlemen</td>\n      <td>R</td>\n      <td>113 min</td>\n      <td>\\nAction, Comedy, Crime</td>\n      <td>7.9</td>\n      <td>22000000.0</td>\n      <td>114996853.0</td>\n    </tr>\n    <tr>\n      <td>2</td>\n      <td>Murder on the Orient Express</td>\n      <td>PG-13</td>\n      <td>114 min</td>\n      <td>\\nCrime, Drama, Mystery</td>\n      <td>6.5</td>\n      <td>55000000.0</td>\n      <td>351839303.0</td>\n    </tr>\n    <tr>\n      <td>3</td>\n      <td>365 Days</td>\n      <td>TV-MA</td>\n      <td>114 min</td>\n      <td>\\nDrama, Romance</td>\n      <td>3.3</td>\n      <td>0.0</td>\n      <td>9458590.0</td>\n    </tr>\n    <tr>\n      <td>4</td>\n      <td>Mulan</td>\n      <td>PG-13</td>\n      <td>115 min</td>\n      <td>\\nAction, Adventure, Drama</td>\n      <td>5.4</td>\n      <td>200000000.0</td>\n      <td>57000000.0</td>\n    </tr>\n  </tbody>\n</table>\n</div>"
     },
     "metadata": {},
     "execution_count": 4
    }
   ],
   "source": [
    "df.head()"
   ]
  },
  {
   "source": [
    "That looks correct. Next, I want to look at my columns more in depth."
   ],
   "cell_type": "markdown",
   "metadata": {}
  },
  {
   "cell_type": "code",
   "execution_count": 5,
   "metadata": {},
   "outputs": [
    {
     "output_type": "stream",
     "name": "stdout",
     "text": [
      "<class 'pandas.core.frame.DataFrame'>\nRangeIndex: 10000 entries, 0 to 9999\nData columns (total 7 columns):\ntitle          10000 non-null object\nmpaa_rating    7246 non-null object\nruntime        9909 non-null object\ngenre          9999 non-null object\nstar_rating    9987 non-null object\nbudget         9925 non-null float64\nrevenue        9925 non-null float64\ndtypes: float64(2), object(5)\nmemory usage: 547.0+ KB\n"
     ]
    }
   ],
   "source": [
    "df.info()"
   ]
  },
  {
   "source": [
    "It looks like two of my columns are not the right data type; `star_rating` should be a float, and `runtime` should be an integer. The first will be an easy fix, but since `runtime` contains both numbers and text, I'll need to turn it into a string, strip the text I don't want, and then turn the column into type int. \n",
    "\n",
    "Before I can do this to `runtime`, I'll have to clean the null values, since I can't turn a null value into a string. Since I'm missing this data point for only 91 out of my 10,000 movies, I'll go ahead and just remove these."
   ],
   "cell_type": "markdown",
   "metadata": {}
  },
  {
   "cell_type": "code",
   "execution_count": 6,
   "metadata": {},
   "outputs": [],
   "source": [
    "df.dropna(subset=['runtime'], inplace=True)"
   ]
  },
  {
   "cell_type": "code",
   "execution_count": 7,
   "metadata": {},
   "outputs": [
    {
     "output_type": "execute_result",
     "data": {
      "text/plain": [
       "0"
      ]
     },
     "metadata": {},
     "execution_count": 7
    }
   ],
   "source": [
    "df['runtime'].isna().sum()"
   ]
  },
  {
   "source": [
    "Now I can correct the data types of both `star_rating` and `runtime`."
   ],
   "cell_type": "markdown",
   "metadata": {}
  },
  {
   "cell_type": "code",
   "execution_count": 8,
   "metadata": {},
   "outputs": [],
   "source": [
    "df['runtime'] = df['runtime'].astype(str)\n",
    "df['runtime'] = df['runtime'].apply(lambda x: x.rstrip(' min'))\n",
    "df['runtime'] = df['runtime'].astype(int)"
   ]
  },
  {
   "cell_type": "code",
   "execution_count": 9,
   "metadata": {},
   "outputs": [],
   "source": [
    "df.rename(columns={'runtime': 'runtime_in_mins'}, inplace=True)"
   ]
  },
  {
   "cell_type": "code",
   "execution_count": 10,
   "metadata": {},
   "outputs": [],
   "source": [
    "df['star_rating'] = df['star_rating'].astype(float)"
   ]
  },
  {
   "cell_type": "code",
   "execution_count": 11,
   "metadata": {},
   "outputs": [
    {
     "output_type": "stream",
     "name": "stdout",
     "text": [
      "<class 'pandas.core.frame.DataFrame'>\nInt64Index: 9909 entries, 0 to 9999\nData columns (total 7 columns):\ntitle              9909 non-null object\nmpaa_rating        7236 non-null object\nruntime_in_mins    9909 non-null int64\ngenre              9908 non-null object\nstar_rating        9901 non-null float64\nbudget             9856 non-null float64\nrevenue            9856 non-null float64\ndtypes: float64(3), int64(1), object(3)\nmemory usage: 619.3+ KB\n"
     ]
    }
   ],
   "source": [
    "df.info()"
   ]
  },
  {
   "source": [
    "Next, I'll look at the value count of my categorical column `mpaa_rating`."
   ],
   "cell_type": "markdown",
   "metadata": {}
  },
  {
   "cell_type": "code",
   "execution_count": 12,
   "metadata": {},
   "outputs": [
    {
     "output_type": "execute_result",
     "data": {
      "text/plain": [
       "NaN          2673\n",
       "R            2424\n",
       "Not Rated    2028\n",
       "PG-13        1124\n",
       "TV-MA         489\n",
       "PG            457\n",
       "Unrated       306\n",
       "TV-14         268\n",
       "TV-PG          69\n",
       "G              35\n",
       "TV-G           15\n",
       "TV-Y7           7\n",
       "M               5\n",
       "NC-17           5\n",
       "TV-Y            2\n",
       "MA-17           1\n",
       "18              1\n",
       "Name: mpaa_rating, dtype: int64"
      ]
     },
     "metadata": {},
     "execution_count": 12
    }
   ],
   "source": [
    "df['mpaa_rating'].value_counts(dropna=False)"
   ]
  },
  {
   "source": [
    "Immediately I notice that I have 3 different categories that should be combined into one: NA, 'Not Rated', and 'Unrated'."
   ],
   "cell_type": "markdown",
   "metadata": {}
  },
  {
   "cell_type": "code",
   "execution_count": 13,
   "metadata": {},
   "outputs": [],
   "source": [
    "df['mpaa_rating'].fillna('Not Rated', inplace=True)\n",
    "df['mpaa_rating'].replace('Unrated', 'Not Rated', inplace=True)"
   ]
  },
  {
   "source": [
    "df['mpaa_rating'].value_counts(dropna=False)"
   ],
   "cell_type": "code",
   "metadata": {},
   "execution_count": 14,
   "outputs": [
    {
     "output_type": "execute_result",
     "data": {
      "text/plain": [
       "Not Rated    5007\n",
       "R            2424\n",
       "PG-13        1124\n",
       "TV-MA         489\n",
       "PG            457\n",
       "TV-14         268\n",
       "TV-PG          69\n",
       "G              35\n",
       "TV-G           15\n",
       "TV-Y7           7\n",
       "NC-17           5\n",
       "M               5\n",
       "TV-Y            2\n",
       "MA-17           1\n",
       "18              1\n",
       "Name: mpaa_rating, dtype: int64"
      ]
     },
     "metadata": {},
     "execution_count": 14
    }
   ]
  },
  {
   "source": [
    "I still have a lot of different categories here. For my analysis, I really only care about what type of audience a movie is catering to, not the specific rating. As such, I'm going to combine the categories as follows:\n",
    "* 'All Ages' - 'G' and 'TV-G'\n",
    "* 'Children' - 'TV-Y' and 'TV-Y7'\n",
    "* 'Pre-teen+'  - 'PG' and 'TV-PG'\n",
    "* 'Teen+' - 'PG-13' and 'TV-14'\n",
    "* 'Adult' - 'R', 'NC-17', 'M', 'MA-17', '18' and 'TV-MA'\n",
    "\n",
    "I'll also rename the column to be `intended_audience`."
   ],
   "cell_type": "markdown",
   "metadata": {}
  },
  {
   "cell_type": "code",
   "execution_count": 15,
   "metadata": {},
   "outputs": [],
   "source": [
    "df['mpaa_rating'].replace(['G', 'TV-G'], 'All Ages', inplace=True)\n",
    "df['mpaa_rating'].replace(['TV-Y', 'TV-Y7'], 'Children', inplace=True)\n",
    "df['mpaa_rating'].replace(['PG', 'TV-PG'], 'Pre-teen+', inplace=True)\n",
    "df['mpaa_rating'].replace(['PG-13', 'TV-14'], 'Teen+', inplace=True)\n",
    "df['mpaa_rating'].replace(['R', 'NC-17', 'M', 'MA-17', '18', 'TV-MA'], 'Adult', inplace=True)"
   ]
  },
  {
   "cell_type": "code",
   "execution_count": 16,
   "metadata": {},
   "outputs": [],
   "source": [
    "df.rename(columns={'mpaa_rating': 'intended_audience'}, inplace=True)"
   ]
  },
  {
   "cell_type": "code",
   "execution_count": 17,
   "metadata": {},
   "outputs": [
    {
     "output_type": "execute_result",
     "data": {
      "text/plain": [
       "Not Rated    5007\n",
       "Adult        2925\n",
       "Teen+        1392\n",
       "Pre-teen+     526\n",
       "All Ages       50\n",
       "Children        9\n",
       "Name: intended_audience, dtype: int64"
      ]
     },
     "metadata": {},
     "execution_count": 17
    }
   ],
   "source": [
    "df['intended_audience'].value_counts(dropna=False)"
   ]
  },
  {
   "source": [
    "From the table, I see that some budget and revenue numbers are listed as 0. When analyzing movie budgets and revenue, I only want to analyze movies which have these data points. I'll create a new dataframe `df_short` which I can use when analyzing the finances of the movies. \n",
    "\n",
    "To start off, I'll see how many 0 values I have for these."
   ],
   "cell_type": "markdown",
   "metadata": {}
  },
  {
   "cell_type": "code",
   "execution_count": 18,
   "metadata": {},
   "outputs": [
    {
     "output_type": "execute_result",
     "data": {
      "text/plain": [
       "title                   0\n",
       "intended_audience       0\n",
       "runtime_in_mins         0\n",
       "genre                   0\n",
       "star_rating             0\n",
       "budget               6807\n",
       "revenue              6979\n",
       "dtype: int64"
      ]
     },
     "metadata": {},
     "execution_count": 18
    }
   ],
   "source": [
    "df.isin([0]).sum()"
   ]
  },
  {
   "cell_type": "code",
   "execution_count": 19,
   "metadata": {},
   "outputs": [],
   "source": [
    "df_short = df[df['revenue'] != 0] \n",
    "df_short = df_short[df_short['budget'] != 0]"
   ]
  },
  {
   "cell_type": "code",
   "execution_count": 20,
   "metadata": {},
   "outputs": [
    {
     "output_type": "execute_result",
     "data": {
      "text/plain": [
       "(2117, 7)"
      ]
     },
     "metadata": {},
     "execution_count": 20
    }
   ],
   "source": [
    "df_short.shape"
   ]
  },
  {
   "source": [
    "Looks like that leaves me with 2,140 movie details to use for analyzing popular movie finances."
   ],
   "cell_type": "markdown",
   "metadata": {}
  }
 ]
}