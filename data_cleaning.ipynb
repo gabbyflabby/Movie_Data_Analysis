{
 "metadata": {
  "language_info": {
   "codemirror_mode": {
    "name": "ipython",
    "version": 3
   },
   "file_extension": ".py",
   "mimetype": "text/x-python",
   "name": "python",
   "nbconvert_exporter": "python",
   "pygments_lexer": "ipython3",
   "version": "3.7.4-final"
  },
  "orig_nbformat": 2,
  "kernelspec": {
   "name": "Python 3.7.4 64-bit ('base': conda)",
   "display_name": "Python 3.7.4 64-bit ('base': conda)",
   "metadata": {
    "interpreter": {
     "hash": "b2e1723db1371234b8d567df1145a76a02469bdac12b84b864d7749e47a35033"
    }
   }
  }
 },
 "nbformat": 4,
 "nbformat_minor": 2,
 "cells": [
  {
   "source": [
    "# Data Cleaning\n",
    "\n",
    "I've collected data from the top 10,000 popular movies ranging from summer 2010 to summer 2020 on IMDB using web scraping and combined this with budget and revenue data for these movies collected from TMDB using their API. \n",
    "\n",
    "Next, I'll get a sense of what the data looks like.\n",
    "\n",
    "## Import Libraries and Data"
   ],
   "cell_type": "markdown",
   "metadata": {}
  },
  {
   "source": [
    "import pandas as pd\n",
    "pd.options.display.float_format = '{:.2f}'.format"
   ],
   "cell_type": "code",
   "metadata": {},
   "execution_count": 1,
   "outputs": []
  },
  {
   "cell_type": "code",
   "execution_count": 2,
   "metadata": {},
   "outputs": [],
   "source": [
    "df = pd.read_pickle(\"./movie_data.pkl\")"
   ]
  },
  {
   "source": [
    "## Explore and Clean Data\n",
    "\n",
    "First, I want to make sure the shape of the dataframe is what I would expect. I collected 10,000 movies and for each I grabbed the following information.\n",
    "* `title`\n",
    "* `mpaa_rating`\n",
    "* `runtime`\n",
    "* `genre`\n",
    "* `star_rating` - This is the rating the movie has on IMDB out of 10.\n",
    "* `budget`\n",
    "* `revenue`\n",
    "\n",
    "As such, I expect my dataframe to have 10,000 rows and 7 columns."
   ],
   "cell_type": "markdown",
   "metadata": {}
  },
  {
   "cell_type": "code",
   "execution_count": 3,
   "metadata": {},
   "outputs": [
    {
     "output_type": "execute_result",
     "data": {
      "text/plain": [
       "(10000, 7)"
      ]
     },
     "metadata": {},
     "execution_count": 3
    }
   ],
   "source": [
    "df.shape"
   ]
  },
  {
   "source": [
    "Great. Now I want to see what this dataframe looks like."
   ],
   "cell_type": "markdown",
   "metadata": {}
  },
  {
   "cell_type": "code",
   "execution_count": 4,
   "metadata": {},
   "outputs": [
    {
     "output_type": "execute_result",
     "data": {
      "text/plain": [
       "                   title mpaa_rating  runtime  \\\n",
       "0                   Cats          PG  110 min   \n",
       "1  Promising Young Woman           R  113 min   \n",
       "2            Inheritance         NaN  111 min   \n",
       "3                The Lie           R   97 min   \n",
       "4          The Gentlemen           R  113 min   \n",
       "\n",
       "                                    genre star_rating      budget      revenue  \n",
       "0     \\nComedy, Drama, Family                     2.8 95000000.00  73515024.00  \n",
       "1      \\nComedy, Crime, Drama                     6.1        0.00         0.00  \n",
       "2  \\nDrama, Mystery, Thriller                     5.5        0.00         0.00  \n",
       "3      \\nCrime, Drama, Horror                     5.7        0.00         0.00  \n",
       "4     \\nAction, Comedy, Crime                     7.9 22000000.00 114996853.00  "
      ],
      "text/html": "<div>\n<style scoped>\n    .dataframe tbody tr th:only-of-type {\n        vertical-align: middle;\n    }\n\n    .dataframe tbody tr th {\n        vertical-align: top;\n    }\n\n    .dataframe thead th {\n        text-align: right;\n    }\n</style>\n<table border=\"1\" class=\"dataframe\">\n  <thead>\n    <tr style=\"text-align: right;\">\n      <th></th>\n      <th>title</th>\n      <th>mpaa_rating</th>\n      <th>runtime</th>\n      <th>genre</th>\n      <th>star_rating</th>\n      <th>budget</th>\n      <th>revenue</th>\n    </tr>\n  </thead>\n  <tbody>\n    <tr>\n      <td>0</td>\n      <td>Cats</td>\n      <td>PG</td>\n      <td>110 min</td>\n      <td>\\nComedy, Drama, Family</td>\n      <td>2.8</td>\n      <td>95000000.00</td>\n      <td>73515024.00</td>\n    </tr>\n    <tr>\n      <td>1</td>\n      <td>Promising Young Woman</td>\n      <td>R</td>\n      <td>113 min</td>\n      <td>\\nComedy, Crime, Drama</td>\n      <td>6.1</td>\n      <td>0.00</td>\n      <td>0.00</td>\n    </tr>\n    <tr>\n      <td>2</td>\n      <td>Inheritance</td>\n      <td>NaN</td>\n      <td>111 min</td>\n      <td>\\nDrama, Mystery, Thriller</td>\n      <td>5.5</td>\n      <td>0.00</td>\n      <td>0.00</td>\n    </tr>\n    <tr>\n      <td>3</td>\n      <td>The Lie</td>\n      <td>R</td>\n      <td>97 min</td>\n      <td>\\nCrime, Drama, Horror</td>\n      <td>5.7</td>\n      <td>0.00</td>\n      <td>0.00</td>\n    </tr>\n    <tr>\n      <td>4</td>\n      <td>The Gentlemen</td>\n      <td>R</td>\n      <td>113 min</td>\n      <td>\\nAction, Comedy, Crime</td>\n      <td>7.9</td>\n      <td>22000000.00</td>\n      <td>114996853.00</td>\n    </tr>\n  </tbody>\n</table>\n</div>"
     },
     "metadata": {},
     "execution_count": 4
    }
   ],
   "source": [
    "df.head()"
   ]
  },
  {
   "source": [
    "That looks correct. Next, I want to look at my columns more in depth."
   ],
   "cell_type": "markdown",
   "metadata": {}
  },
  {
   "cell_type": "code",
   "execution_count": 5,
   "metadata": {},
   "outputs": [
    {
     "output_type": "stream",
     "name": "stdout",
     "text": [
      "<class 'pandas.core.frame.DataFrame'>\nRangeIndex: 10000 entries, 0 to 9999\nData columns (total 7 columns):\ntitle          10000 non-null object\nmpaa_rating    7237 non-null object\nruntime        9914 non-null object\ngenre          9998 non-null object\nstar_rating    9981 non-null object\nbudget         9922 non-null float64\nrevenue        9922 non-null float64\ndtypes: float64(2), object(5)\nmemory usage: 547.0+ KB\n"
     ]
    }
   ],
   "source": [
    "df.info()"
   ]
  },
  {
   "source": [
    "### Fixing Data Types\n",
    "\n",
    "It looks like two of my columns are not the right data type; `star_rating` should be a float, and `runtime` should be an integer. The first will be an easy fix, but since `runtime` contains both numbers and text, I'll need to turn it into a string, strip the text I don't want, and then turn the column into type int. \n",
    "\n",
    "Before I can do this to `runtime`, I'll have to clean the null values, since I can't turn a null value into a string. Since I'm missing this data point for only 91 out of my 10,000 movies, I'll go ahead and just remove these."
   ],
   "cell_type": "markdown",
   "metadata": {}
  },
  {
   "cell_type": "code",
   "execution_count": 6,
   "metadata": {},
   "outputs": [],
   "source": [
    "df.dropna(subset=['runtime'], inplace=True)"
   ]
  },
  {
   "cell_type": "code",
   "execution_count": 7,
   "metadata": {},
   "outputs": [
    {
     "output_type": "execute_result",
     "data": {
      "text/plain": [
       "0"
      ]
     },
     "metadata": {},
     "execution_count": 7
    }
   ],
   "source": [
    "df['runtime'].isna().sum()"
   ]
  },
  {
   "source": [
    "Now I can correct the data types of both `star_rating` and `runtime`."
   ],
   "cell_type": "markdown",
   "metadata": {}
  },
  {
   "cell_type": "code",
   "execution_count": 8,
   "metadata": {},
   "outputs": [],
   "source": [
    "df['runtime'] = df['runtime'].astype(str)\n",
    "df['runtime'] = df['runtime'].apply(lambda x: x.rstrip(' min'))\n",
    "df['runtime'] = df['runtime'].astype(int)"
   ]
  },
  {
   "cell_type": "code",
   "execution_count": 9,
   "metadata": {},
   "outputs": [],
   "source": [
    "df.rename(columns={'runtime': 'runtime_in_mins'}, inplace=True)"
   ]
  },
  {
   "cell_type": "code",
   "execution_count": 10,
   "metadata": {},
   "outputs": [],
   "source": [
    "df['star_rating'] = df['star_rating'].astype(float)"
   ]
  },
  {
   "cell_type": "code",
   "execution_count": 11,
   "metadata": {},
   "outputs": [
    {
     "output_type": "stream",
     "name": "stdout",
     "text": [
      "<class 'pandas.core.frame.DataFrame'>\nInt64Index: 9914 entries, 0 to 9999\nData columns (total 7 columns):\ntitle              9914 non-null object\nmpaa_rating        7227 non-null object\nruntime_in_mins    9914 non-null int64\ngenre              9913 non-null object\nstar_rating        9903 non-null float64\nbudget             9857 non-null float64\nrevenue            9857 non-null float64\ndtypes: float64(3), int64(1), object(3)\nmemory usage: 619.6+ KB\n"
     ]
    }
   ],
   "source": [
    "df.info()"
   ]
  },
  {
   "source": [
    "### Binning `mpaa_rating` Values\n",
    "\n",
    "Next, I'll look at the value count of my categorical column `mpaa_rating`."
   ],
   "cell_type": "markdown",
   "metadata": {}
  },
  {
   "cell_type": "code",
   "execution_count": 12,
   "metadata": {},
   "outputs": [
    {
     "output_type": "execute_result",
     "data": {
      "text/plain": [
       "NaN          2687\n",
       "R            2428\n",
       "Not Rated    1999\n",
       "PG-13        1122\n",
       "TV-MA         491\n",
       "PG            459\n",
       "Unrated       300\n",
       "TV-14         280\n",
       "TV-PG          75\n",
       "G              37\n",
       "TV-G           15\n",
       "TV-Y7           8\n",
       "NC-17           5\n",
       "M               4\n",
       "TV-Y            2\n",
       "MA-17           1\n",
       "18              1\n",
       "Name: mpaa_rating, dtype: int64"
      ]
     },
     "metadata": {},
     "execution_count": 12
    }
   ],
   "source": [
    "df['mpaa_rating'].value_counts(dropna=False)"
   ]
  },
  {
   "source": [
    "Immediately I notice that I have 3 different categories that should be combined into one: NA, 'Not Rated', and 'Unrated'."
   ],
   "cell_type": "markdown",
   "metadata": {}
  },
  {
   "cell_type": "code",
   "execution_count": 13,
   "metadata": {},
   "outputs": [],
   "source": [
    "df['mpaa_rating'].fillna('Not Rated', inplace=True)\n",
    "df['mpaa_rating'].replace('Unrated', 'Not Rated', inplace=True)"
   ]
  },
  {
   "source": [
    "df['mpaa_rating'].value_counts(dropna=False)"
   ],
   "cell_type": "code",
   "metadata": {},
   "execution_count": 14,
   "outputs": [
    {
     "output_type": "execute_result",
     "data": {
      "text/plain": [
       "Not Rated    4986\n",
       "R            2428\n",
       "PG-13        1122\n",
       "TV-MA         491\n",
       "PG            459\n",
       "TV-14         280\n",
       "TV-PG          75\n",
       "G              37\n",
       "TV-G           15\n",
       "TV-Y7           8\n",
       "NC-17           5\n",
       "M               4\n",
       "TV-Y            2\n",
       "18              1\n",
       "MA-17           1\n",
       "Name: mpaa_rating, dtype: int64"
      ]
     },
     "metadata": {},
     "execution_count": 14
    }
   ]
  },
  {
   "source": [
    "I still have a lot of different categories here. For my analysis, I really only care about what type of audience a movie is catering to, not the specific rating. As such, I'm going to combine the categories as follows:\n",
    "* 'All Ages' - 'G' and 'TV-G'\n",
    "* 'Children' - 'TV-Y' and 'TV-Y7'\n",
    "* 'Pre-teen+'  - 'PG' and 'TV-PG'\n",
    "* 'Teen+' - 'PG-13' and 'TV-14'\n",
    "* 'Adult' - 'R', 'NC-17', 'M', 'MA-17', '18' and 'TV-MA'\n",
    "\n",
    "I'll also rename the column to be `intended_audience`."
   ],
   "cell_type": "markdown",
   "metadata": {}
  },
  {
   "cell_type": "code",
   "execution_count": 15,
   "metadata": {},
   "outputs": [],
   "source": [
    "df['mpaa_rating'].replace(['G', 'TV-G'], 'All Ages', inplace=True)\n",
    "df['mpaa_rating'].replace(['TV-Y', 'TV-Y7'], 'Children', inplace=True)\n",
    "df['mpaa_rating'].replace(['PG', 'TV-PG'], 'Pre-teen+', inplace=True)\n",
    "df['mpaa_rating'].replace(['PG-13', 'TV-14'], 'Teen+', inplace=True)\n",
    "df['mpaa_rating'].replace(['R', 'NC-17', 'M', 'MA-17', '18', 'TV-MA'], 'Adult', inplace=True)"
   ]
  },
  {
   "cell_type": "code",
   "execution_count": 16,
   "metadata": {},
   "outputs": [],
   "source": [
    "df.rename(columns={'mpaa_rating': 'intended_audience'}, inplace=True)"
   ]
  },
  {
   "cell_type": "code",
   "execution_count": 17,
   "metadata": {},
   "outputs": [
    {
     "output_type": "execute_result",
     "data": {
      "text/plain": [
       "Not Rated    4986\n",
       "Adult        2930\n",
       "Teen+        1402\n",
       "Pre-teen+     534\n",
       "All Ages       52\n",
       "Children       10\n",
       "Name: intended_audience, dtype: int64"
      ]
     },
     "metadata": {},
     "execution_count": 17
    }
   ],
   "source": [
    "df['intended_audience'].value_counts(dropna=False)"
   ]
  },
  {
   "source": [
    "### Removing Leftover Null Values\n",
    "\n",
    "Another column that could use some quick cleaning is `genre`, which currently only has one null value. I'll fill that with \"No Genre\" to keep it as a string, and remove the leading newline character."
   ],
   "cell_type": "markdown",
   "metadata": {}
  },
  {
   "cell_type": "code",
   "execution_count": 18,
   "metadata": {},
   "outputs": [],
   "source": [
    "df['genre'].fillna(\"No Genre\", inplace=True)\n",
    "df['genre'] = df['genre'].apply(lambda x: x.lstrip('\\n'))"
   ]
  },
  {
   "source": [
    "The `star_rating` column also has 8 null values. I'll just remove these rows from my dataset since it will still leave me with plenty of data points to analyze."
   ],
   "cell_type": "markdown",
   "metadata": {}
  },
  {
   "cell_type": "code",
   "execution_count": 19,
   "metadata": {},
   "outputs": [],
   "source": [
    "df.dropna(subset=['star_rating'], inplace=True)"
   ]
  },
  {
   "cell_type": "code",
   "execution_count": 20,
   "metadata": {},
   "outputs": [
    {
     "output_type": "execute_result",
     "data": {
      "text/plain": [
       "(9903, 7)"
      ]
     },
     "metadata": {},
     "execution_count": 20
    }
   ],
   "source": [
    "df.shape"
   ]
  },
  {
   "source": [
    "### Creating a Finances Dataframe\n",
    "\n",
    "From the table, I see that some budget and revenue numbers are listed as 0. When analyzing movie budgets and revenue, I only want to analyze movies which have these data points. I'll create a new dataframe `df_finances` which I can use when analyzing the finances of the movies. \n",
    "\n",
    "To start off, I'll see how many 0 values I have for these."
   ],
   "cell_type": "markdown",
   "metadata": {}
  },
  {
   "cell_type": "code",
   "execution_count": 21,
   "metadata": {},
   "outputs": [
    {
     "output_type": "execute_result",
     "data": {
      "text/plain": [
       "title                   0\n",
       "intended_audience       0\n",
       "runtime_in_mins         0\n",
       "genre                   0\n",
       "star_rating             0\n",
       "budget               6809\n",
       "revenue              6945\n",
       "dtype: int64"
      ]
     },
     "metadata": {},
     "execution_count": 21
    }
   ],
   "source": [
    "df.isin([0]).sum()"
   ]
  },
  {
   "cell_type": "code",
   "execution_count": 22,
   "metadata": {},
   "outputs": [],
   "source": [
    "df_finances = df[df['revenue'] != 0] \n",
    "df_finances = df_finances[df_finances['budget'] != 0]\n",
    "df_finances.dropna(subset=['revenue', 'budget'], inplace=True)"
   ]
  },
  {
   "source": [
    "To this dataframe, I want to add a profit column as a combination of the budget and revenue columns."
   ],
   "cell_type": "markdown",
   "metadata": {}
  },
  {
   "cell_type": "code",
   "execution_count": 23,
   "metadata": {},
   "outputs": [],
   "source": [
    "df_finances['profit'] = df_finances['revenue'] - df_finances['budget']"
   ]
  },
  {
   "cell_type": "code",
   "execution_count": 24,
   "metadata": {},
   "outputs": [],
   "source": [
    "df_finances.reset_index(drop=True, inplace=True)"
   ]
  },
  {
   "cell_type": "code",
   "execution_count": 25,
   "metadata": {},
   "outputs": [
    {
     "output_type": "execute_result",
     "data": {
      "text/plain": [
       "                              title intended_audience  runtime_in_mins  \\\n",
       "0                              Cats         Pre-teen+              110   \n",
       "1                     The Gentlemen             Adult              113   \n",
       "2  Once Upon a Time... In Hollywood             Adult              161   \n",
       "3                 The Invisible Man             Adult              124   \n",
       "4                        Knives Out             Teen+              130   \n",
       "\n",
       "                                 genre  star_rating      budget      revenue  \\\n",
       "0    Comedy, Drama, Family                     2.80 95000000.00  73515024.00   \n",
       "1    Action, Comedy, Crime                     7.90 22000000.00 114996853.00   \n",
       "2            Comedy, Drama                     7.60 95000000.00 374251247.00   \n",
       "3  Horror, Mystery, Sci-Fi                     7.10  7000000.00 130234661.00   \n",
       "4     Comedy, Crime, Drama                     7.90 40000000.00 309232797.00   \n",
       "\n",
       "        profit  \n",
       "0 -21484976.00  \n",
       "1  92996853.00  \n",
       "2 279251247.00  \n",
       "3 123234661.00  \n",
       "4 269232797.00  "
      ],
      "text/html": "<div>\n<style scoped>\n    .dataframe tbody tr th:only-of-type {\n        vertical-align: middle;\n    }\n\n    .dataframe tbody tr th {\n        vertical-align: top;\n    }\n\n    .dataframe thead th {\n        text-align: right;\n    }\n</style>\n<table border=\"1\" class=\"dataframe\">\n  <thead>\n    <tr style=\"text-align: right;\">\n      <th></th>\n      <th>title</th>\n      <th>intended_audience</th>\n      <th>runtime_in_mins</th>\n      <th>genre</th>\n      <th>star_rating</th>\n      <th>budget</th>\n      <th>revenue</th>\n      <th>profit</th>\n    </tr>\n  </thead>\n  <tbody>\n    <tr>\n      <td>0</td>\n      <td>Cats</td>\n      <td>Pre-teen+</td>\n      <td>110</td>\n      <td>Comedy, Drama, Family</td>\n      <td>2.80</td>\n      <td>95000000.00</td>\n      <td>73515024.00</td>\n      <td>-21484976.00</td>\n    </tr>\n    <tr>\n      <td>1</td>\n      <td>The Gentlemen</td>\n      <td>Adult</td>\n      <td>113</td>\n      <td>Action, Comedy, Crime</td>\n      <td>7.90</td>\n      <td>22000000.00</td>\n      <td>114996853.00</td>\n      <td>92996853.00</td>\n    </tr>\n    <tr>\n      <td>2</td>\n      <td>Once Upon a Time... In Hollywood</td>\n      <td>Adult</td>\n      <td>161</td>\n      <td>Comedy, Drama</td>\n      <td>7.60</td>\n      <td>95000000.00</td>\n      <td>374251247.00</td>\n      <td>279251247.00</td>\n    </tr>\n    <tr>\n      <td>3</td>\n      <td>The Invisible Man</td>\n      <td>Adult</td>\n      <td>124</td>\n      <td>Horror, Mystery, Sci-Fi</td>\n      <td>7.10</td>\n      <td>7000000.00</td>\n      <td>130234661.00</td>\n      <td>123234661.00</td>\n    </tr>\n    <tr>\n      <td>4</td>\n      <td>Knives Out</td>\n      <td>Teen+</td>\n      <td>130</td>\n      <td>Comedy, Crime, Drama</td>\n      <td>7.90</td>\n      <td>40000000.00</td>\n      <td>309232797.00</td>\n      <td>269232797.00</td>\n    </tr>\n  </tbody>\n</table>\n</div>"
     },
     "metadata": {},
     "execution_count": 25
    }
   ],
   "source": [
    "df_finances.head()"
   ]
  },
  {
   "source": [
    "Next, I'd like to see the statistics for these finances."
   ],
   "cell_type": "markdown",
   "metadata": {}
  },
  {
   "cell_type": "code",
   "execution_count": 26,
   "metadata": {},
   "outputs": [
    {
     "output_type": "execute_result",
     "data": {
      "text/plain": [
       "       runtime_in_mins  star_rating       budget       revenue        profit\n",
       "count          2077.00      2077.00      2077.00       2077.00       2077.00\n",
       "mean            111.61         6.44  39014047.49  126147488.34   87133440.85\n",
       "std              19.73         1.00  51486614.89  234047903.40  196566000.20\n",
       "min              63.00         1.40         1.00          4.00 -165710090.00\n",
       "25%              97.00         5.80   7000000.00    7200000.00   -1195000.00\n",
       "50%             108.00         6.50  20000000.00   39407616.00   16391084.00\n",
       "75%             123.00         7.10  45000000.00  130482868.00   84281051.00\n",
       "max             321.00         8.80 380000000.00 2797800564.00 2441800564.00"
      ],
      "text/html": "<div>\n<style scoped>\n    .dataframe tbody tr th:only-of-type {\n        vertical-align: middle;\n    }\n\n    .dataframe tbody tr th {\n        vertical-align: top;\n    }\n\n    .dataframe thead th {\n        text-align: right;\n    }\n</style>\n<table border=\"1\" class=\"dataframe\">\n  <thead>\n    <tr style=\"text-align: right;\">\n      <th></th>\n      <th>runtime_in_mins</th>\n      <th>star_rating</th>\n      <th>budget</th>\n      <th>revenue</th>\n      <th>profit</th>\n    </tr>\n  </thead>\n  <tbody>\n    <tr>\n      <td>count</td>\n      <td>2077.00</td>\n      <td>2077.00</td>\n      <td>2077.00</td>\n      <td>2077.00</td>\n      <td>2077.00</td>\n    </tr>\n    <tr>\n      <td>mean</td>\n      <td>111.61</td>\n      <td>6.44</td>\n      <td>39014047.49</td>\n      <td>126147488.34</td>\n      <td>87133440.85</td>\n    </tr>\n    <tr>\n      <td>std</td>\n      <td>19.73</td>\n      <td>1.00</td>\n      <td>51486614.89</td>\n      <td>234047903.40</td>\n      <td>196566000.20</td>\n    </tr>\n    <tr>\n      <td>min</td>\n      <td>63.00</td>\n      <td>1.40</td>\n      <td>1.00</td>\n      <td>4.00</td>\n      <td>-165710090.00</td>\n    </tr>\n    <tr>\n      <td>25%</td>\n      <td>97.00</td>\n      <td>5.80</td>\n      <td>7000000.00</td>\n      <td>7200000.00</td>\n      <td>-1195000.00</td>\n    </tr>\n    <tr>\n      <td>50%</td>\n      <td>108.00</td>\n      <td>6.50</td>\n      <td>20000000.00</td>\n      <td>39407616.00</td>\n      <td>16391084.00</td>\n    </tr>\n    <tr>\n      <td>75%</td>\n      <td>123.00</td>\n      <td>7.10</td>\n      <td>45000000.00</td>\n      <td>130482868.00</td>\n      <td>84281051.00</td>\n    </tr>\n    <tr>\n      <td>max</td>\n      <td>321.00</td>\n      <td>8.80</td>\n      <td>380000000.00</td>\n      <td>2797800564.00</td>\n      <td>2441800564.00</td>\n    </tr>\n  </tbody>\n</table>\n</div>"
     },
     "metadata": {},
     "execution_count": 26
    }
   ],
   "source": [
    "df_finances.describe()"
   ]
  },
  {
   "source": [
    "To remove outliers, I'll look at a boxplot and remove any elements which fall outside of the fences. Since I'm just analyzing this data to answer business questions, I don't need to worry about how removing this data would affect a model's predictions."
   ],
   "cell_type": "markdown",
   "metadata": {}
  },
  {
   "cell_type": "code",
   "execution_count": 44,
   "metadata": {},
   "outputs": [
    {
     "output_type": "execute_result",
     "data": {
      "text/plain": [
       "<matplotlib.axes._subplots.AxesSubplot at 0x7fdda2029650>"
      ]
     },
     "metadata": {},
     "execution_count": 44
    },
    {
     "output_type": "display_data",
     "data": {
      "text/plain": "<Figure size 432x288 with 1 Axes>",
      "image/svg+xml": "<?xml version=\"1.0\" encoding=\"utf-8\" standalone=\"no\"?>\n<!DOCTYPE svg PUBLIC \"-//W3C//DTD SVG 1.1//EN\"\n  \"http://www.w3.org/Graphics/SVG/1.1/DTD/svg11.dtd\">\n<!-- Created with matplotlib (https://matplotlib.org/) -->\n<svg height=\"259.116562pt\" version=\"1.1\" viewBox=\"0 0 372.103125 259.116562\" width=\"372.103125pt\" xmlns=\"http://www.w3.org/2000/svg\" xmlns:xlink=\"http://www.w3.org/1999/xlink\">\n <defs>\n  <style type=\"text/css\">\n*{stroke-linecap:butt;stroke-linejoin:round;}\n  </style>\n </defs>\n <g id=\"figure_1\">\n  <g id=\"patch_1\">\n   <path d=\"M 0 259.116562 \nL 372.103125 259.116562 \nL 372.103125 0 \nL 0 0 \nz\n\" style=\"fill:none;\"/>\n  </g>\n  <g id=\"axes_1\">\n   <g id=\"patch_2\">\n    <path d=\"M 30.103125 235.238437 \nL 364.903125 235.238437 \nL 364.903125 17.798437 \nL 30.103125 17.798437 \nz\n\" style=\"fill:#ffffff;\"/>\n   </g>\n   <g id=\"matplotlib.axis_1\">\n    <g id=\"xtick_1\">\n     <g id=\"line2d_1\">\n      <path clip-path=\"url(#p54aae68bef)\" d=\"M 197.503125 235.238437 \nL 197.503125 17.798437 \n\" style=\"fill:none;stroke:#b0b0b0;stroke-linecap:square;stroke-width:0.8;\"/>\n     </g>\n     <g id=\"line2d_2\">\n      <defs>\n       <path d=\"M 0 0 \nL 0 3.5 \n\" id=\"m749de29e8e\" style=\"stroke:#000000;stroke-width:0.8;\"/>\n      </defs>\n      <g>\n       <use style=\"stroke:#000000;stroke-width:0.8;\" x=\"197.503125\" xlink:href=\"#m749de29e8e\" y=\"235.238437\"/>\n      </g>\n     </g>\n     <g id=\"text_1\">\n      <!-- budget -->\n      <defs>\n       <path d=\"M 48.6875 27.296875 \nQ 48.6875 37.203125 44.609375 42.84375 \nQ 40.53125 48.484375 33.40625 48.484375 \nQ 26.265625 48.484375 22.1875 42.84375 \nQ 18.109375 37.203125 18.109375 27.296875 \nQ 18.109375 17.390625 22.1875 11.75 \nQ 26.265625 6.109375 33.40625 6.109375 \nQ 40.53125 6.109375 44.609375 11.75 \nQ 48.6875 17.390625 48.6875 27.296875 \nz\nM 18.109375 46.390625 \nQ 20.953125 51.265625 25.265625 53.625 \nQ 29.59375 56 35.59375 56 \nQ 45.5625 56 51.78125 48.09375 \nQ 58.015625 40.1875 58.015625 27.296875 \nQ 58.015625 14.40625 51.78125 6.484375 \nQ 45.5625 -1.421875 35.59375 -1.421875 \nQ 29.59375 -1.421875 25.265625 0.953125 \nQ 20.953125 3.328125 18.109375 8.203125 \nL 18.109375 0 \nL 9.078125 0 \nL 9.078125 75.984375 \nL 18.109375 75.984375 \nz\n\" id=\"DejaVuSans-98\"/>\n       <path d=\"M 8.5 21.578125 \nL 8.5 54.6875 \nL 17.484375 54.6875 \nL 17.484375 21.921875 \nQ 17.484375 14.15625 20.5 10.265625 \nQ 23.53125 6.390625 29.59375 6.390625 \nQ 36.859375 6.390625 41.078125 11.03125 \nQ 45.3125 15.671875 45.3125 23.6875 \nL 45.3125 54.6875 \nL 54.296875 54.6875 \nL 54.296875 0 \nL 45.3125 0 \nL 45.3125 8.40625 \nQ 42.046875 3.421875 37.71875 1 \nQ 33.40625 -1.421875 27.6875 -1.421875 \nQ 18.265625 -1.421875 13.375 4.4375 \nQ 8.5 10.296875 8.5 21.578125 \nz\nM 31.109375 56 \nz\n\" id=\"DejaVuSans-117\"/>\n       <path d=\"M 45.40625 46.390625 \nL 45.40625 75.984375 \nL 54.390625 75.984375 \nL 54.390625 0 \nL 45.40625 0 \nL 45.40625 8.203125 \nQ 42.578125 3.328125 38.25 0.953125 \nQ 33.9375 -1.421875 27.875 -1.421875 \nQ 17.96875 -1.421875 11.734375 6.484375 \nQ 5.515625 14.40625 5.515625 27.296875 \nQ 5.515625 40.1875 11.734375 48.09375 \nQ 17.96875 56 27.875 56 \nQ 33.9375 56 38.25 53.625 \nQ 42.578125 51.265625 45.40625 46.390625 \nz\nM 14.796875 27.296875 \nQ 14.796875 17.390625 18.875 11.75 \nQ 22.953125 6.109375 30.078125 6.109375 \nQ 37.203125 6.109375 41.296875 11.75 \nQ 45.40625 17.390625 45.40625 27.296875 \nQ 45.40625 37.203125 41.296875 42.84375 \nQ 37.203125 48.484375 30.078125 48.484375 \nQ 22.953125 48.484375 18.875 42.84375 \nQ 14.796875 37.203125 14.796875 27.296875 \nz\n\" id=\"DejaVuSans-100\"/>\n       <path d=\"M 45.40625 27.984375 \nQ 45.40625 37.75 41.375 43.109375 \nQ 37.359375 48.484375 30.078125 48.484375 \nQ 22.859375 48.484375 18.828125 43.109375 \nQ 14.796875 37.75 14.796875 27.984375 \nQ 14.796875 18.265625 18.828125 12.890625 \nQ 22.859375 7.515625 30.078125 7.515625 \nQ 37.359375 7.515625 41.375 12.890625 \nQ 45.40625 18.265625 45.40625 27.984375 \nz\nM 54.390625 6.78125 \nQ 54.390625 -7.171875 48.1875 -13.984375 \nQ 42 -20.796875 29.203125 -20.796875 \nQ 24.46875 -20.796875 20.265625 -20.09375 \nQ 16.0625 -19.390625 12.109375 -17.921875 \nL 12.109375 -9.1875 \nQ 16.0625 -11.328125 19.921875 -12.34375 \nQ 23.78125 -13.375 27.78125 -13.375 \nQ 36.625 -13.375 41.015625 -8.765625 \nQ 45.40625 -4.15625 45.40625 5.171875 \nL 45.40625 9.625 \nQ 42.625 4.78125 38.28125 2.390625 \nQ 33.9375 0 27.875 0 \nQ 17.828125 0 11.671875 7.65625 \nQ 5.515625 15.328125 5.515625 27.984375 \nQ 5.515625 40.671875 11.671875 48.328125 \nQ 17.828125 56 27.875 56 \nQ 33.9375 56 38.28125 53.609375 \nQ 42.625 51.21875 45.40625 46.390625 \nL 45.40625 54.6875 \nL 54.390625 54.6875 \nz\n\" id=\"DejaVuSans-103\"/>\n       <path d=\"M 56.203125 29.59375 \nL 56.203125 25.203125 \nL 14.890625 25.203125 \nQ 15.484375 15.921875 20.484375 11.0625 \nQ 25.484375 6.203125 34.421875 6.203125 \nQ 39.59375 6.203125 44.453125 7.46875 \nQ 49.3125 8.734375 54.109375 11.28125 \nL 54.109375 2.78125 \nQ 49.265625 0.734375 44.1875 -0.34375 \nQ 39.109375 -1.421875 33.890625 -1.421875 \nQ 20.796875 -1.421875 13.15625 6.1875 \nQ 5.515625 13.8125 5.515625 26.8125 \nQ 5.515625 40.234375 12.765625 48.109375 \nQ 20.015625 56 32.328125 56 \nQ 43.359375 56 49.78125 48.890625 \nQ 56.203125 41.796875 56.203125 29.59375 \nz\nM 47.21875 32.234375 \nQ 47.125 39.59375 43.09375 43.984375 \nQ 39.0625 48.390625 32.421875 48.390625 \nQ 24.90625 48.390625 20.390625 44.140625 \nQ 15.875 39.890625 15.1875 32.171875 \nz\n\" id=\"DejaVuSans-101\"/>\n       <path d=\"M 18.3125 70.21875 \nL 18.3125 54.6875 \nL 36.8125 54.6875 \nL 36.8125 47.703125 \nL 18.3125 47.703125 \nL 18.3125 18.015625 \nQ 18.3125 11.328125 20.140625 9.421875 \nQ 21.96875 7.515625 27.59375 7.515625 \nL 36.8125 7.515625 \nL 36.8125 0 \nL 27.59375 0 \nQ 17.1875 0 13.234375 3.875 \nQ 9.28125 7.765625 9.28125 18.015625 \nL 9.28125 47.703125 \nL 2.6875 47.703125 \nL 2.6875 54.6875 \nL 9.28125 54.6875 \nL 9.28125 70.21875 \nz\n\" id=\"DejaVuSans-116\"/>\n      </defs>\n      <g transform=\"translate(179.775 249.836875)scale(0.1 -0.1)\">\n       <use xlink:href=\"#DejaVuSans-98\"/>\n       <use x=\"63.476562\" xlink:href=\"#DejaVuSans-117\"/>\n       <use x=\"126.855469\" xlink:href=\"#DejaVuSans-100\"/>\n       <use x=\"190.332031\" xlink:href=\"#DejaVuSans-103\"/>\n       <use x=\"253.808594\" xlink:href=\"#DejaVuSans-101\"/>\n       <use x=\"315.332031\" xlink:href=\"#DejaVuSans-116\"/>\n      </g>\n     </g>\n    </g>\n   </g>\n   <g id=\"matplotlib.axis_2\">\n    <g id=\"ytick_1\">\n     <g id=\"line2d_3\">\n      <path clip-path=\"url(#p54aae68bef)\" d=\"M 30.103125 225.354802 \nL 364.903125 225.354802 \n\" style=\"fill:none;stroke:#b0b0b0;stroke-linecap:square;stroke-width:0.8;\"/>\n     </g>\n     <g id=\"line2d_4\">\n      <defs>\n       <path d=\"M 0 0 \nL -3.5 0 \n\" id=\"md892f780ba\" style=\"stroke:#000000;stroke-width:0.8;\"/>\n      </defs>\n      <g>\n       <use style=\"stroke:#000000;stroke-width:0.8;\" x=\"30.103125\" xlink:href=\"#md892f780ba\" y=\"225.354802\"/>\n      </g>\n     </g>\n     <g id=\"text_2\">\n      <!-- 0.0 -->\n      <defs>\n       <path d=\"M 31.78125 66.40625 \nQ 24.171875 66.40625 20.328125 58.90625 \nQ 16.5 51.421875 16.5 36.375 \nQ 16.5 21.390625 20.328125 13.890625 \nQ 24.171875 6.390625 31.78125 6.390625 \nQ 39.453125 6.390625 43.28125 13.890625 \nQ 47.125 21.390625 47.125 36.375 \nQ 47.125 51.421875 43.28125 58.90625 \nQ 39.453125 66.40625 31.78125 66.40625 \nz\nM 31.78125 74.21875 \nQ 44.046875 74.21875 50.515625 64.515625 \nQ 56.984375 54.828125 56.984375 36.375 \nQ 56.984375 17.96875 50.515625 8.265625 \nQ 44.046875 -1.421875 31.78125 -1.421875 \nQ 19.53125 -1.421875 13.0625 8.265625 \nQ 6.59375 17.96875 6.59375 36.375 \nQ 6.59375 54.828125 13.0625 64.515625 \nQ 19.53125 74.21875 31.78125 74.21875 \nz\n\" id=\"DejaVuSans-48\"/>\n       <path d=\"M 10.6875 12.40625 \nL 21 12.40625 \nL 21 0 \nL 10.6875 0 \nz\n\" id=\"DejaVuSans-46\"/>\n      </defs>\n      <g transform=\"translate(7.2 229.15402)scale(0.1 -0.1)\">\n       <use xlink:href=\"#DejaVuSans-48\"/>\n       <use x=\"63.623047\" xlink:href=\"#DejaVuSans-46\"/>\n       <use x=\"95.410156\" xlink:href=\"#DejaVuSans-48\"/>\n      </g>\n     </g>\n    </g>\n    <g id=\"ytick_2\">\n     <g id=\"line2d_5\">\n      <path clip-path=\"url(#p54aae68bef)\" d=\"M 30.103125 199.345232 \nL 364.903125 199.345232 \n\" style=\"fill:none;stroke:#b0b0b0;stroke-linecap:square;stroke-width:0.8;\"/>\n     </g>\n     <g id=\"line2d_6\">\n      <g>\n       <use style=\"stroke:#000000;stroke-width:0.8;\" x=\"30.103125\" xlink:href=\"#md892f780ba\" y=\"199.345232\"/>\n      </g>\n     </g>\n     <g id=\"text_3\">\n      <!-- 0.5 -->\n      <defs>\n       <path d=\"M 10.796875 72.90625 \nL 49.515625 72.90625 \nL 49.515625 64.59375 \nL 19.828125 64.59375 \nL 19.828125 46.734375 \nQ 21.96875 47.46875 24.109375 47.828125 \nQ 26.265625 48.1875 28.421875 48.1875 \nQ 40.625 48.1875 47.75 41.5 \nQ 54.890625 34.8125 54.890625 23.390625 \nQ 54.890625 11.625 47.5625 5.09375 \nQ 40.234375 -1.421875 26.90625 -1.421875 \nQ 22.3125 -1.421875 17.546875 -0.640625 \nQ 12.796875 0.140625 7.71875 1.703125 \nL 7.71875 11.625 \nQ 12.109375 9.234375 16.796875 8.0625 \nQ 21.484375 6.890625 26.703125 6.890625 \nQ 35.15625 6.890625 40.078125 11.328125 \nQ 45.015625 15.765625 45.015625 23.390625 \nQ 45.015625 31 40.078125 35.4375 \nQ 35.15625 39.890625 26.703125 39.890625 \nQ 22.75 39.890625 18.8125 39.015625 \nQ 14.890625 38.140625 10.796875 36.28125 \nz\n\" id=\"DejaVuSans-53\"/>\n      </defs>\n      <g transform=\"translate(7.2 203.144451)scale(0.1 -0.1)\">\n       <use xlink:href=\"#DejaVuSans-48\"/>\n       <use x=\"63.623047\" xlink:href=\"#DejaVuSans-46\"/>\n       <use x=\"95.410156\" xlink:href=\"#DejaVuSans-53\"/>\n      </g>\n     </g>\n    </g>\n    <g id=\"ytick_3\">\n     <g id=\"line2d_7\">\n      <path clip-path=\"url(#p54aae68bef)\" d=\"M 30.103125 173.335663 \nL 364.903125 173.335663 \n\" style=\"fill:none;stroke:#b0b0b0;stroke-linecap:square;stroke-width:0.8;\"/>\n     </g>\n     <g id=\"line2d_8\">\n      <g>\n       <use style=\"stroke:#000000;stroke-width:0.8;\" x=\"30.103125\" xlink:href=\"#md892f780ba\" y=\"173.335663\"/>\n      </g>\n     </g>\n     <g id=\"text_4\">\n      <!-- 1.0 -->\n      <defs>\n       <path d=\"M 12.40625 8.296875 \nL 28.515625 8.296875 \nL 28.515625 63.921875 \nL 10.984375 60.40625 \nL 10.984375 69.390625 \nL 28.421875 72.90625 \nL 38.28125 72.90625 \nL 38.28125 8.296875 \nL 54.390625 8.296875 \nL 54.390625 0 \nL 12.40625 0 \nz\n\" id=\"DejaVuSans-49\"/>\n      </defs>\n      <g transform=\"translate(7.2 177.134882)scale(0.1 -0.1)\">\n       <use xlink:href=\"#DejaVuSans-49\"/>\n       <use x=\"63.623047\" xlink:href=\"#DejaVuSans-46\"/>\n       <use x=\"95.410156\" xlink:href=\"#DejaVuSans-48\"/>\n      </g>\n     </g>\n    </g>\n    <g id=\"ytick_4\">\n     <g id=\"line2d_9\">\n      <path clip-path=\"url(#p54aae68bef)\" d=\"M 30.103125 147.326093 \nL 364.903125 147.326093 \n\" style=\"fill:none;stroke:#b0b0b0;stroke-linecap:square;stroke-width:0.8;\"/>\n     </g>\n     <g id=\"line2d_10\">\n      <g>\n       <use style=\"stroke:#000000;stroke-width:0.8;\" x=\"30.103125\" xlink:href=\"#md892f780ba\" y=\"147.326093\"/>\n      </g>\n     </g>\n     <g id=\"text_5\">\n      <!-- 1.5 -->\n      <g transform=\"translate(7.2 151.125312)scale(0.1 -0.1)\">\n       <use xlink:href=\"#DejaVuSans-49\"/>\n       <use x=\"63.623047\" xlink:href=\"#DejaVuSans-46\"/>\n       <use x=\"95.410156\" xlink:href=\"#DejaVuSans-53\"/>\n      </g>\n     </g>\n    </g>\n    <g id=\"ytick_5\">\n     <g id=\"line2d_11\">\n      <path clip-path=\"url(#p54aae68bef)\" d=\"M 30.103125 121.316524 \nL 364.903125 121.316524 \n\" style=\"fill:none;stroke:#b0b0b0;stroke-linecap:square;stroke-width:0.8;\"/>\n     </g>\n     <g id=\"line2d_12\">\n      <g>\n       <use style=\"stroke:#000000;stroke-width:0.8;\" x=\"30.103125\" xlink:href=\"#md892f780ba\" y=\"121.316524\"/>\n      </g>\n     </g>\n     <g id=\"text_6\">\n      <!-- 2.0 -->\n      <defs>\n       <path d=\"M 19.1875 8.296875 \nL 53.609375 8.296875 \nL 53.609375 0 \nL 7.328125 0 \nL 7.328125 8.296875 \nQ 12.9375 14.109375 22.625 23.890625 \nQ 32.328125 33.6875 34.8125 36.53125 \nQ 39.546875 41.84375 41.421875 45.53125 \nQ 43.3125 49.21875 43.3125 52.78125 \nQ 43.3125 58.59375 39.234375 62.25 \nQ 35.15625 65.921875 28.609375 65.921875 \nQ 23.96875 65.921875 18.8125 64.3125 \nQ 13.671875 62.703125 7.8125 59.421875 \nL 7.8125 69.390625 \nQ 13.765625 71.78125 18.9375 73 \nQ 24.125 74.21875 28.421875 74.21875 \nQ 39.75 74.21875 46.484375 68.546875 \nQ 53.21875 62.890625 53.21875 53.421875 \nQ 53.21875 48.921875 51.53125 44.890625 \nQ 49.859375 40.875 45.40625 35.40625 \nQ 44.1875 33.984375 37.640625 27.21875 \nQ 31.109375 20.453125 19.1875 8.296875 \nz\n\" id=\"DejaVuSans-50\"/>\n      </defs>\n      <g transform=\"translate(7.2 125.115743)scale(0.1 -0.1)\">\n       <use xlink:href=\"#DejaVuSans-50\"/>\n       <use x=\"63.623047\" xlink:href=\"#DejaVuSans-46\"/>\n       <use x=\"95.410156\" xlink:href=\"#DejaVuSans-48\"/>\n      </g>\n     </g>\n    </g>\n    <g id=\"ytick_6\">\n     <g id=\"line2d_13\">\n      <path clip-path=\"url(#p54aae68bef)\" d=\"M 30.103125 95.306954 \nL 364.903125 95.306954 \n\" style=\"fill:none;stroke:#b0b0b0;stroke-linecap:square;stroke-width:0.8;\"/>\n     </g>\n     <g id=\"line2d_14\">\n      <g>\n       <use style=\"stroke:#000000;stroke-width:0.8;\" x=\"30.103125\" xlink:href=\"#md892f780ba\" y=\"95.306954\"/>\n      </g>\n     </g>\n     <g id=\"text_7\">\n      <!-- 2.5 -->\n      <g transform=\"translate(7.2 99.106173)scale(0.1 -0.1)\">\n       <use xlink:href=\"#DejaVuSans-50\"/>\n       <use x=\"63.623047\" xlink:href=\"#DejaVuSans-46\"/>\n       <use x=\"95.410156\" xlink:href=\"#DejaVuSans-53\"/>\n      </g>\n     </g>\n    </g>\n    <g id=\"ytick_7\">\n     <g id=\"line2d_15\">\n      <path clip-path=\"url(#p54aae68bef)\" d=\"M 30.103125 69.297385 \nL 364.903125 69.297385 \n\" style=\"fill:none;stroke:#b0b0b0;stroke-linecap:square;stroke-width:0.8;\"/>\n     </g>\n     <g id=\"line2d_16\">\n      <g>\n       <use style=\"stroke:#000000;stroke-width:0.8;\" x=\"30.103125\" xlink:href=\"#md892f780ba\" y=\"69.297385\"/>\n      </g>\n     </g>\n     <g id=\"text_8\">\n      <!-- 3.0 -->\n      <defs>\n       <path d=\"M 40.578125 39.3125 \nQ 47.65625 37.796875 51.625 33 \nQ 55.609375 28.21875 55.609375 21.1875 \nQ 55.609375 10.40625 48.1875 4.484375 \nQ 40.765625 -1.421875 27.09375 -1.421875 \nQ 22.515625 -1.421875 17.65625 -0.515625 \nQ 12.796875 0.390625 7.625 2.203125 \nL 7.625 11.71875 \nQ 11.71875 9.328125 16.59375 8.109375 \nQ 21.484375 6.890625 26.8125 6.890625 \nQ 36.078125 6.890625 40.9375 10.546875 \nQ 45.796875 14.203125 45.796875 21.1875 \nQ 45.796875 27.640625 41.28125 31.265625 \nQ 36.765625 34.90625 28.71875 34.90625 \nL 20.21875 34.90625 \nL 20.21875 43.015625 \nL 29.109375 43.015625 \nQ 36.375 43.015625 40.234375 45.921875 \nQ 44.09375 48.828125 44.09375 54.296875 \nQ 44.09375 59.90625 40.109375 62.90625 \nQ 36.140625 65.921875 28.71875 65.921875 \nQ 24.65625 65.921875 20.015625 65.03125 \nQ 15.375 64.15625 9.8125 62.3125 \nL 9.8125 71.09375 \nQ 15.4375 72.65625 20.34375 73.4375 \nQ 25.25 74.21875 29.59375 74.21875 \nQ 40.828125 74.21875 47.359375 69.109375 \nQ 53.90625 64.015625 53.90625 55.328125 \nQ 53.90625 49.265625 50.4375 45.09375 \nQ 46.96875 40.921875 40.578125 39.3125 \nz\n\" id=\"DejaVuSans-51\"/>\n      </defs>\n      <g transform=\"translate(7.2 73.096604)scale(0.1 -0.1)\">\n       <use xlink:href=\"#DejaVuSans-51\"/>\n       <use x=\"63.623047\" xlink:href=\"#DejaVuSans-46\"/>\n       <use x=\"95.410156\" xlink:href=\"#DejaVuSans-48\"/>\n      </g>\n     </g>\n    </g>\n    <g id=\"ytick_8\">\n     <g id=\"line2d_17\">\n      <path clip-path=\"url(#p54aae68bef)\" d=\"M 30.103125 43.287816 \nL 364.903125 43.287816 \n\" style=\"fill:none;stroke:#b0b0b0;stroke-linecap:square;stroke-width:0.8;\"/>\n     </g>\n     <g id=\"line2d_18\">\n      <g>\n       <use style=\"stroke:#000000;stroke-width:0.8;\" x=\"30.103125\" xlink:href=\"#md892f780ba\" y=\"43.287816\"/>\n      </g>\n     </g>\n     <g id=\"text_9\">\n      <!-- 3.5 -->\n      <g transform=\"translate(7.2 47.087034)scale(0.1 -0.1)\">\n       <use xlink:href=\"#DejaVuSans-51\"/>\n       <use x=\"63.623047\" xlink:href=\"#DejaVuSans-46\"/>\n       <use x=\"95.410156\" xlink:href=\"#DejaVuSans-53\"/>\n      </g>\n     </g>\n    </g>\n    <g id=\"text_10\">\n     <!-- 1e8 -->\n     <defs>\n      <path d=\"M 31.78125 34.625 \nQ 24.75 34.625 20.71875 30.859375 \nQ 16.703125 27.09375 16.703125 20.515625 \nQ 16.703125 13.921875 20.71875 10.15625 \nQ 24.75 6.390625 31.78125 6.390625 \nQ 38.8125 6.390625 42.859375 10.171875 \nQ 46.921875 13.96875 46.921875 20.515625 \nQ 46.921875 27.09375 42.890625 30.859375 \nQ 38.875 34.625 31.78125 34.625 \nz\nM 21.921875 38.8125 \nQ 15.578125 40.375 12.03125 44.71875 \nQ 8.5 49.078125 8.5 55.328125 \nQ 8.5 64.0625 14.71875 69.140625 \nQ 20.953125 74.21875 31.78125 74.21875 \nQ 42.671875 74.21875 48.875 69.140625 \nQ 55.078125 64.0625 55.078125 55.328125 \nQ 55.078125 49.078125 51.53125 44.71875 \nQ 48 40.375 41.703125 38.8125 \nQ 48.828125 37.15625 52.796875 32.3125 \nQ 56.78125 27.484375 56.78125 20.515625 \nQ 56.78125 9.90625 50.3125 4.234375 \nQ 43.84375 -1.421875 31.78125 -1.421875 \nQ 19.734375 -1.421875 13.25 4.234375 \nQ 6.78125 9.90625 6.78125 20.515625 \nQ 6.78125 27.484375 10.78125 32.3125 \nQ 14.796875 37.15625 21.921875 38.8125 \nz\nM 18.3125 54.390625 \nQ 18.3125 48.734375 21.84375 45.5625 \nQ 25.390625 42.390625 31.78125 42.390625 \nQ 38.140625 42.390625 41.71875 45.5625 \nQ 45.3125 48.734375 45.3125 54.390625 \nQ 45.3125 60.0625 41.71875 63.234375 \nQ 38.140625 66.40625 31.78125 66.40625 \nQ 25.390625 66.40625 21.84375 63.234375 \nQ 18.3125 60.0625 18.3125 54.390625 \nz\n\" id=\"DejaVuSans-56\"/>\n     </defs>\n     <g transform=\"translate(30.103125 14.798437)scale(0.1 -0.1)\">\n      <use xlink:href=\"#DejaVuSans-49\"/>\n      <use x=\"63.623047\" xlink:href=\"#DejaVuSans-101\"/>\n      <use x=\"125.146484\" xlink:href=\"#DejaVuSans-56\"/>\n     </g>\n    </g>\n   </g>\n   <g id=\"line2d_19\">\n    <path clip-path=\"url(#p54aae68bef)\" d=\"M 172.393125 221.713462 \nL 222.613125 221.713462 \nL 222.613125 201.946189 \nL 172.393125 201.946189 \nL 172.393125 221.713462 \n\" style=\"fill:none;stroke:#1f77b4;stroke-linecap:square;\"/>\n   </g>\n   <g id=\"line2d_20\">\n    <path clip-path=\"url(#p54aae68bef)\" d=\"M 197.503125 221.713462 \nL 197.503125 225.354801 \n\" style=\"fill:none;stroke:#1f77b4;stroke-linecap:square;\"/>\n   </g>\n   <g id=\"line2d_21\">\n    <path clip-path=\"url(#p54aae68bef)\" d=\"M 197.503125 201.946189 \nL 197.503125 172.29528 \n\" style=\"fill:none;stroke:#1f77b4;stroke-linecap:square;\"/>\n   </g>\n   <g id=\"line2d_22\">\n    <path clip-path=\"url(#p54aae68bef)\" d=\"M 184.948125 225.354801 \nL 210.058125 225.354801 \n\" style=\"fill:none;stroke:#000000;stroke-linecap:square;\"/>\n   </g>\n   <g id=\"line2d_23\">\n    <path clip-path=\"url(#p54aae68bef)\" d=\"M 184.948125 172.29528 \nL 210.058125 172.29528 \n\" style=\"fill:none;stroke:#000000;stroke-linecap:square;\"/>\n   </g>\n   <g id=\"line2d_24\">\n    <defs>\n     <path d=\"M 0 3 \nC 0.795609 3 1.55874 2.683901 2.12132 2.12132 \nC 2.683901 1.55874 3 0.795609 3 0 \nC 3 -0.795609 2.683901 -1.55874 2.12132 -2.12132 \nC 1.55874 -2.683901 0.795609 -3 0 -3 \nC -0.795609 -3 -1.55874 -2.683901 -2.12132 -2.12132 \nC -2.683901 -1.55874 -3 -0.795609 -3 0 \nC -3 0.795609 -2.683901 1.55874 -2.12132 2.12132 \nC -1.55874 2.683901 -0.795609 3 0 3 \nz\n\" id=\"m1270ec278b\" style=\"stroke:#000000;\"/>\n    </defs>\n    <g clip-path=\"url(#p54aae68bef)\">\n     <use style=\"fill-opacity:0;stroke:#000000;\" x=\"197.503125\" xlink:href=\"#m1270ec278b\" y=\"121.316524\"/>\n     <use style=\"fill-opacity:0;stroke:#000000;\" x=\"197.503125\" xlink:href=\"#m1270ec278b\" y=\"129.119395\"/>\n     <use style=\"fill-opacity:0;stroke:#000000;\" x=\"197.503125\" xlink:href=\"#m1270ec278b\" y=\"40.166667\"/>\n     <use style=\"fill-opacity:0;stroke:#000000;\" x=\"197.503125\" xlink:href=\"#m1270ec278b\" y=\"139.523222\"/>\n     <use style=\"fill-opacity:0;stroke:#000000;\" x=\"197.503125\" xlink:href=\"#m1270ec278b\" y=\"142.124179\"/>\n     <use style=\"fill-opacity:0;stroke:#000000;\" x=\"197.503125\" xlink:href=\"#m1270ec278b\" y=\"121.316524\"/>\n     <use style=\"fill-opacity:0;stroke:#000000;\" x=\"197.503125\" xlink:href=\"#m1270ec278b\" y=\"147.326093\"/>\n     <use style=\"fill-opacity:0;stroke:#000000;\" x=\"197.503125\" xlink:href=\"#m1270ec278b\" y=\"131.720352\"/>\n     <use style=\"fill-opacity:0;stroke:#000000;\" x=\"197.503125\" xlink:href=\"#m1270ec278b\" y=\"134.321309\"/>\n     <use style=\"fill-opacity:0;stroke:#000000;\" x=\"197.503125\" xlink:href=\"#m1270ec278b\" y=\"147.326093\"/>\n     <use style=\"fill-opacity:0;stroke:#000000;\" x=\"197.503125\" xlink:href=\"#m1270ec278b\" y=\"153.56839\"/>\n     <use style=\"fill-opacity:0;stroke:#000000;\" x=\"197.503125\" xlink:href=\"#m1270ec278b\" y=\"121.316524\"/>\n     <use style=\"fill-opacity:0;stroke:#000000;\" x=\"197.503125\" xlink:href=\"#m1270ec278b\" y=\"95.306954\"/>\n     <use style=\"fill-opacity:0;stroke:#000000;\" x=\"197.503125\" xlink:href=\"#m1270ec278b\" y=\"121.316524\"/>\n     <use style=\"fill-opacity:0;stroke:#000000;\" x=\"197.503125\" xlink:href=\"#m1270ec278b\" y=\"134.321309\"/>\n     <use style=\"fill-opacity:0;stroke:#000000;\" x=\"197.503125\" xlink:href=\"#m1270ec278b\" y=\"160.330878\"/>\n     <use style=\"fill-opacity:0;stroke:#000000;\" x=\"197.503125\" xlink:href=\"#m1270ec278b\" y=\"165.012601\"/>\n     <use style=\"fill-opacity:0;stroke:#000000;\" x=\"197.503125\" xlink:href=\"#m1270ec278b\" y=\"142.124179\"/>\n     <use style=\"fill-opacity:0;stroke:#000000;\" x=\"197.503125\" xlink:href=\"#m1270ec278b\" y=\"160.330878\"/>\n     <use style=\"fill-opacity:0;stroke:#000000;\" x=\"197.503125\" xlink:href=\"#m1270ec278b\" y=\"142.124179\"/>\n     <use style=\"fill-opacity:0;stroke:#000000;\" x=\"197.503125\" xlink:href=\"#m1270ec278b\" y=\"136.922266\"/>\n     <use style=\"fill-opacity:0;stroke:#000000;\" x=\"197.503125\" xlink:href=\"#m1270ec278b\" y=\"134.321309\"/>\n     <use style=\"fill-opacity:0;stroke:#000000;\" x=\"197.503125\" xlink:href=\"#m1270ec278b\" y=\"69.297385\"/>\n     <use style=\"fill-opacity:0;stroke:#000000;\" x=\"197.503125\" xlink:href=\"#m1270ec278b\" y=\"142.644371\"/>\n     <use style=\"fill-opacity:0;stroke:#000000;\" x=\"197.503125\" xlink:href=\"#m1270ec278b\" y=\"95.306954\"/>\n     <use style=\"fill-opacity:0;stroke:#000000;\" x=\"197.503125\" xlink:href=\"#m1270ec278b\" y=\"108.311739\"/>\n     <use style=\"fill-opacity:0;stroke:#000000;\" x=\"197.503125\" xlink:href=\"#m1270ec278b\" y=\"134.321309\"/>\n     <use style=\"fill-opacity:0;stroke:#000000;\" x=\"197.503125\" xlink:href=\"#m1270ec278b\" y=\"136.922266\"/>\n     <use style=\"fill-opacity:0;stroke:#000000;\" x=\"197.503125\" xlink:href=\"#m1270ec278b\" y=\"157.729921\"/>\n     <use style=\"fill-opacity:0;stroke:#000000;\" x=\"197.503125\" xlink:href=\"#m1270ec278b\" y=\"90.105041\"/>\n     <use style=\"fill-opacity:0;stroke:#000000;\" x=\"197.503125\" xlink:href=\"#m1270ec278b\" y=\"132.760734\"/>\n     <use style=\"fill-opacity:0;stroke:#000000;\" x=\"197.503125\" xlink:href=\"#m1270ec278b\" y=\"142.124179\"/>\n     <use style=\"fill-opacity:0;stroke:#000000;\" x=\"197.503125\" xlink:href=\"#m1270ec278b\" y=\"169.174132\"/>\n     <use style=\"fill-opacity:0;stroke:#000000;\" x=\"197.503125\" xlink:href=\"#m1270ec278b\" y=\"136.922266\"/>\n     <use style=\"fill-opacity:0;stroke:#000000;\" x=\"197.503125\" xlink:href=\"#m1270ec278b\" y=\"146.285711\"/>\n     <use style=\"fill-opacity:0;stroke:#000000;\" x=\"197.503125\" xlink:href=\"#m1270ec278b\" y=\"147.326093\"/>\n     <use style=\"fill-opacity:0;stroke:#000000;\" x=\"197.503125\" xlink:href=\"#m1270ec278b\" y=\"168.65394\"/>\n     <use style=\"fill-opacity:0;stroke:#000000;\" x=\"197.503125\" xlink:href=\"#m1270ec278b\" y=\"130.159777\"/>\n     <use style=\"fill-opacity:0;stroke:#000000;\" x=\"197.503125\" xlink:href=\"#m1270ec278b\" y=\"147.846285\"/>\n     <use style=\"fill-opacity:0;stroke:#000000;\" x=\"197.503125\" xlink:href=\"#m1270ec278b\" y=\"168.133749\"/>\n     <use style=\"fill-opacity:0;stroke:#000000;\" x=\"197.503125\" xlink:href=\"#m1270ec278b\" y=\"147.326093\"/>\n     <use style=\"fill-opacity:0;stroke:#000000;\" x=\"197.503125\" xlink:href=\"#m1270ec278b\" y=\"152.528007\"/>\n     <use style=\"fill-opacity:0;stroke:#000000;\" x=\"197.503125\" xlink:href=\"#m1270ec278b\" y=\"147.326093\"/>\n     <use style=\"fill-opacity:0;stroke:#000000;\" x=\"197.503125\" xlink:href=\"#m1270ec278b\" y=\"157.729921\"/>\n     <use style=\"fill-opacity:0;stroke:#000000;\" x=\"197.503125\" xlink:href=\"#m1270ec278b\" y=\"95.306954\"/>\n     <use style=\"fill-opacity:0;stroke:#000000;\" x=\"197.503125\" xlink:href=\"#m1270ec278b\" y=\"97.907911\"/>\n     <use style=\"fill-opacity:0;stroke:#000000;\" x=\"197.503125\" xlink:href=\"#m1270ec278b\" y=\"69.297385\"/>\n     <use style=\"fill-opacity:0;stroke:#000000;\" x=\"197.503125\" xlink:href=\"#m1270ec278b\" y=\"131.720352\"/>\n     <use style=\"fill-opacity:0;stroke:#000000;\" x=\"197.503125\" xlink:href=\"#m1270ec278b\" y=\"110.912696\"/>\n     <use style=\"fill-opacity:0;stroke:#000000;\" x=\"197.503125\" xlink:href=\"#m1270ec278b\" y=\"170.734706\"/>\n     <use style=\"fill-opacity:0;stroke:#000000;\" x=\"197.503125\" xlink:href=\"#m1270ec278b\" y=\"129.119395\"/>\n     <use style=\"fill-opacity:0;stroke:#000000;\" x=\"197.503125\" xlink:href=\"#m1270ec278b\" y=\"95.306954\"/>\n     <use style=\"fill-opacity:0;stroke:#000000;\" x=\"197.503125\" xlink:href=\"#m1270ec278b\" y=\"105.710782\"/>\n     <use style=\"fill-opacity:0;stroke:#000000;\" x=\"197.503125\" xlink:href=\"#m1270ec278b\" y=\"131.720352\"/>\n     <use style=\"fill-opacity:0;stroke:#000000;\" x=\"197.503125\" xlink:href=\"#m1270ec278b\" y=\"121.316524\"/>\n     <use style=\"fill-opacity:0;stroke:#000000;\" x=\"197.503125\" xlink:href=\"#m1270ec278b\" y=\"149.92705\"/>\n     <use style=\"fill-opacity:0;stroke:#000000;\" x=\"197.503125\" xlink:href=\"#m1270ec278b\" y=\"147.326093\"/>\n     <use style=\"fill-opacity:0;stroke:#000000;\" x=\"197.503125\" xlink:href=\"#m1270ec278b\" y=\"95.306954\"/>\n     <use style=\"fill-opacity:0;stroke:#000000;\" x=\"197.503125\" xlink:href=\"#m1270ec278b\" y=\"136.922266\"/>\n     <use style=\"fill-opacity:0;stroke:#000000;\" x=\"197.503125\" xlink:href=\"#m1270ec278b\" y=\"155.128964\"/>\n     <use style=\"fill-opacity:0;stroke:#000000;\" x=\"197.503125\" xlink:href=\"#m1270ec278b\" y=\"171.254897\"/>\n     <use style=\"fill-opacity:0;stroke:#000000;\" x=\"197.503125\" xlink:href=\"#m1270ec278b\" y=\"152.528007\"/>\n     <use style=\"fill-opacity:0;stroke:#000000;\" x=\"197.503125\" xlink:href=\"#m1270ec278b\" y=\"121.316524\"/>\n     <use style=\"fill-opacity:0;stroke:#000000;\" x=\"197.503125\" xlink:href=\"#m1270ec278b\" y=\"121.316524\"/>\n     <use style=\"fill-opacity:0;stroke:#000000;\" x=\"197.503125\" xlink:href=\"#m1270ec278b\" y=\"95.306954\"/>\n     <use style=\"fill-opacity:0;stroke:#000000;\" x=\"197.503125\" xlink:href=\"#m1270ec278b\" y=\"134.321309\"/>\n     <use style=\"fill-opacity:0;stroke:#000000;\" x=\"197.503125\" xlink:href=\"#m1270ec278b\" y=\"95.306954\"/>\n     <use style=\"fill-opacity:0;stroke:#000000;\" x=\"197.503125\" xlink:href=\"#m1270ec278b\" y=\"147.326093\"/>\n     <use style=\"fill-opacity:0;stroke:#000000;\" x=\"197.503125\" xlink:href=\"#m1270ec278b\" y=\"121.316524\"/>\n     <use style=\"fill-opacity:0;stroke:#000000;\" x=\"197.503125\" xlink:href=\"#m1270ec278b\" y=\"152.528007\"/>\n     <use style=\"fill-opacity:0;stroke:#000000;\" x=\"197.503125\" xlink:href=\"#m1270ec278b\" y=\"132.760734\"/>\n     <use style=\"fill-opacity:0;stroke:#000000;\" x=\"197.503125\" xlink:href=\"#m1270ec278b\" y=\"147.326093\"/>\n     <use style=\"fill-opacity:0;stroke:#000000;\" x=\"197.503125\" xlink:href=\"#m1270ec278b\" y=\"162.931835\"/>\n     <use style=\"fill-opacity:0;stroke:#000000;\" x=\"197.503125\" xlink:href=\"#m1270ec278b\" y=\"168.133749\"/>\n     <use style=\"fill-opacity:0;stroke:#000000;\" x=\"197.503125\" xlink:href=\"#m1270ec278b\" y=\"121.316524\"/>\n     <use style=\"fill-opacity:0;stroke:#000000;\" x=\"197.503125\" xlink:href=\"#m1270ec278b\" y=\"95.306954\"/>\n     <use style=\"fill-opacity:0;stroke:#000000;\" x=\"197.503125\" xlink:href=\"#m1270ec278b\" y=\"147.326093\"/>\n     <use style=\"fill-opacity:0;stroke:#000000;\" x=\"197.503125\" xlink:href=\"#m1270ec278b\" y=\"162.931835\"/>\n     <use style=\"fill-opacity:0;stroke:#000000;\" x=\"197.503125\" xlink:href=\"#m1270ec278b\" y=\"139.523222\"/>\n     <use style=\"fill-opacity:0;stroke:#000000;\" x=\"197.503125\" xlink:href=\"#m1270ec278b\" y=\"142.124179\"/>\n     <use style=\"fill-opacity:0;stroke:#000000;\" x=\"197.503125\" xlink:href=\"#m1270ec278b\" y=\"134.321309\"/>\n     <use style=\"fill-opacity:0;stroke:#000000;\" x=\"197.503125\" xlink:href=\"#m1270ec278b\" y=\"129.119395\"/>\n     <use style=\"fill-opacity:0;stroke:#000000;\" x=\"197.503125\" xlink:href=\"#m1270ec278b\" y=\"95.306954\"/>\n     <use style=\"fill-opacity:0;stroke:#000000;\" x=\"197.503125\" xlink:href=\"#m1270ec278b\" y=\"168.133749\"/>\n     <use style=\"fill-opacity:0;stroke:#000000;\" x=\"197.503125\" xlink:href=\"#m1270ec278b\" y=\"134.321309\"/>\n     <use style=\"fill-opacity:0;stroke:#000000;\" x=\"197.503125\" xlink:href=\"#m1270ec278b\" y=\"157.729921\"/>\n     <use style=\"fill-opacity:0;stroke:#000000;\" x=\"197.503125\" xlink:href=\"#m1270ec278b\" y=\"121.316524\"/>\n     <use style=\"fill-opacity:0;stroke:#000000;\" x=\"197.503125\" xlink:href=\"#m1270ec278b\" y=\"150.447242\"/>\n     <use style=\"fill-opacity:0;stroke:#000000;\" x=\"197.503125\" xlink:href=\"#m1270ec278b\" y=\"147.326093\"/>\n     <use style=\"fill-opacity:0;stroke:#000000;\" x=\"197.503125\" xlink:href=\"#m1270ec278b\" y=\"121.316524\"/>\n     <use style=\"fill-opacity:0;stroke:#000000;\" x=\"197.503125\" xlink:href=\"#m1270ec278b\" y=\"132.760734\"/>\n     <use style=\"fill-opacity:0;stroke:#000000;\" x=\"197.503125\" xlink:href=\"#m1270ec278b\" y=\"97.907911\"/>\n     <use style=\"fill-opacity:0;stroke:#000000;\" x=\"197.503125\" xlink:href=\"#m1270ec278b\" y=\"147.326093\"/>\n     <use style=\"fill-opacity:0;stroke:#000000;\" x=\"197.503125\" xlink:href=\"#m1270ec278b\" y=\"160.330878\"/>\n     <use style=\"fill-opacity:0;stroke:#000000;\" x=\"197.503125\" xlink:href=\"#m1270ec278b\" y=\"136.922266\"/>\n     <use style=\"fill-opacity:0;stroke:#000000;\" x=\"197.503125\" xlink:href=\"#m1270ec278b\" y=\"160.330878\"/>\n     <use style=\"fill-opacity:0;stroke:#000000;\" x=\"197.503125\" xlink:href=\"#m1270ec278b\" y=\"27.682074\"/>\n     <use style=\"fill-opacity:0;stroke:#000000;\" x=\"197.503125\" xlink:href=\"#m1270ec278b\" y=\"162.931835\"/>\n     <use style=\"fill-opacity:0;stroke:#000000;\" x=\"197.503125\" xlink:href=\"#m1270ec278b\" y=\"162.931835\"/>\n     <use style=\"fill-opacity:0;stroke:#000000;\" x=\"197.503125\" xlink:href=\"#m1270ec278b\" y=\"168.133749\"/>\n     <use style=\"fill-opacity:0;stroke:#000000;\" x=\"197.503125\" xlink:href=\"#m1270ec278b\" y=\"113.513653\"/>\n     <use style=\"fill-opacity:0;stroke:#000000;\" x=\"197.503125\" xlink:href=\"#m1270ec278b\" y=\"144.725136\"/>\n     <use style=\"fill-opacity:0;stroke:#000000;\" x=\"197.503125\" xlink:href=\"#m1270ec278b\" y=\"134.321309\"/>\n     <use style=\"fill-opacity:0;stroke:#000000;\" x=\"197.503125\" xlink:href=\"#m1270ec278b\" y=\"147.326093\"/>\n     <use style=\"fill-opacity:0;stroke:#000000;\" x=\"197.503125\" xlink:href=\"#m1270ec278b\" y=\"144.725136\"/>\n     <use style=\"fill-opacity:0;stroke:#000000;\" x=\"197.503125\" xlink:href=\"#m1270ec278b\" y=\"121.316524\"/>\n     <use style=\"fill-opacity:0;stroke:#000000;\" x=\"197.503125\" xlink:href=\"#m1270ec278b\" y=\"142.124179\"/>\n     <use style=\"fill-opacity:0;stroke:#000000;\" x=\"197.503125\" xlink:href=\"#m1270ec278b\" y=\"121.316524\"/>\n     <use style=\"fill-opacity:0;stroke:#000000;\" x=\"197.503125\" xlink:href=\"#m1270ec278b\" y=\"142.124179\"/>\n     <use style=\"fill-opacity:0;stroke:#000000;\" x=\"197.503125\" xlink:href=\"#m1270ec278b\" y=\"95.306954\"/>\n     <use style=\"fill-opacity:0;stroke:#000000;\" x=\"197.503125\" xlink:href=\"#m1270ec278b\" y=\"147.326093\"/>\n     <use style=\"fill-opacity:0;stroke:#000000;\" x=\"197.503125\" xlink:href=\"#m1270ec278b\" y=\"95.306954\"/>\n     <use style=\"fill-opacity:0;stroke:#000000;\" x=\"197.503125\" xlink:href=\"#m1270ec278b\" y=\"136.922266\"/>\n     <use style=\"fill-opacity:0;stroke:#000000;\" x=\"197.503125\" xlink:href=\"#m1270ec278b\" y=\"160.330878\"/>\n     <use style=\"fill-opacity:0;stroke:#000000;\" x=\"197.503125\" xlink:href=\"#m1270ec278b\" y=\"90.105041\"/>\n     <use style=\"fill-opacity:0;stroke:#000000;\" x=\"197.503125\" xlink:href=\"#m1270ec278b\" y=\"168.133749\"/>\n     <use style=\"fill-opacity:0;stroke:#000000;\" x=\"197.503125\" xlink:href=\"#m1270ec278b\" y=\"157.729921\"/>\n     <use style=\"fill-opacity:0;stroke:#000000;\" x=\"197.503125\" xlink:href=\"#m1270ec278b\" y=\"162.931835\"/>\n     <use style=\"fill-opacity:0;stroke:#000000;\" x=\"197.503125\" xlink:href=\"#m1270ec278b\" y=\"126.518438\"/>\n     <use style=\"fill-opacity:0;stroke:#000000;\" x=\"197.503125\" xlink:href=\"#m1270ec278b\" y=\"133.176888\"/>\n     <use style=\"fill-opacity:0;stroke:#000000;\" x=\"197.503125\" xlink:href=\"#m1270ec278b\" y=\"129.119395\"/>\n     <use style=\"fill-opacity:0;stroke:#000000;\" x=\"197.503125\" xlink:href=\"#m1270ec278b\" y=\"155.128964\"/>\n     <use style=\"fill-opacity:0;stroke:#000000;\" x=\"197.503125\" xlink:href=\"#m1270ec278b\" y=\"108.311739\"/>\n     <use style=\"fill-opacity:0;stroke:#000000;\" x=\"197.503125\" xlink:href=\"#m1270ec278b\" y=\"160.330878\"/>\n     <use style=\"fill-opacity:0;stroke:#000000;\" x=\"197.503125\" xlink:href=\"#m1270ec278b\" y=\"136.922266\"/>\n     <use style=\"fill-opacity:0;stroke:#000000;\" x=\"197.503125\" xlink:href=\"#m1270ec278b\" y=\"168.133749\"/>\n     <use style=\"fill-opacity:0;stroke:#000000;\" x=\"197.503125\" xlink:href=\"#m1270ec278b\" y=\"95.306954\"/>\n     <use style=\"fill-opacity:0;stroke:#000000;\" x=\"197.503125\" xlink:href=\"#m1270ec278b\" y=\"162.931835\"/>\n     <use style=\"fill-opacity:0;stroke:#000000;\" x=\"197.503125\" xlink:href=\"#m1270ec278b\" y=\"155.128964\"/>\n     <use style=\"fill-opacity:0;stroke:#000000;\" x=\"197.503125\" xlink:href=\"#m1270ec278b\" y=\"121.316524\"/>\n     <use style=\"fill-opacity:0;stroke:#000000;\" x=\"197.503125\" xlink:href=\"#m1270ec278b\" y=\"131.720352\"/>\n     <use style=\"fill-opacity:0;stroke:#000000;\" x=\"197.503125\" xlink:href=\"#m1270ec278b\" y=\"168.133749\"/>\n     <use style=\"fill-opacity:0;stroke:#000000;\" x=\"197.503125\" xlink:href=\"#m1270ec278b\" y=\"136.922266\"/>\n     <use style=\"fill-opacity:0;stroke:#000000;\" x=\"197.503125\" xlink:href=\"#m1270ec278b\" y=\"126.518438\"/>\n     <use style=\"fill-opacity:0;stroke:#000000;\" x=\"197.503125\" xlink:href=\"#m1270ec278b\" y=\"136.922266\"/>\n     <use style=\"fill-opacity:0;stroke:#000000;\" x=\"197.503125\" xlink:href=\"#m1270ec278b\" y=\"131.720352\"/>\n     <use style=\"fill-opacity:0;stroke:#000000;\" x=\"197.503125\" xlink:href=\"#m1270ec278b\" y=\"140.563605\"/>\n     <use style=\"fill-opacity:0;stroke:#000000;\" x=\"197.503125\" xlink:href=\"#m1270ec278b\" y=\"121.316524\"/>\n     <use style=\"fill-opacity:0;stroke:#000000;\" x=\"197.503125\" xlink:href=\"#m1270ec278b\" y=\"112.47327\"/>\n     <use style=\"fill-opacity:0;stroke:#000000;\" x=\"197.503125\" xlink:href=\"#m1270ec278b\" y=\"168.133749\"/>\n     <use style=\"fill-opacity:0;stroke:#000000;\" x=\"197.503125\" xlink:href=\"#m1270ec278b\" y=\"133.801116\"/>\n     <use style=\"fill-opacity:0;stroke:#000000;\" x=\"197.503125\" xlink:href=\"#m1270ec278b\" y=\"158.250112\"/>\n     <use style=\"fill-opacity:0;stroke:#000000;\" x=\"197.503125\" xlink:href=\"#m1270ec278b\" y=\"157.729921\"/>\n     <use style=\"fill-opacity:0;stroke:#000000;\" x=\"197.503125\" xlink:href=\"#m1270ec278b\" y=\"165.532792\"/>\n     <use style=\"fill-opacity:0;stroke:#000000;\" x=\"197.503125\" xlink:href=\"#m1270ec278b\" y=\"134.321309\"/>\n     <use style=\"fill-opacity:0;stroke:#000000;\" x=\"197.503125\" xlink:href=\"#m1270ec278b\" y=\"121.316524\"/>\n     <use style=\"fill-opacity:0;stroke:#000000;\" x=\"197.503125\" xlink:href=\"#m1270ec278b\" y=\"139.523222\"/>\n     <use style=\"fill-opacity:0;stroke:#000000;\" x=\"197.503125\" xlink:href=\"#m1270ec278b\" y=\"170.734706\"/>\n     <use style=\"fill-opacity:0;stroke:#000000;\" x=\"197.503125\" xlink:href=\"#m1270ec278b\" y=\"139.523222\"/>\n     <use style=\"fill-opacity:0;stroke:#000000;\" x=\"197.503125\" xlink:href=\"#m1270ec278b\" y=\"168.133749\"/>\n     <use style=\"fill-opacity:0;stroke:#000000;\" x=\"197.503125\" xlink:href=\"#m1270ec278b\" y=\"129.119395\"/>\n     <use style=\"fill-opacity:0;stroke:#000000;\" x=\"197.503125\" xlink:href=\"#m1270ec278b\" y=\"160.330878\"/>\n     <use style=\"fill-opacity:0;stroke:#000000;\" x=\"197.503125\" xlink:href=\"#m1270ec278b\" y=\"147.326093\"/>\n     <use style=\"fill-opacity:0;stroke:#000000;\" x=\"197.503125\" xlink:href=\"#m1270ec278b\" y=\"160.330878\"/>\n     <use style=\"fill-opacity:0;stroke:#000000;\" x=\"197.503125\" xlink:href=\"#m1270ec278b\" y=\"134.321309\"/>\n     <use style=\"fill-opacity:0;stroke:#000000;\" x=\"197.503125\" xlink:href=\"#m1270ec278b\" y=\"162.931835\"/>\n     <use style=\"fill-opacity:0;stroke:#000000;\" x=\"197.503125\" xlink:href=\"#m1270ec278b\" y=\"147.326093\"/>\n     <use style=\"fill-opacity:0;stroke:#000000;\" x=\"197.503125\" xlink:href=\"#m1270ec278b\" y=\"147.326093\"/>\n     <use style=\"fill-opacity:0;stroke:#000000;\" x=\"197.503125\" xlink:href=\"#m1270ec278b\" y=\"160.330878\"/>\n     <use style=\"fill-opacity:0;stroke:#000000;\" x=\"197.503125\" xlink:href=\"#m1270ec278b\" y=\"142.124179\"/>\n     <use style=\"fill-opacity:0;stroke:#000000;\" x=\"197.503125\" xlink:href=\"#m1270ec278b\" y=\"168.133749\"/>\n     <use style=\"fill-opacity:0;stroke:#000000;\" x=\"197.503125\" xlink:href=\"#m1270ec278b\" y=\"142.124179\"/>\n     <use style=\"fill-opacity:0;stroke:#000000;\" x=\"197.503125\" xlink:href=\"#m1270ec278b\" y=\"95.306954\"/>\n     <use style=\"fill-opacity:0;stroke:#000000;\" x=\"197.503125\" xlink:href=\"#m1270ec278b\" y=\"168.133749\"/>\n     <use style=\"fill-opacity:0;stroke:#000000;\" x=\"197.503125\" xlink:href=\"#m1270ec278b\" y=\"147.326093\"/>\n     <use style=\"fill-opacity:0;stroke:#000000;\" x=\"197.503125\" xlink:href=\"#m1270ec278b\" y=\"139.523222\"/>\n     <use style=\"fill-opacity:0;stroke:#000000;\" x=\"197.503125\" xlink:href=\"#m1270ec278b\" y=\"136.922266\"/>\n     <use style=\"fill-opacity:0;stroke:#000000;\" x=\"197.503125\" xlink:href=\"#m1270ec278b\" y=\"155.128964\"/>\n     <use style=\"fill-opacity:0;stroke:#000000;\" x=\"197.503125\" xlink:href=\"#m1270ec278b\" y=\"134.321309\"/>\n     <use style=\"fill-opacity:0;stroke:#000000;\" x=\"197.503125\" xlink:href=\"#m1270ec278b\" y=\"126.518438\"/>\n     <use style=\"fill-opacity:0;stroke:#000000;\" x=\"197.503125\" xlink:href=\"#m1270ec278b\" y=\"160.330878\"/>\n     <use style=\"fill-opacity:0;stroke:#000000;\" x=\"197.503125\" xlink:href=\"#m1270ec278b\" y=\"123.917481\"/>\n     <use style=\"fill-opacity:0;stroke:#000000;\" x=\"197.503125\" xlink:href=\"#m1270ec278b\" y=\"162.931835\"/>\n     <use style=\"fill-opacity:0;stroke:#000000;\" x=\"197.503125\" xlink:href=\"#m1270ec278b\" y=\"136.922266\"/>\n     <use style=\"fill-opacity:0;stroke:#000000;\" x=\"197.503125\" xlink:href=\"#m1270ec278b\" y=\"157.729921\"/>\n     <use style=\"fill-opacity:0;stroke:#000000;\" x=\"197.503125\" xlink:href=\"#m1270ec278b\" y=\"168.133749\"/>\n     <use style=\"fill-opacity:0;stroke:#000000;\" x=\"197.503125\" xlink:href=\"#m1270ec278b\" y=\"134.321309\"/>\n     <use style=\"fill-opacity:0;stroke:#000000;\" x=\"197.503125\" xlink:href=\"#m1270ec278b\" y=\"157.729921\"/>\n     <use style=\"fill-opacity:0;stroke:#000000;\" x=\"197.503125\" xlink:href=\"#m1270ec278b\" y=\"159.290495\"/>\n     <use style=\"fill-opacity:0;stroke:#000000;\" x=\"197.503125\" xlink:href=\"#m1270ec278b\" y=\"147.326093\"/>\n     <use style=\"fill-opacity:0;stroke:#000000;\" x=\"197.503125\" xlink:href=\"#m1270ec278b\" y=\"160.330878\"/>\n     <use style=\"fill-opacity:0;stroke:#000000;\" x=\"197.503125\" xlink:href=\"#m1270ec278b\" y=\"121.316524\"/>\n     <use style=\"fill-opacity:0;stroke:#000000;\" x=\"197.503125\" xlink:href=\"#m1270ec278b\" y=\"160.330878\"/>\n     <use style=\"fill-opacity:0;stroke:#000000;\" x=\"197.503125\" xlink:href=\"#m1270ec278b\" y=\"152.528007\"/>\n     <use style=\"fill-opacity:0;stroke:#000000;\" x=\"197.503125\" xlink:href=\"#m1270ec278b\" y=\"116.11461\"/>\n     <use style=\"fill-opacity:0;stroke:#000000;\" x=\"197.503125\" xlink:href=\"#m1270ec278b\" y=\"162.931835\"/>\n     <use style=\"fill-opacity:0;stroke:#000000;\" x=\"197.503125\" xlink:href=\"#m1270ec278b\" y=\"116.634801\"/>\n     <use style=\"fill-opacity:0;stroke:#000000;\" x=\"197.503125\" xlink:href=\"#m1270ec278b\" y=\"136.922266\"/>\n     <use style=\"fill-opacity:0;stroke:#000000;\" x=\"197.503125\" xlink:href=\"#m1270ec278b\" y=\"165.532792\"/>\n     <use style=\"fill-opacity:0;stroke:#000000;\" x=\"197.503125\" xlink:href=\"#m1270ec278b\" y=\"157.729921\"/>\n     <use style=\"fill-opacity:0;stroke:#000000;\" x=\"197.503125\" xlink:href=\"#m1270ec278b\" y=\"155.128964\"/>\n     <use style=\"fill-opacity:0;stroke:#000000;\" x=\"197.503125\" xlink:href=\"#m1270ec278b\" y=\"162.931835\"/>\n     <use style=\"fill-opacity:0;stroke:#000000;\" x=\"197.503125\" xlink:href=\"#m1270ec278b\" y=\"92.705997\"/>\n     <use style=\"fill-opacity:0;stroke:#000000;\" x=\"197.503125\" xlink:href=\"#m1270ec278b\" y=\"121.316524\"/>\n     <use style=\"fill-opacity:0;stroke:#000000;\" x=\"197.503125\" xlink:href=\"#m1270ec278b\" y=\"121.316524\"/>\n     <use style=\"fill-opacity:0;stroke:#000000;\" x=\"197.503125\" xlink:href=\"#m1270ec278b\" y=\"149.92705\"/>\n     <use style=\"fill-opacity:0;stroke:#000000;\" x=\"197.503125\" xlink:href=\"#m1270ec278b\" y=\"147.326093\"/>\n     <use style=\"fill-opacity:0;stroke:#000000;\" x=\"197.503125\" xlink:href=\"#m1270ec278b\" y=\"171.775089\"/>\n     <use style=\"fill-opacity:0;stroke:#000000;\" x=\"197.503125\" xlink:href=\"#m1270ec278b\" y=\"149.92705\"/>\n     <use style=\"fill-opacity:0;stroke:#000000;\" x=\"197.503125\" xlink:href=\"#m1270ec278b\" y=\"168.133749\"/>\n     <use style=\"fill-opacity:0;stroke:#000000;\" x=\"197.503125\" xlink:href=\"#m1270ec278b\" y=\"149.92705\"/>\n     <use style=\"fill-opacity:0;stroke:#000000;\" x=\"197.503125\" xlink:href=\"#m1270ec278b\" y=\"168.133749\"/>\n     <use style=\"fill-opacity:0;stroke:#000000;\" x=\"197.503125\" xlink:href=\"#m1270ec278b\" y=\"170.734706\"/>\n     <use style=\"fill-opacity:0;stroke:#000000;\" x=\"197.503125\" xlink:href=\"#m1270ec278b\" y=\"157.729921\"/>\n     <use style=\"fill-opacity:0;stroke:#000000;\" x=\"197.503125\" xlink:href=\"#m1270ec278b\" y=\"160.330878\"/>\n     <use style=\"fill-opacity:0;stroke:#000000;\" x=\"197.503125\" xlink:href=\"#m1270ec278b\" y=\"147.326093\"/>\n     <use style=\"fill-opacity:0;stroke:#000000;\" x=\"197.503125\" xlink:href=\"#m1270ec278b\" y=\"171.775089\"/>\n     <use style=\"fill-opacity:0;stroke:#000000;\" x=\"197.503125\" xlink:href=\"#m1270ec278b\" y=\"147.326093\"/>\n     <use style=\"fill-opacity:0;stroke:#000000;\" x=\"197.503125\" xlink:href=\"#m1270ec278b\" y=\"134.321309\"/>\n     <use style=\"fill-opacity:0;stroke:#000000;\" x=\"197.503125\" xlink:href=\"#m1270ec278b\" y=\"152.528007\"/>\n     <use style=\"fill-opacity:0;stroke:#000000;\" x=\"197.503125\" xlink:href=\"#m1270ec278b\" y=\"167.613557\"/>\n     <use style=\"fill-opacity:0;stroke:#000000;\" x=\"197.503125\" xlink:href=\"#m1270ec278b\" y=\"162.931835\"/>\n     <use style=\"fill-opacity:0;stroke:#000000;\" x=\"197.503125\" xlink:href=\"#m1270ec278b\" y=\"123.917481\"/>\n     <use style=\"fill-opacity:0;stroke:#000000;\" x=\"197.503125\" xlink:href=\"#m1270ec278b\" y=\"155.128964\"/>\n     <use style=\"fill-opacity:0;stroke:#000000;\" x=\"197.503125\" xlink:href=\"#m1270ec278b\" y=\"169.174132\"/>\n     <use style=\"fill-opacity:0;stroke:#000000;\" x=\"197.503125\" xlink:href=\"#m1270ec278b\" y=\"170.734706\"/>\n     <use style=\"fill-opacity:0;stroke:#000000;\" x=\"197.503125\" xlink:href=\"#m1270ec278b\" y=\"162.931835\"/>\n     <use style=\"fill-opacity:0;stroke:#000000;\" x=\"197.503125\" xlink:href=\"#m1270ec278b\" y=\"155.128964\"/>\n     <use style=\"fill-opacity:0;stroke:#000000;\" x=\"197.503125\" xlink:href=\"#m1270ec278b\" y=\"168.133749\"/>\n     <use style=\"fill-opacity:0;stroke:#000000;\" x=\"197.503125\" xlink:href=\"#m1270ec278b\" y=\"157.729921\"/>\n     <use style=\"fill-opacity:0;stroke:#000000;\" x=\"197.503125\" xlink:href=\"#m1270ec278b\" y=\"149.92705\"/>\n     <use style=\"fill-opacity:0;stroke:#000000;\" x=\"197.503125\" xlink:href=\"#m1270ec278b\" y=\"170.734706\"/>\n     <use style=\"fill-opacity:0;stroke:#000000;\" x=\"197.503125\" xlink:href=\"#m1270ec278b\" y=\"157.729921\"/>\n     <use style=\"fill-opacity:0;stroke:#000000;\" x=\"197.503125\" xlink:href=\"#m1270ec278b\" y=\"171.775089\"/>\n     <use style=\"fill-opacity:0;stroke:#000000;\" x=\"197.503125\" xlink:href=\"#m1270ec278b\" y=\"156.689538\"/>\n     <use style=\"fill-opacity:0;stroke:#000000;\" x=\"197.503125\" xlink:href=\"#m1270ec278b\" y=\"149.92705\"/>\n     <use style=\"fill-opacity:0;stroke:#000000;\" x=\"197.503125\" xlink:href=\"#m1270ec278b\" y=\"160.330878\"/>\n     <use style=\"fill-opacity:0;stroke:#000000;\" x=\"197.503125\" xlink:href=\"#m1270ec278b\" y=\"167.093366\"/>\n     <use style=\"fill-opacity:0;stroke:#000000;\" x=\"197.503125\" xlink:href=\"#m1270ec278b\" y=\"157.729921\"/>\n     <use style=\"fill-opacity:0;stroke:#000000;\" x=\"197.503125\" xlink:href=\"#m1270ec278b\" y=\"147.326093\"/>\n     <use style=\"fill-opacity:0;stroke:#000000;\" x=\"197.503125\" xlink:href=\"#m1270ec278b\" y=\"121.313923\"/>\n    </g>\n   </g>\n   <g id=\"line2d_25\">\n    <path clip-path=\"url(#p54aae68bef)\" d=\"M 172.393125 214.950974 \nL 222.613125 214.950974 \n\" style=\"fill:none;stroke:#2ca02c;stroke-linecap:square;\"/>\n   </g>\n   <g id=\"patch_3\">\n    <path d=\"M 30.103125 235.238438 \nL 30.103125 17.798437 \n\" style=\"fill:none;stroke:#000000;stroke-linecap:square;stroke-linejoin:miter;stroke-width:0.8;\"/>\n   </g>\n   <g id=\"patch_4\">\n    <path d=\"M 364.903125 235.238438 \nL 364.903125 17.798437 \n\" style=\"fill:none;stroke:#000000;stroke-linecap:square;stroke-linejoin:miter;stroke-width:0.8;\"/>\n   </g>\n   <g id=\"patch_5\">\n    <path d=\"M 30.103125 235.238437 \nL 364.903125 235.238437 \n\" style=\"fill:none;stroke:#000000;stroke-linecap:square;stroke-linejoin:miter;stroke-width:0.8;\"/>\n   </g>\n   <g id=\"patch_6\">\n    <path d=\"M 30.103125 17.798437 \nL 364.903125 17.798437 \n\" style=\"fill:none;stroke:#000000;stroke-linecap:square;stroke-linejoin:miter;stroke-width:0.8;\"/>\n   </g>\n  </g>\n </g>\n <defs>\n  <clipPath id=\"p54aae68bef\">\n   <rect height=\"217.44\" width=\"334.8\" x=\"30.103125\" y=\"17.798437\"/>\n  </clipPath>\n </defs>\n</svg>\n",
      "image/png": "[encoded data removed]"
     },
     "metadata": {
      "needs_background": "light"
     }
    }
   ],
   "source": [
    "df_finances.boxplot(column='budget')"
   ]
  },
  {
   "cell_type": "code",
   "execution_count": 28,
   "metadata": {},
   "outputs": [
    {
     "output_type": "execute_result",
     "data": {
      "text/plain": [
       "231"
      ]
     },
     "metadata": {},
     "execution_count": 28
    }
   ],
   "source": [
    "q1 = df_finances['budget'].quantile(0.25)\n",
    "q3 = df_finances['budget'].quantile(0.75)\n",
    "iqr = q3 - q1\n",
    "fence_low = q1 - (1.5*iqr)\n",
    "fence_high = q3 + (1.5*iqr)\n",
    "# number of outliers\n",
    "df_finances[(df_finances['budget'] < fence_low) | (df_finances['budget'] > fence_high)].shape[0]"
   ]
  },
  {
   "source": [
    "Since only 231 movies are classified as outliers, I still keep 88% of my data points."
   ],
   "cell_type": "markdown",
   "metadata": {}
  },
  {
   "cell_type": "code",
   "execution_count": 29,
   "metadata": {},
   "outputs": [],
   "source": [
    "df_finances = df_finances[(df_finances['budget'] >= fence_low) & (df_finances['budget'] <= fence_high)]"
   ]
  },
  {
   "cell_type": "code",
   "execution_count": 30,
   "metadata": {},
   "outputs": [],
   "source": [
    "df_finances.boxplot(column='budget')"
   ]
  },
  {
   "cell_type": "code",
   "execution_count": 45,
   "metadata": {},
   "outputs": [],
   "source": [
    "#TODO remove outliers for revenue"
   ]
  },
  {
   "cell_type": "code",
   "execution_count": 31,
   "metadata": {},
   "outputs": [
    {
     "output_type": "execute_result",
     "data": {
      "text/plain": [
       "(2077, 8)"
      ]
     },
     "metadata": {},
     "execution_count": 31
    }
   ],
   "source": [
    "df_finances.shape"
   ]
  },
  {
   "source": [
    "Looks like that leaves me with 2,117 movie details to use for analyzing popular movie finances.\n",
    "\n",
    "### Creating a Genre Dataframe\n",
    "\n",
    "The genre column value for each movie is a list of the genres they belong to. My goal for these is to see which genres provide higher profit and ratings on average, as well as their average runtimes. To get this information, I'm going to create a new dataframe with every row being a genre, and the columns being `avg_rating`, `avg_runtime` and `avg_profit`.\n",
    "\n",
    "To start, I'll need to collect a count of how many movies fit into each individual genre. I'll use the `df_finances` dataframe for this, since I need revenue and budget values to be valid in order to calculate the profit."
   ],
   "cell_type": "markdown",
   "metadata": {}
  },
  {
   "cell_type": "code",
   "execution_count": 32,
   "metadata": {},
   "outputs": [],
   "source": [
    "genre_dict = {}\n",
    "for genres in df_finances['genre']: \n",
    "    for genre in genres.split(','):\n",
    "        genre = genre.strip()\n",
    "        if genre in genre_dict:\n",
    "            genre_dict[genre] += 1\n",
    "        else:\n",
    "            genre_dict[genre] = 1"
   ]
  },
  {
   "source": [
    "Now I'll make a new dataframe `genre_df` with a column of genres and a column counting how many movies fell into that genre."
   ],
   "cell_type": "markdown",
   "metadata": {}
  },
  {
   "cell_type": "code",
   "execution_count": 33,
   "metadata": {},
   "outputs": [],
   "source": [
    "genre_df_dict = {'genre': list(genre_dict.keys()), 'count': list(genre_dict.values())}\n",
    "genre_df = pd.DataFrame(genre_df_dict)"
   ]
  },
  {
   "cell_type": "code",
   "execution_count": 34,
   "metadata": {},
   "outputs": [
    {
     "output_type": "execute_result",
     "data": {
      "text/plain": [
       "    genre  count\n",
       "0  Comedy    688\n",
       "1   Drama   1118\n",
       "2  Family    105\n",
       "3  Action    680\n",
       "4   Crime    345"
      ],
      "text/html": "<div>\n<style scoped>\n    .dataframe tbody tr th:only-of-type {\n        vertical-align: middle;\n    }\n\n    .dataframe tbody tr th {\n        vertical-align: top;\n    }\n\n    .dataframe thead th {\n        text-align: right;\n    }\n</style>\n<table border=\"1\" class=\"dataframe\">\n  <thead>\n    <tr style=\"text-align: right;\">\n      <th></th>\n      <th>genre</th>\n      <th>count</th>\n    </tr>\n  </thead>\n  <tbody>\n    <tr>\n      <td>0</td>\n      <td>Comedy</td>\n      <td>688</td>\n    </tr>\n    <tr>\n      <td>1</td>\n      <td>Drama</td>\n      <td>1118</td>\n    </tr>\n    <tr>\n      <td>2</td>\n      <td>Family</td>\n      <td>105</td>\n    </tr>\n    <tr>\n      <td>3</td>\n      <td>Action</td>\n      <td>680</td>\n    </tr>\n    <tr>\n      <td>4</td>\n      <td>Crime</td>\n      <td>345</td>\n    </tr>\n  </tbody>\n</table>\n</div>"
     },
     "metadata": {},
     "execution_count": 34
    }
   ],
   "source": [
    "genre_df.head()"
   ]
  },
  {
   "source": [
    "Looks great, now I'll add the rating, runtime and profit columns."
   ],
   "cell_type": "markdown",
   "metadata": {}
  },
  {
   "cell_type": "code",
   "execution_count": 35,
   "metadata": {
    "tags": []
   },
   "outputs": [],
   "source": [
    "unique_genres = list(genre_df['genre'].values)\n",
    "genre_rating_dict = {}\n",
    "for index, row in df_finances.iterrows():\n",
    "    for genre in unique_genres:\n",
    "        if genre in row['genre']:\n",
    "            rating = row['star_rating']\n",
    "            if genre in genre_rating_dict:\n",
    "                genre_rating_dict[genre] += rating\n",
    "            else:\n",
    "                genre_rating_dict[genre] = rating\n",
    "\n",
    "genre_df['rating_sum'] = list(genre_rating_dict.values())\n",
    "genre_df['avg_rating'] = round(genre_df['rating_sum']/genre_df['count'], 1)\n",
    "genre_df.drop(columns=['rating_sum'], inplace=True)"
   ]
  },
  {
   "cell_type": "code",
   "execution_count": 36,
   "metadata": {},
   "outputs": [
    {
     "output_type": "execute_result",
     "data": {
      "text/plain": [
       "    genre  count  avg_rating\n",
       "0  Comedy    688        6.30\n",
       "1   Drama   1118        6.70\n",
       "2  Family    105        6.20\n",
       "3  Action    680        6.40\n",
       "4   Crime    345        6.50"
      ],
      "text/html": "<div>\n<style scoped>\n    .dataframe tbody tr th:only-of-type {\n        vertical-align: middle;\n    }\n\n    .dataframe tbody tr th {\n        vertical-align: top;\n    }\n\n    .dataframe thead th {\n        text-align: right;\n    }\n</style>\n<table border=\"1\" class=\"dataframe\">\n  <thead>\n    <tr style=\"text-align: right;\">\n      <th></th>\n      <th>genre</th>\n      <th>count</th>\n      <th>avg_rating</th>\n    </tr>\n  </thead>\n  <tbody>\n    <tr>\n      <td>0</td>\n      <td>Comedy</td>\n      <td>688</td>\n      <td>6.30</td>\n    </tr>\n    <tr>\n      <td>1</td>\n      <td>Drama</td>\n      <td>1118</td>\n      <td>6.70</td>\n    </tr>\n    <tr>\n      <td>2</td>\n      <td>Family</td>\n      <td>105</td>\n      <td>6.20</td>\n    </tr>\n    <tr>\n      <td>3</td>\n      <td>Action</td>\n      <td>680</td>\n      <td>6.40</td>\n    </tr>\n    <tr>\n      <td>4</td>\n      <td>Crime</td>\n      <td>345</td>\n      <td>6.50</td>\n    </tr>\n  </tbody>\n</table>\n</div>"
     },
     "metadata": {},
     "execution_count": 36
    }
   ],
   "source": [
    "genre_df.head()"
   ]
  },
  {
   "cell_type": "code",
   "execution_count": 37,
   "metadata": {},
   "outputs": [],
   "source": [
    "#TODO: optimize this loop!"
   ]
  },
  {
   "cell_type": "code",
   "execution_count": 38,
   "metadata": {},
   "outputs": [],
   "source": [
    "genre_runtime_dict = {}\n",
    "for index, row in df_finances.iterrows():\n",
    "    for genre in unique_genres:\n",
    "        if genre in row['genre']:\n",
    "            runtime = row['runtime_in_mins']\n",
    "            if genre in genre_runtime_dict:\n",
    "                genre_runtime_dict[genre] += runtime\n",
    "            else:\n",
    "                genre_runtime_dict[genre] = runtime\n",
    "\n",
    "genre_df['runtime_sum'] = list(genre_runtime_dict.values())\n",
    "genre_df['avg_runtime_in_mins'] = round(genre_df['runtime_sum']/genre_df['count'])\n",
    "genre_df.drop(columns=['runtime_sum'], inplace=True)\n",
    "genre_df['avg_runtime_in_mins'] = genre_df['avg_runtime_in_mins'].astype(int)"
   ]
  },
  {
   "cell_type": "code",
   "execution_count": 39,
   "metadata": {},
   "outputs": [
    {
     "output_type": "execute_result",
     "data": {
      "text/plain": [
       "    genre  count  avg_rating  avg_runtime_in_mins\n",
       "0  Comedy    688        6.30                  105\n",
       "1   Drama   1118        6.70                  116\n",
       "2  Family    105        6.20                  104\n",
       "3  Action    680        6.40                  116\n",
       "4   Crime    345        6.50                  112"
      ],
      "text/html": "<div>\n<style scoped>\n    .dataframe tbody tr th:only-of-type {\n        vertical-align: middle;\n    }\n\n    .dataframe tbody tr th {\n        vertical-align: top;\n    }\n\n    .dataframe thead th {\n        text-align: right;\n    }\n</style>\n<table border=\"1\" class=\"dataframe\">\n  <thead>\n    <tr style=\"text-align: right;\">\n      <th></th>\n      <th>genre</th>\n      <th>count</th>\n      <th>avg_rating</th>\n      <th>avg_runtime_in_mins</th>\n    </tr>\n  </thead>\n  <tbody>\n    <tr>\n      <td>0</td>\n      <td>Comedy</td>\n      <td>688</td>\n      <td>6.30</td>\n      <td>105</td>\n    </tr>\n    <tr>\n      <td>1</td>\n      <td>Drama</td>\n      <td>1118</td>\n      <td>6.70</td>\n      <td>116</td>\n    </tr>\n    <tr>\n      <td>2</td>\n      <td>Family</td>\n      <td>105</td>\n      <td>6.20</td>\n      <td>104</td>\n    </tr>\n    <tr>\n      <td>3</td>\n      <td>Action</td>\n      <td>680</td>\n      <td>6.40</td>\n      <td>116</td>\n    </tr>\n    <tr>\n      <td>4</td>\n      <td>Crime</td>\n      <td>345</td>\n      <td>6.50</td>\n      <td>112</td>\n    </tr>\n  </tbody>\n</table>\n</div>"
     },
     "metadata": {},
     "execution_count": 39
    }
   ],
   "source": [
    "genre_df.head()"
   ]
  },
  {
   "cell_type": "code",
   "execution_count": 40,
   "metadata": {},
   "outputs": [],
   "source": [
    "genre_profit_dict = {}\n",
    "for index, row in df_finances.iterrows():\n",
    "    for genre in unique_genres:\n",
    "        if genre in row['genre']:\n",
    "            profit = row['profit']\n",
    "            if genre in genre_profit_dict:\n",
    "                genre_profit_dict[genre] += profit\n",
    "            else:\n",
    "                genre_profit_dict[genre] = profit\n",
    "\n",
    "genre_df['profit_sum'] = list(genre_profit_dict.values())\n",
    "genre_df['avg_profit'] = round(genre_df['profit_sum']/genre_df['count'])\n",
    "genre_df.drop(columns=['profit_sum'], inplace=True)"
   ]
  },
  {
   "cell_type": "code",
   "execution_count": 41,
   "metadata": {},
   "outputs": [
    {
     "output_type": "execute_result",
     "data": {
      "text/plain": [
       "    genre  count  avg_rating  avg_runtime_in_mins   avg_profit\n",
       "0  Comedy    688        6.30                  105  83267043.00\n",
       "1   Drama   1118        6.70                  116  44550327.00\n",
       "2  Family    105        6.20                  104 130868125.00\n",
       "3  Action    680        6.40                  116 135505743.00\n",
       "4   Crime    345        6.50                  112  37286289.00"
      ],
      "text/html": "<div>\n<style scoped>\n    .dataframe tbody tr th:only-of-type {\n        vertical-align: middle;\n    }\n\n    .dataframe tbody tr th {\n        vertical-align: top;\n    }\n\n    .dataframe thead th {\n        text-align: right;\n    }\n</style>\n<table border=\"1\" class=\"dataframe\">\n  <thead>\n    <tr style=\"text-align: right;\">\n      <th></th>\n      <th>genre</th>\n      <th>count</th>\n      <th>avg_rating</th>\n      <th>avg_runtime_in_mins</th>\n      <th>avg_profit</th>\n    </tr>\n  </thead>\n  <tbody>\n    <tr>\n      <td>0</td>\n      <td>Comedy</td>\n      <td>688</td>\n      <td>6.30</td>\n      <td>105</td>\n      <td>83267043.00</td>\n    </tr>\n    <tr>\n      <td>1</td>\n      <td>Drama</td>\n      <td>1118</td>\n      <td>6.70</td>\n      <td>116</td>\n      <td>44550327.00</td>\n    </tr>\n    <tr>\n      <td>2</td>\n      <td>Family</td>\n      <td>105</td>\n      <td>6.20</td>\n      <td>104</td>\n      <td>130868125.00</td>\n    </tr>\n    <tr>\n      <td>3</td>\n      <td>Action</td>\n      <td>680</td>\n      <td>6.40</td>\n      <td>116</td>\n      <td>135505743.00</td>\n    </tr>\n    <tr>\n      <td>4</td>\n      <td>Crime</td>\n      <td>345</td>\n      <td>6.50</td>\n      <td>112</td>\n      <td>37286289.00</td>\n    </tr>\n  </tbody>\n</table>\n</div>"
     },
     "metadata": {},
     "execution_count": 41
    }
   ],
   "source": [
    "genre_df.head()"
   ]
  },
  {
   "source": [
    "### Store Cleaned Dataframes"
   ],
   "cell_type": "markdown",
   "metadata": {}
  },
  {
   "cell_type": "code",
   "execution_count": 42,
   "metadata": {},
   "outputs": [],
   "source": [
    "df.to_pickle(\"./cleaned_movie_data.pkl\")\n",
    "df_finances.to_pickle(\"./movie_finance_data.pkl\")\n",
    "genre_df.to_pickle(\"./movie_genre_data.pkl\")"
   ]
  }
 ]
}