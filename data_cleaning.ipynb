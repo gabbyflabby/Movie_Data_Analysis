{
 "metadata": {
  "language_info": {
   "codemirror_mode": {
    "name": "ipython",
    "version": 3
   },
   "file_extension": ".py",
   "mimetype": "text/x-python",
   "name": "python",
   "nbconvert_exporter": "python",
   "pygments_lexer": "ipython3",
   "version": "3.7.4-final"
  },
  "orig_nbformat": 2,
  "kernelspec": {
   "name": "Python 3.7.4 64-bit ('base': conda)",
   "display_name": "Python 3.7.4 64-bit ('base': conda)",
   "metadata": {
    "interpreter": {
     "hash": "b2e1723db1371234b8d567df1145a76a02469bdac12b84b864d7749e47a35033"
    }
   }
  }
 },
 "nbformat": 4,
 "nbformat_minor": 2,
 "cells": [
  {
   "source": [
    "# Data Cleaning\n",
    "\n",
    "I've collected data from the top 10,000 popular movies ranging from summer 2010 to summer 2020 on IMDB using web scraping and combined this with budget and revenue data for these movies collected from TMDB using their API. \n",
    "\n",
    "Next, I'll get a sense of what the data looks like.\n",
    "\n",
    "## Import Libraries and Data"
   ],
   "cell_type": "markdown",
   "metadata": {}
  },
  {
   "source": [
    "import pandas as pd"
   ],
   "cell_type": "code",
   "metadata": {},
   "execution_count": 1,
   "outputs": []
  },
  {
   "cell_type": "code",
   "execution_count": 2,
   "metadata": {},
   "outputs": [],
   "source": [
    "df = pd.read_pickle(\"./movie_data.pkl\")"
   ]
  },
  {
   "source": [
    "## Explore and Clean Data\n",
    "\n",
    "First, I want to make sure the shape of the dataframe is what I would expect. I collected 10,000 movies and for each I grabbed the following information.\n",
    "* `title`\n",
    "* `mpaa_rating`\n",
    "* `runtime`\n",
    "* `genre`\n",
    "* `star_rating` - This is the rating the movie has on IMDB out of 10.\n",
    "* `budget`\n",
    "* `revenue`\n",
    "\n",
    "As such, I expect my dataframe to have 10,000 rows and 7 columns."
   ],
   "cell_type": "markdown",
   "metadata": {}
  },
  {
   "cell_type": "code",
   "execution_count": 3,
   "metadata": {},
   "outputs": [
    {
     "output_type": "execute_result",
     "data": {
      "text/plain": [
       "(10000, 7)"
      ]
     },
     "metadata": {},
     "execution_count": 3
    }
   ],
   "source": [
    "df.shape"
   ]
  },
  {
   "source": [
    "Great. Now I want to see what this dataframe looks like."
   ],
   "cell_type": "markdown",
   "metadata": {}
  },
  {
   "cell_type": "code",
   "execution_count": 4,
   "metadata": {},
   "outputs": [
    {
     "output_type": "execute_result",
     "data": {
      "text/plain": [
       "                   title mpaa_rating  runtime  \\\n",
       "0                   Cats          PG  110 min   \n",
       "1  Promising Young Woman           R  113 min   \n",
       "2            Inheritance         NaN  111 min   \n",
       "3                The Lie           R   97 min   \n",
       "4          The Gentlemen           R  113 min   \n",
       "\n",
       "                                    genre star_rating      budget      revenue  \n",
       "0     \\nComedy, Drama, Family                     2.8  95000000.0   73515024.0  \n",
       "1      \\nComedy, Crime, Drama                     6.1         0.0          0.0  \n",
       "2  \\nDrama, Mystery, Thriller                     5.5         0.0          0.0  \n",
       "3      \\nCrime, Drama, Horror                     5.7         0.0          0.0  \n",
       "4     \\nAction, Comedy, Crime                     7.9  22000000.0  114996853.0  "
      ],
      "text/html": "<div>\n<style scoped>\n    .dataframe tbody tr th:only-of-type {\n        vertical-align: middle;\n    }\n\n    .dataframe tbody tr th {\n        vertical-align: top;\n    }\n\n    .dataframe thead th {\n        text-align: right;\n    }\n</style>\n<table border=\"1\" class=\"dataframe\">\n  <thead>\n    <tr style=\"text-align: right;\">\n      <th></th>\n      <th>title</th>\n      <th>mpaa_rating</th>\n      <th>runtime</th>\n      <th>genre</th>\n      <th>star_rating</th>\n      <th>budget</th>\n      <th>revenue</th>\n    </tr>\n  </thead>\n  <tbody>\n    <tr>\n      <td>0</td>\n      <td>Cats</td>\n      <td>PG</td>\n      <td>110 min</td>\n      <td>\\nComedy, Drama, Family</td>\n      <td>2.8</td>\n      <td>95000000.0</td>\n      <td>73515024.0</td>\n    </tr>\n    <tr>\n      <td>1</td>\n      <td>Promising Young Woman</td>\n      <td>R</td>\n      <td>113 min</td>\n      <td>\\nComedy, Crime, Drama</td>\n      <td>6.1</td>\n      <td>0.0</td>\n      <td>0.0</td>\n    </tr>\n    <tr>\n      <td>2</td>\n      <td>Inheritance</td>\n      <td>NaN</td>\n      <td>111 min</td>\n      <td>\\nDrama, Mystery, Thriller</td>\n      <td>5.5</td>\n      <td>0.0</td>\n      <td>0.0</td>\n    </tr>\n    <tr>\n      <td>3</td>\n      <td>The Lie</td>\n      <td>R</td>\n      <td>97 min</td>\n      <td>\\nCrime, Drama, Horror</td>\n      <td>5.7</td>\n      <td>0.0</td>\n      <td>0.0</td>\n    </tr>\n    <tr>\n      <td>4</td>\n      <td>The Gentlemen</td>\n      <td>R</td>\n      <td>113 min</td>\n      <td>\\nAction, Comedy, Crime</td>\n      <td>7.9</td>\n      <td>22000000.0</td>\n      <td>114996853.0</td>\n    </tr>\n  </tbody>\n</table>\n</div>"
     },
     "metadata": {},
     "execution_count": 4
    }
   ],
   "source": [
    "df.head()"
   ]
  },
  {
   "source": [
    "That looks correct. Next, I want to look at my columns more in depth."
   ],
   "cell_type": "markdown",
   "metadata": {}
  },
  {
   "cell_type": "code",
   "execution_count": 5,
   "metadata": {},
   "outputs": [
    {
     "output_type": "stream",
     "name": "stdout",
     "text": [
      "<class 'pandas.core.frame.DataFrame'>\nRangeIndex: 10000 entries, 0 to 9999\nData columns (total 7 columns):\ntitle          10000 non-null object\nmpaa_rating    7237 non-null object\nruntime        9914 non-null object\ngenre          9998 non-null object\nstar_rating    9981 non-null object\nbudget         9922 non-null float64\nrevenue        9922 non-null float64\ndtypes: float64(2), object(5)\nmemory usage: 547.0+ KB\n"
     ]
    }
   ],
   "source": [
    "df.info()"
   ]
  },
  {
   "source": [
    "### Fixing Data Types\n",
    "\n",
    "It looks like two of my columns are not the right data type; `star_rating` should be a float, and `runtime` should be an integer. The first will be an easy fix, but since `runtime` contains both numbers and text, I'll need to turn it into a string, strip the text I don't want, and then turn the column into type int. \n",
    "\n",
    "Before I can do this to `runtime`, I'll have to clean the null values, since I can't turn a null value into a string. Since I'm missing this data point for only 91 out of my 10,000 movies, I'll go ahead and just remove these."
   ],
   "cell_type": "markdown",
   "metadata": {}
  },
  {
   "cell_type": "code",
   "execution_count": 6,
   "metadata": {},
   "outputs": [],
   "source": [
    "df.dropna(subset=['runtime'], inplace=True)"
   ]
  },
  {
   "cell_type": "code",
   "execution_count": 7,
   "metadata": {},
   "outputs": [
    {
     "output_type": "execute_result",
     "data": {
      "text/plain": [
       "0"
      ]
     },
     "metadata": {},
     "execution_count": 7
    }
   ],
   "source": [
    "df['runtime'].isna().sum()"
   ]
  },
  {
   "source": [
    "Now I can correct the data types of both `star_rating` and `runtime`."
   ],
   "cell_type": "markdown",
   "metadata": {}
  },
  {
   "cell_type": "code",
   "execution_count": 8,
   "metadata": {},
   "outputs": [],
   "source": [
    "df['runtime'] = df['runtime'].astype(str)\n",
    "df['runtime'] = df['runtime'].apply(lambda x: x.rstrip(' min'))\n",
    "df['runtime'] = df['runtime'].astype(int)"
   ]
  },
  {
   "cell_type": "code",
   "execution_count": 9,
   "metadata": {},
   "outputs": [],
   "source": [
    "df.rename(columns={'runtime': 'runtime_in_mins'}, inplace=True)"
   ]
  },
  {
   "cell_type": "code",
   "execution_count": 10,
   "metadata": {},
   "outputs": [],
   "source": [
    "df['star_rating'] = df['star_rating'].astype(float)"
   ]
  },
  {
   "cell_type": "code",
   "execution_count": 11,
   "metadata": {},
   "outputs": [
    {
     "output_type": "stream",
     "name": "stdout",
     "text": [
      "<class 'pandas.core.frame.DataFrame'>\nInt64Index: 9914 entries, 0 to 9999\nData columns (total 7 columns):\ntitle              9914 non-null object\nmpaa_rating        7227 non-null object\nruntime_in_mins    9914 non-null int64\ngenre              9913 non-null object\nstar_rating        9903 non-null float64\nbudget             9857 non-null float64\nrevenue            9857 non-null float64\ndtypes: float64(3), int64(1), object(3)\nmemory usage: 619.6+ KB\n"
     ]
    }
   ],
   "source": [
    "df.info()"
   ]
  },
  {
   "source": [
    "### Binning `mpaa_rating` Values\n",
    "\n",
    "Next, I'll look at the value count of my categorical column `mpaa_rating`."
   ],
   "cell_type": "markdown",
   "metadata": {}
  },
  {
   "cell_type": "code",
   "execution_count": 12,
   "metadata": {},
   "outputs": [
    {
     "output_type": "execute_result",
     "data": {
      "text/plain": [
       "NaN          2687\n",
       "R            2428\n",
       "Not Rated    1999\n",
       "PG-13        1122\n",
       "TV-MA         491\n",
       "PG            459\n",
       "Unrated       300\n",
       "TV-14         280\n",
       "TV-PG          75\n",
       "G              37\n",
       "TV-G           15\n",
       "TV-Y7           8\n",
       "NC-17           5\n",
       "M               4\n",
       "TV-Y            2\n",
       "MA-17           1\n",
       "18              1\n",
       "Name: mpaa_rating, dtype: int64"
      ]
     },
     "metadata": {},
     "execution_count": 12
    }
   ],
   "source": [
    "df['mpaa_rating'].value_counts(dropna=False)"
   ]
  },
  {
   "source": [
    "Immediately I notice that I have 3 different categories that should be combined into one: NA, 'Not Rated', and 'Unrated'."
   ],
   "cell_type": "markdown",
   "metadata": {}
  },
  {
   "cell_type": "code",
   "execution_count": 13,
   "metadata": {},
   "outputs": [],
   "source": [
    "df['mpaa_rating'].fillna('Not Rated', inplace=True)\n",
    "df['mpaa_rating'].replace('Unrated', 'Not Rated', inplace=True)"
   ]
  },
  {
   "source": [
    "df['mpaa_rating'].value_counts(dropna=False)"
   ],
   "cell_type": "code",
   "metadata": {},
   "execution_count": 14,
   "outputs": [
    {
     "output_type": "execute_result",
     "data": {
      "text/plain": [
       "Not Rated    4986\n",
       "R            2428\n",
       "PG-13        1122\n",
       "TV-MA         491\n",
       "PG            459\n",
       "TV-14         280\n",
       "TV-PG          75\n",
       "G              37\n",
       "TV-G           15\n",
       "TV-Y7           8\n",
       "NC-17           5\n",
       "M               4\n",
       "TV-Y            2\n",
       "MA-17           1\n",
       "18              1\n",
       "Name: mpaa_rating, dtype: int64"
      ]
     },
     "metadata": {},
     "execution_count": 14
    }
   ]
  },
  {
   "source": [
    "I still have a lot of different categories here. For my analysis, I really only care about what type of audience a movie is catering to, not the specific rating. As such, I'm going to combine the categories as follows:\n",
    "* 'All Ages' - 'G' and 'TV-G'\n",
    "* 'Children' - 'TV-Y' and 'TV-Y7'\n",
    "* 'Pre-teen+'  - 'PG' and 'TV-PG'\n",
    "* 'Teen+' - 'PG-13' and 'TV-14'\n",
    "* 'Adult' - 'R', 'NC-17', 'M', 'MA-17', '18' and 'TV-MA'\n",
    "\n",
    "I'll also rename the column to be `intended_audience`."
   ],
   "cell_type": "markdown",
   "metadata": {}
  },
  {
   "cell_type": "code",
   "execution_count": 15,
   "metadata": {},
   "outputs": [],
   "source": [
    "df['mpaa_rating'].replace(['G', 'TV-G'], 'All Ages', inplace=True)\n",
    "df['mpaa_rating'].replace(['TV-Y', 'TV-Y7'], 'Children', inplace=True)\n",
    "df['mpaa_rating'].replace(['PG', 'TV-PG'], 'Pre-teen+', inplace=True)\n",
    "df['mpaa_rating'].replace(['PG-13', 'TV-14'], 'Teen+', inplace=True)\n",
    "df['mpaa_rating'].replace(['R', 'NC-17', 'M', 'MA-17', '18', 'TV-MA'], 'Adult', inplace=True)"
   ]
  },
  {
   "cell_type": "code",
   "execution_count": 16,
   "metadata": {},
   "outputs": [],
   "source": [
    "df.rename(columns={'mpaa_rating': 'intended_audience'}, inplace=True)"
   ]
  },
  {
   "cell_type": "code",
   "execution_count": 17,
   "metadata": {},
   "outputs": [
    {
     "output_type": "execute_result",
     "data": {
      "text/plain": [
       "Not Rated    4986\n",
       "Adult        2930\n",
       "Teen+        1402\n",
       "Pre-teen+     534\n",
       "All Ages       52\n",
       "Children       10\n",
       "Name: intended_audience, dtype: int64"
      ]
     },
     "metadata": {},
     "execution_count": 17
    }
   ],
   "source": [
    "df['intended_audience'].value_counts(dropna=False)"
   ]
  },
  {
   "source": [
    "### Removing Leftover Null Values\n",
    "\n",
    "Another column that could use some quick cleaning is `genre`, which currently only has one null value. I'll fill that with \"No Genre\" to keep it as a string, and remove the leading newline character."
   ],
   "cell_type": "markdown",
   "metadata": {}
  },
  {
   "cell_type": "code",
   "execution_count": 18,
   "metadata": {},
   "outputs": [],
   "source": [
    "df['genre'].fillna(\"No Genre\", inplace=True)\n",
    "df['genre'] = df['genre'].apply(lambda x: x.lstrip('\\n'))"
   ]
  },
  {
   "source": [
    "The `star_rating` column also has 8 null values. I'll just remove these rows from my dataset since it will still leave me with plenty of data points to analyze."
   ],
   "cell_type": "markdown",
   "metadata": {}
  },
  {
   "cell_type": "code",
   "execution_count": 19,
   "metadata": {},
   "outputs": [],
   "source": [
    "df.dropna(subset=['star_rating'], inplace=True)"
   ]
  },
  {
   "cell_type": "code",
   "execution_count": 20,
   "metadata": {},
   "outputs": [
    {
     "output_type": "execute_result",
     "data": {
      "text/plain": [
       "(9903, 7)"
      ]
     },
     "metadata": {},
     "execution_count": 20
    }
   ],
   "source": [
    "df.shape"
   ]
  },
  {
   "source": [
    "### Creating a Finances Dataframe\n",
    "\n",
    "From the table, I see that some budget and revenue numbers are listed as 0. When analyzing movie budgets and revenue, I only want to analyze movies which have these data points. I'll create a new dataframe `df_finances` which I can use when analyzing the finances of the movies. \n",
    "\n",
    "To start off, I'll see how many 0 values I have for these."
   ],
   "cell_type": "markdown",
   "metadata": {}
  },
  {
   "cell_type": "code",
   "execution_count": 21,
   "metadata": {},
   "outputs": [
    {
     "output_type": "execute_result",
     "data": {
      "text/plain": [
       "title                   0\n",
       "intended_audience       0\n",
       "runtime_in_mins         0\n",
       "genre                   0\n",
       "star_rating             0\n",
       "budget               6809\n",
       "revenue              6945\n",
       "dtype: int64"
      ]
     },
     "metadata": {},
     "execution_count": 21
    }
   ],
   "source": [
    "df.isin([0]).sum()"
   ]
  },
  {
   "cell_type": "code",
   "execution_count": 22,
   "metadata": {},
   "outputs": [],
   "source": [
    "df_finances = df[df['revenue'] != 0] \n",
    "df_finances = df_finances[df_finances['budget'] != 0]\n",
    "df_finances.dropna(subset=['revenue', 'budget'], inplace=True)"
   ]
  },
  {
   "source": [
    "To this dataframe, I want to add a profit column as a combination of the budget and revenue columns."
   ],
   "cell_type": "markdown",
   "metadata": {}
  },
  {
   "cell_type": "code",
   "execution_count": 23,
   "metadata": {},
   "outputs": [],
   "source": [
    "df_finances['profit'] = df_finances['revenue'] - df_finances['budget']"
   ]
  },
  {
   "cell_type": "code",
   "execution_count": 24,
   "metadata": {},
   "outputs": [],
   "source": [
    "df_finances.reset_index(drop=True, inplace=True)"
   ]
  },
  {
   "cell_type": "code",
   "execution_count": 25,
   "metadata": {},
   "outputs": [
    {
     "output_type": "execute_result",
     "data": {
      "text/plain": [
       "                              title intended_audience  runtime_in_mins  \\\n",
       "0                              Cats         Pre-teen+              110   \n",
       "1                     The Gentlemen             Adult              113   \n",
       "2  Once Upon a Time... In Hollywood             Adult              161   \n",
       "3                 The Invisible Man             Adult              124   \n",
       "4                        Knives Out             Teen+              130   \n",
       "\n",
       "                                 genre  star_rating      budget      revenue  \\\n",
       "0    Comedy, Drama, Family                      2.8  95000000.0   73515024.0   \n",
       "1    Action, Comedy, Crime                      7.9  22000000.0  114996853.0   \n",
       "2            Comedy, Drama                      7.6  95000000.0  374251247.0   \n",
       "3  Horror, Mystery, Sci-Fi                      7.1   7000000.0  130234661.0   \n",
       "4     Comedy, Crime, Drama                      7.9  40000000.0  309232797.0   \n",
       "\n",
       "        profit  \n",
       "0  -21484976.0  \n",
       "1   92996853.0  \n",
       "2  279251247.0  \n",
       "3  123234661.0  \n",
       "4  269232797.0  "
      ],
      "text/html": "<div>\n<style scoped>\n    .dataframe tbody tr th:only-of-type {\n        vertical-align: middle;\n    }\n\n    .dataframe tbody tr th {\n        vertical-align: top;\n    }\n\n    .dataframe thead th {\n        text-align: right;\n    }\n</style>\n<table border=\"1\" class=\"dataframe\">\n  <thead>\n    <tr style=\"text-align: right;\">\n      <th></th>\n      <th>title</th>\n      <th>intended_audience</th>\n      <th>runtime_in_mins</th>\n      <th>genre</th>\n      <th>star_rating</th>\n      <th>budget</th>\n      <th>revenue</th>\n      <th>profit</th>\n    </tr>\n  </thead>\n  <tbody>\n    <tr>\n      <td>0</td>\n      <td>Cats</td>\n      <td>Pre-teen+</td>\n      <td>110</td>\n      <td>Comedy, Drama, Family</td>\n      <td>2.8</td>\n      <td>95000000.0</td>\n      <td>73515024.0</td>\n      <td>-21484976.0</td>\n    </tr>\n    <tr>\n      <td>1</td>\n      <td>The Gentlemen</td>\n      <td>Adult</td>\n      <td>113</td>\n      <td>Action, Comedy, Crime</td>\n      <td>7.9</td>\n      <td>22000000.0</td>\n      <td>114996853.0</td>\n      <td>92996853.0</td>\n    </tr>\n    <tr>\n      <td>2</td>\n      <td>Once Upon a Time... In Hollywood</td>\n      <td>Adult</td>\n      <td>161</td>\n      <td>Comedy, Drama</td>\n      <td>7.6</td>\n      <td>95000000.0</td>\n      <td>374251247.0</td>\n      <td>279251247.0</td>\n    </tr>\n    <tr>\n      <td>3</td>\n      <td>The Invisible Man</td>\n      <td>Adult</td>\n      <td>124</td>\n      <td>Horror, Mystery, Sci-Fi</td>\n      <td>7.1</td>\n      <td>7000000.0</td>\n      <td>130234661.0</td>\n      <td>123234661.0</td>\n    </tr>\n    <tr>\n      <td>4</td>\n      <td>Knives Out</td>\n      <td>Teen+</td>\n      <td>130</td>\n      <td>Comedy, Crime, Drama</td>\n      <td>7.9</td>\n      <td>40000000.0</td>\n      <td>309232797.0</td>\n      <td>269232797.0</td>\n    </tr>\n  </tbody>\n</table>\n</div>"
     },
     "metadata": {},
     "execution_count": 25
    }
   ],
   "source": [
    "df_finances.head()"
   ]
  },
  {
   "cell_type": "code",
   "execution_count": 26,
   "metadata": {},
   "outputs": [
    {
     "output_type": "execute_result",
     "data": {
      "text/plain": [
       "(2077, 8)"
      ]
     },
     "metadata": {},
     "execution_count": 26
    }
   ],
   "source": [
    "df_finances.shape"
   ]
  },
  {
   "source": [
    "Looks like that leaves me with 2,117 movie details to use for analyzing popular movie finances.\n",
    "\n",
    "### Creating a Genre Dataframe\n",
    "\n",
    "The genre column value for each movie is a list of the genres they belong to. My goal for these is to see which genres provide higher profit and ratings on average, as well as their average runtimes. To get this information, I'm going to create a new dataframe with every row being a genre, and the columns being `avg_rating`, `avg_runtime` and `avg_profit`.\n",
    "\n",
    "To start, I'll need to collect a count of how many movies fit into each individual genre. I'll use the `df_finances` dataframe for this, since I need revenue and budget values to be valid in order to calculate the profit."
   ],
   "cell_type": "markdown",
   "metadata": {}
  },
  {
   "cell_type": "code",
   "execution_count": 27,
   "metadata": {},
   "outputs": [],
   "source": [
    "genre_dict = {}\n",
    "for genres in df_finances['genre']: \n",
    "    for genre in genres.split(','):\n",
    "        genre = genre.strip()\n",
    "        if genre in genre_dict:\n",
    "            genre_dict[genre] += 1\n",
    "        else:\n",
    "            genre_dict[genre] = 1"
   ]
  },
  {
   "source": [
    "Now I'll make a new dataframe `genre_df` with a column of genres and a column counting how many movies fell into that genre."
   ],
   "cell_type": "markdown",
   "metadata": {}
  },
  {
   "cell_type": "code",
   "execution_count": 28,
   "metadata": {},
   "outputs": [],
   "source": [
    "genre_df_dict = {'genre': list(genre_dict.keys()), 'count': list(genre_dict.values())}\n",
    "genre_df = pd.DataFrame(genre_df_dict)"
   ]
  },
  {
   "cell_type": "code",
   "execution_count": 29,
   "metadata": {},
   "outputs": [
    {
     "output_type": "execute_result",
     "data": {
      "text/plain": [
       "    genre  count\n",
       "0  Comedy    688\n",
       "1   Drama   1118\n",
       "2  Family    105\n",
       "3  Action    680\n",
       "4   Crime    345"
      ],
      "text/html": "<div>\n<style scoped>\n    .dataframe tbody tr th:only-of-type {\n        vertical-align: middle;\n    }\n\n    .dataframe tbody tr th {\n        vertical-align: top;\n    }\n\n    .dataframe thead th {\n        text-align: right;\n    }\n</style>\n<table border=\"1\" class=\"dataframe\">\n  <thead>\n    <tr style=\"text-align: right;\">\n      <th></th>\n      <th>genre</th>\n      <th>count</th>\n    </tr>\n  </thead>\n  <tbody>\n    <tr>\n      <td>0</td>\n      <td>Comedy</td>\n      <td>688</td>\n    </tr>\n    <tr>\n      <td>1</td>\n      <td>Drama</td>\n      <td>1118</td>\n    </tr>\n    <tr>\n      <td>2</td>\n      <td>Family</td>\n      <td>105</td>\n    </tr>\n    <tr>\n      <td>3</td>\n      <td>Action</td>\n      <td>680</td>\n    </tr>\n    <tr>\n      <td>4</td>\n      <td>Crime</td>\n      <td>345</td>\n    </tr>\n  </tbody>\n</table>\n</div>"
     },
     "metadata": {},
     "execution_count": 29
    }
   ],
   "source": [
    "genre_df.head()"
   ]
  },
  {
   "source": [
    "Looks great, now I'll add the rating, runtime and profit columns."
   ],
   "cell_type": "markdown",
   "metadata": {}
  },
  {
   "cell_type": "code",
   "execution_count": 30,
   "metadata": {
    "tags": []
   },
   "outputs": [],
   "source": [
    "unique_genres = list(genre_df['genre'].values)\n",
    "genre_rating_dict = {}\n",
    "for index, row in df_finances.iterrows():\n",
    "    for genre in unique_genres:\n",
    "        if genre in row['genre']:\n",
    "            rating = row['star_rating']\n",
    "            if genre in genre_rating_dict:\n",
    "                genre_rating_dict[genre] += rating\n",
    "            else:\n",
    "                genre_rating_dict[genre] = rating\n",
    "\n",
    "genre_df['rating_sum'] = list(genre_rating_dict.values())\n",
    "genre_df['avg_rating'] = round(genre_df['rating_sum']/genre_df['count'], 1)\n",
    "genre_df.drop(columns=['rating_sum'], inplace=True)"
   ]
  },
  {
   "cell_type": "code",
   "execution_count": 31,
   "metadata": {},
   "outputs": [
    {
     "output_type": "execute_result",
     "data": {
      "text/plain": [
       "    genre  count  avg_rating\n",
       "0  Comedy    688         6.3\n",
       "1   Drama   1118         6.7\n",
       "2  Family    105         6.2\n",
       "3  Action    680         6.4\n",
       "4   Crime    345         6.5"
      ],
      "text/html": "<div>\n<style scoped>\n    .dataframe tbody tr th:only-of-type {\n        vertical-align: middle;\n    }\n\n    .dataframe tbody tr th {\n        vertical-align: top;\n    }\n\n    .dataframe thead th {\n        text-align: right;\n    }\n</style>\n<table border=\"1\" class=\"dataframe\">\n  <thead>\n    <tr style=\"text-align: right;\">\n      <th></th>\n      <th>genre</th>\n      <th>count</th>\n      <th>avg_rating</th>\n    </tr>\n  </thead>\n  <tbody>\n    <tr>\n      <td>0</td>\n      <td>Comedy</td>\n      <td>688</td>\n      <td>6.3</td>\n    </tr>\n    <tr>\n      <td>1</td>\n      <td>Drama</td>\n      <td>1118</td>\n      <td>6.7</td>\n    </tr>\n    <tr>\n      <td>2</td>\n      <td>Family</td>\n      <td>105</td>\n      <td>6.2</td>\n    </tr>\n    <tr>\n      <td>3</td>\n      <td>Action</td>\n      <td>680</td>\n      <td>6.4</td>\n    </tr>\n    <tr>\n      <td>4</td>\n      <td>Crime</td>\n      <td>345</td>\n      <td>6.5</td>\n    </tr>\n  </tbody>\n</table>\n</div>"
     },
     "metadata": {},
     "execution_count": 31
    }
   ],
   "source": [
    "genre_df.head()"
   ]
  },
  {
   "cell_type": "code",
   "execution_count": 32,
   "metadata": {},
   "outputs": [],
   "source": [
    "#TODO: optimize this loop!"
   ]
  },
  {
   "cell_type": "code",
   "execution_count": 33,
   "metadata": {},
   "outputs": [],
   "source": [
    "genre_runtime_dict = {}\n",
    "for index, row in df_finances.iterrows():\n",
    "    for genre in unique_genres:\n",
    "        if genre in row['genre']:\n",
    "            runtime = row['runtime_in_mins']\n",
    "            if genre in genre_runtime_dict:\n",
    "                genre_runtime_dict[genre] += runtime\n",
    "            else:\n",
    "                genre_runtime_dict[genre] = runtime\n",
    "\n",
    "genre_df['runtime_sum'] = list(genre_runtime_dict.values())\n",
    "genre_df['avg_runtime_in_mins'] = round(genre_df['runtime_sum']/genre_df['count'])\n",
    "genre_df.drop(columns=['runtime_sum'], inplace=True)\n",
    "genre_df['avg_runtime_in_mins'] = genre_df['avg_runtime_in_mins'].astype(int)"
   ]
  },
  {
   "cell_type": "code",
   "execution_count": 34,
   "metadata": {},
   "outputs": [
    {
     "output_type": "execute_result",
     "data": {
      "text/plain": [
       "    genre  count  avg_rating  avg_runtime_in_mins\n",
       "0  Comedy    688         6.3                  105\n",
       "1   Drama   1118         6.7                  116\n",
       "2  Family    105         6.2                  104\n",
       "3  Action    680         6.4                  116\n",
       "4   Crime    345         6.5                  112"
      ],
      "text/html": "<div>\n<style scoped>\n    .dataframe tbody tr th:only-of-type {\n        vertical-align: middle;\n    }\n\n    .dataframe tbody tr th {\n        vertical-align: top;\n    }\n\n    .dataframe thead th {\n        text-align: right;\n    }\n</style>\n<table border=\"1\" class=\"dataframe\">\n  <thead>\n    <tr style=\"text-align: right;\">\n      <th></th>\n      <th>genre</th>\n      <th>count</th>\n      <th>avg_rating</th>\n      <th>avg_runtime_in_mins</th>\n    </tr>\n  </thead>\n  <tbody>\n    <tr>\n      <td>0</td>\n      <td>Comedy</td>\n      <td>688</td>\n      <td>6.3</td>\n      <td>105</td>\n    </tr>\n    <tr>\n      <td>1</td>\n      <td>Drama</td>\n      <td>1118</td>\n      <td>6.7</td>\n      <td>116</td>\n    </tr>\n    <tr>\n      <td>2</td>\n      <td>Family</td>\n      <td>105</td>\n      <td>6.2</td>\n      <td>104</td>\n    </tr>\n    <tr>\n      <td>3</td>\n      <td>Action</td>\n      <td>680</td>\n      <td>6.4</td>\n      <td>116</td>\n    </tr>\n    <tr>\n      <td>4</td>\n      <td>Crime</td>\n      <td>345</td>\n      <td>6.5</td>\n      <td>112</td>\n    </tr>\n  </tbody>\n</table>\n</div>"
     },
     "metadata": {},
     "execution_count": 34
    }
   ],
   "source": [
    "genre_df.head()"
   ]
  },
  {
   "cell_type": "code",
   "execution_count": 35,
   "metadata": {},
   "outputs": [],
   "source": [
    "genre_profit_dict = {}\n",
    "for index, row in df_finances.iterrows():\n",
    "    for genre in unique_genres:\n",
    "        if genre in row['genre']:\n",
    "            profit = row['profit']\n",
    "            if genre in genre_profit_dict:\n",
    "                genre_profit_dict[genre] += profit\n",
    "            else:\n",
    "                genre_profit_dict[genre] = profit\n",
    "\n",
    "genre_df['profit_sum'] = list(genre_profit_dict.values())\n",
    "genre_df['avg_profit'] = round(genre_df['profit_sum']/genre_df['count'])\n",
    "genre_df.drop(columns=['profit_sum'], inplace=True)"
   ]
  },
  {
   "cell_type": "code",
   "execution_count": 36,
   "metadata": {},
   "outputs": [
    {
     "output_type": "execute_result",
     "data": {
      "text/plain": [
       "    genre  count  avg_rating  avg_runtime_in_mins   avg_profit\n",
       "0  Comedy    688         6.3                  105   83267043.0\n",
       "1   Drama   1118         6.7                  116   44550327.0\n",
       "2  Family    105         6.2                  104  130868125.0\n",
       "3  Action    680         6.4                  116  135505743.0\n",
       "4   Crime    345         6.5                  112   37286289.0"
      ],
      "text/html": "<div>\n<style scoped>\n    .dataframe tbody tr th:only-of-type {\n        vertical-align: middle;\n    }\n\n    .dataframe tbody tr th {\n        vertical-align: top;\n    }\n\n    .dataframe thead th {\n        text-align: right;\n    }\n</style>\n<table border=\"1\" class=\"dataframe\">\n  <thead>\n    <tr style=\"text-align: right;\">\n      <th></th>\n      <th>genre</th>\n      <th>count</th>\n      <th>avg_rating</th>\n      <th>avg_runtime_in_mins</th>\n      <th>avg_profit</th>\n    </tr>\n  </thead>\n  <tbody>\n    <tr>\n      <td>0</td>\n      <td>Comedy</td>\n      <td>688</td>\n      <td>6.3</td>\n      <td>105</td>\n      <td>83267043.0</td>\n    </tr>\n    <tr>\n      <td>1</td>\n      <td>Drama</td>\n      <td>1118</td>\n      <td>6.7</td>\n      <td>116</td>\n      <td>44550327.0</td>\n    </tr>\n    <tr>\n      <td>2</td>\n      <td>Family</td>\n      <td>105</td>\n      <td>6.2</td>\n      <td>104</td>\n      <td>130868125.0</td>\n    </tr>\n    <tr>\n      <td>3</td>\n      <td>Action</td>\n      <td>680</td>\n      <td>6.4</td>\n      <td>116</td>\n      <td>135505743.0</td>\n    </tr>\n    <tr>\n      <td>4</td>\n      <td>Crime</td>\n      <td>345</td>\n      <td>6.5</td>\n      <td>112</td>\n      <td>37286289.0</td>\n    </tr>\n  </tbody>\n</table>\n</div>"
     },
     "metadata": {},
     "execution_count": 36
    }
   ],
   "source": [
    "genre_df.head()"
   ]
  },
  {
   "source": [
    "### Store Cleaned Dataframes"
   ],
   "cell_type": "markdown",
   "metadata": {}
  },
  {
   "cell_type": "code",
   "execution_count": 37,
   "metadata": {},
   "outputs": [],
   "source": [
    "df.to_pickle(\"./cleaned_movie_data.pkl\")\n",
    "df_finances.to_pickle(\"./movie_finance_data.pkl\")\n",
    "genre_df.to_pickle(\"./movie_genre_data.pkl\")"
   ]
  }
 ]
}