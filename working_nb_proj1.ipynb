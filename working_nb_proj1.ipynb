{
 "cells": [
  {
   "cell_type": "code",
   "execution_count": 1,
   "metadata": {},
   "outputs": [],
   "source": [
    "from bs4 import BeautifulSoup\n",
    "import requests"
   ]
  },
  {
   "cell_type": "code",
   "execution_count": 3,
   "metadata": {},
   "outputs": [],
   "source": [
    "html_page = requests.get('https://www.imdb.com/search/title/?title_type=feature&release_date=2010-01-01,2019-12-31')"
   ]
  },
  {
   "cell_type": "code",
   "execution_count": 4,
   "metadata": {},
   "outputs": [
    {
     "data": {
      "text/plain": [
       "<Response [200]>"
      ]
     },
     "execution_count": 4,
     "metadata": {},
     "output_type": "execute_result"
    }
   ],
   "source": [
    "html_page"
   ]
  },
  {
   "cell_type": "code",
   "execution_count": 5,
   "metadata": {},
   "outputs": [],
   "source": [
    "soup = BeautifulSoup(html_page.content, 'html.parser')"
   ]
  },
  {
   "cell_type": "code",
   "execution_count": 6,
   "metadata": {},
   "outputs": [
    {
     "data": {
      "text/plain": [
       "bs4.BeautifulSoup"
      ]
     },
     "execution_count": 6,
     "metadata": {},
     "output_type": "execute_result"
    }
   ],
   "source": [
    "type(soup)"
   ]
  },
  {
   "cell_type": "code",
   "execution_count": 7,
   "metadata": {},
   "outputs": [],
   "source": [
    "movies_container = soup.find('div', class_='lister-list')"
   ]
  },
  {
   "cell_type": "code",
   "execution_count": 9,
   "metadata": {},
   "outputs": [
    {
     "data": {
      "text/plain": [
       "<h3 class=\"lister-item-header\">\n",
       "<span class=\"lister-item-index unbold text-primary\">1.</span>\n",
       "<a href=\"/title/tt6751668/\">Parasite</a>\n",
       "<span class=\"lister-item-year text-muted unbold\">(2019)</span>\n",
       "</h3>"
      ]
     },
     "execution_count": 9,
     "metadata": {},
     "output_type": "execute_result"
    }
   ],
   "source": [
    "titles = movies_container.findAll('h3')\n",
    "titles[0]"
   ]
  },
  {
   "cell_type": "code",
   "execution_count": 12,
   "metadata": {},
   "outputs": [
    {
     "data": {
      "text/plain": [
       "<a href=\"/title/tt6751668/\">Parasite</a>"
      ]
     },
     "execution_count": 12,
     "metadata": {},
     "output_type": "execute_result"
    }
   ],
   "source": [
    "titles[0].find('a')"
   ]
  },
  {
   "cell_type": "code",
   "execution_count": 13,
   "metadata": {},
   "outputs": [
    {
     "data": {
      "text/plain": [
       "'Parasite'"
      ]
     },
     "execution_count": 13,
     "metadata": {},
     "output_type": "execute_result"
    }
   ],
   "source": [
    "titles[0].find('a').get_text()"
   ]
  },
  {
   "cell_type": "code",
   "execution_count": 14,
   "metadata": {},
   "outputs": [],
   "source": [
    "imdb_movie_list = movies_container.findAll('div', class_=\"lister-item-content\")"
   ]
  },
  {
   "cell_type": "code",
   "execution_count": 24,
   "metadata": {},
   "outputs": [],
   "source": [
    "def titles(movie_container):\n",
    "    all_titles = [h3.find('a').get_text() for h3 in movies_container.findAll('h3')]\n",
    "    return all_titles"
   ]
  },
  {
   "cell_type": "code",
   "execution_count": 25,
   "metadata": {},
   "outputs": [],
   "source": [
    "def mpaa_ratings(imdb_movie_list):\n",
    "    mpaa_ratings = []\n",
    "    for movie in imdb_movie_list:\n",
    "        rating = movie.find('span', class_='certificate')\n",
    "        if rating:\n",
    "            mpaa_ratings.append(rating.get_text())\n",
    "        else:\n",
    "            mpaa_ratings.append(\"NaN\")\n",
    "    return mpaa_ratings"
   ]
  },
  {
   "cell_type": "code",
   "execution_count": 26,
   "metadata": {},
   "outputs": [],
   "source": [
    "def runtimes(imdb_movie_list):\n",
    "    all_runtimes = []\n",
    "    for movie in imdb_movie_list:\n",
    "        runtime = movie.find('span', class_='runtime')\n",
    "        if runtime:\n",
    "            all_runtimes.append(runtime.get_text())\n",
    "        else:\n",
    "            all_runtimes.append('NaN')\n",
    "    return all_runtimes"
   ]
  },
  {
   "cell_type": "code",
   "execution_count": 27,
   "metadata": {},
   "outputs": [],
   "source": [
    "def genres(imdb_movie_list):\n",
    "    all_genres = []\n",
    "    for movie in imdb_movie_list:\n",
    "        genre = movie.find('span', class_='genre')\n",
    "        if genre:\n",
    "            all_genres.append(genre.get_text())\n",
    "        else:\n",
    "            all_genres.append(\"NaN\")\n",
    "    all_genres = [genre.strip() for genre in all_genres]\n",
    "    return all_genres"
   ]
  },
  {
   "cell_type": "code",
   "execution_count": 35,
   "metadata": {},
   "outputs": [],
   "source": [
    "def imdb_id(imdb_movie_list):\n",
    "    all_ids = []\n",
    "    for movie in imdb_movie_list:\n",
    "        header = movie.find('h3', class_=\"lister-item-header\")\n",
    "        xid = header.find('a').attrs['href']\n",
    "        xid = xid.lstrip('/title/')\n",
    "        xid = xid.rstrip('/')\n",
    "        xid = \"tt\"+xid\n",
    "        all_ids.append(xid)\n",
    "    return all_ids"
   ]
  },
  {
   "cell_type": "code",
   "execution_count": 36,
   "metadata": {},
   "outputs": [],
   "source": [
    "def star_ratings(imdb_movie_list):\n",
    "    star_ratings = []\n",
    "    for movie in imdb_movie_list:\n",
    "        rating = movie.find('strong')\n",
    "        if rating:\n",
    "            star_ratings.append(rating.get_text())\n",
    "        else:\n",
    "            star_ratings.append(\"NaN\")\n",
    "    return star_ratings"
   ]
  },
  {
   "cell_type": "code",
   "execution_count": 37,
   "metadata": {},
   "outputs": [],
   "source": [
    "import time"
   ]
  },
  {
   "cell_type": "code",
   "execution_count": 38,
   "metadata": {},
   "outputs": [],
   "source": [
    "#collect data from all pages\n",
    "all_titles = []\n",
    "all_mpaa_ratings = []\n",
    "all_runtimes = []\n",
    "all_genres = []\n",
    "all_star_ratings = []\n",
    "all_ids = []\n",
    "\n",
    "#first page\n",
    "html_page = requests.get(\"https://www.imdb.com/search/title/?title_type=feature&release_date=2010-01-01,2019-12-31\")\n",
    "soup = BeautifulSoup(html_page.content, 'html.parser')\n",
    "movies_container = soup.find('div', class_=\"lister-list\")\n",
    "imdb_movie_list = movies_container.findAll('div', class_=\"lister-item-content\")\n",
    "for title in titles(movies_container):\n",
    "    all_titles.append(title)\n",
    "for rating in mpaa_ratings(imdb_movie_list):\n",
    "    all_mpaa_ratings.append(rating)\n",
    "for runtime in runtimes(imdb_movie_list):\n",
    "    all_runtimes.append(runtime)\n",
    "for genre in genres(imdb_movie_list):\n",
    "    all_genres.append(genre)\n",
    "for rating in star_ratings(imdb_movie_list):\n",
    "    all_star_ratings.append(rating)\n",
    "for xid in imdb_id(imdb_movie_list):\n",
    "    all_ids.append(xid)\n",
    "\n",
    "#for every other page\n",
    "for i in range(51,10_001,50):\n",
    "    url = f\"https://www.imdb.com/search/title/?title_type=feature&release_date=2010-01-01,2019-12-31&start={i}&ref_=adv_nxt\"\n",
    "    html_page = requests.get(url)\n",
    "    soup = BeautifulSoup(html_page.content, 'html.parser')\n",
    "    movies_container = soup.find('div', class_=\"lister-list\")\n",
    "    imdb_movie_list = movies_container.findAll('div', class_=\"lister-item-content\")\n",
    "    for title in titles(movies_container):\n",
    "        all_titles.append(title)\n",
    "    for rating in mpaa_ratings(imdb_movie_list):\n",
    "        all_mpaa_ratings.append(rating)\n",
    "    for runtime in runtimes(imdb_movie_list):\n",
    "        all_runtimes.append(runtime)\n",
    "    for genre in genres(imdb_movie_list):\n",
    "        all_genres.append(genre)\n",
    "    for rating in star_ratings(imdb_movie_list):\n",
    "        all_star_ratings.append(rating)\n",
    "    for xid in imdb_id(imdb_movie_list):\n",
    "        all_ids.append(xid)\n",
    "    time.sleep(0.5)"
   ]
  },
  {
   "cell_type": "code",
   "execution_count": null,
   "metadata": {},
   "outputs": [],
   "source": []
  },
  {
   "cell_type": "code",
   "execution_count": null,
   "metadata": {},
   "outputs": [],
   "source": []
  }
 ],
 "metadata": {
  "kernelspec": {
   "display_name": "Python 3",
   "language": "python",
   "name": "python3"
  },
  "language_info": {
   "codemirror_mode": {
    "name": "ipython",
    "version": 3
   },
   "file_extension": ".py",
   "mimetype": "text/x-python",
   "name": "python",
   "nbconvert_exporter": "python",
   "pygments_lexer": "ipython3",
   "version": "3.7.4"
  }
 },
 "nbformat": 4,
 "nbformat_minor": 2
}
