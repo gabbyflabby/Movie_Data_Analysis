{
 "cells": [
  {
   "cell_type": "code",
   "execution_count": 75,
   "metadata": {},
   "outputs": [],
   "source": [
    "import pandas as pd\n",
    "import numpy as np\n",
    "import matplotlib.pyplot as plt\n",
    "%matplotlib inline\n",
    "import seaborn as sns"
   ]
  },
  {
   "cell_type": "code",
   "execution_count": 48,
   "metadata": {},
   "outputs": [],
   "source": [
    "movie_df = pd.read_csv('movie_data.csv')"
   ]
  },
  {
   "cell_type": "code",
   "execution_count": 49,
   "metadata": {},
   "outputs": [],
   "source": [
    "movie_df.drop(['Unnamed: 0'], axis=1, inplace=True)"
   ]
  },
  {
   "cell_type": "code",
   "execution_count": 50,
   "metadata": {},
   "outputs": [
    {
     "data": {
      "text/html": [
       "<div>\n",
       "<style scoped>\n",
       "    .dataframe tbody tr th:only-of-type {\n",
       "        vertical-align: middle;\n",
       "    }\n",
       "\n",
       "    .dataframe tbody tr th {\n",
       "        vertical-align: top;\n",
       "    }\n",
       "\n",
       "    .dataframe thead th {\n",
       "        text-align: right;\n",
       "    }\n",
       "</style>\n",
       "<table border=\"1\" class=\"dataframe\">\n",
       "  <thead>\n",
       "    <tr style=\"text-align: right;\">\n",
       "      <th></th>\n",
       "      <th>movie_id</th>\n",
       "      <th>movie_title</th>\n",
       "      <th>mpaa_rating</th>\n",
       "      <th>runtime</th>\n",
       "      <th>genre</th>\n",
       "      <th>star_rating</th>\n",
       "      <th>gross_revenue</th>\n",
       "      <th>budget</th>\n",
       "    </tr>\n",
       "  </thead>\n",
       "  <tbody>\n",
       "    <tr>\n",
       "      <td>0</td>\n",
       "      <td>tt6751668</td>\n",
       "      <td>Parasite</td>\n",
       "      <td>R</td>\n",
       "      <td>132 min</td>\n",
       "      <td>Comedy, Drama, Thriller</td>\n",
       "      <td>8.6</td>\n",
       "      <td>201055038.0</td>\n",
       "      <td>11363000.0</td>\n",
       "    </tr>\n",
       "    <tr>\n",
       "      <td>1</td>\n",
       "      <td>tt8946378</td>\n",
       "      <td>Knives Out</td>\n",
       "      <td>PG-13</td>\n",
       "      <td>131 min</td>\n",
       "      <td>Comedy, Crime, Drama</td>\n",
       "      <td>8.0</td>\n",
       "      <td>163700000.0</td>\n",
       "      <td>40000000.0</td>\n",
       "    </tr>\n",
       "    <tr>\n",
       "      <td>2</td>\n",
       "      <td>tt2584384</td>\n",
       "      <td>Jojo Rabbit</td>\n",
       "      <td>PG-13</td>\n",
       "      <td>108 min</td>\n",
       "      <td>Comedy, Drama, War</td>\n",
       "      <td>8.0</td>\n",
       "      <td>82468705.0</td>\n",
       "      <td>14000000.0</td>\n",
       "    </tr>\n",
       "    <tr>\n",
       "      <td>3</td>\n",
       "      <td>tt8579674</td>\n",
       "      <td>1917</td>\n",
       "      <td>R</td>\n",
       "      <td>119 min</td>\n",
       "      <td>Drama, War</td>\n",
       "      <td>8.4</td>\n",
       "      <td>200483309.0</td>\n",
       "      <td>100000000.0</td>\n",
       "    </tr>\n",
       "    <tr>\n",
       "      <td>4</td>\n",
       "      <td>tt8367814</td>\n",
       "      <td>The Gentlemen</td>\n",
       "      <td>R</td>\n",
       "      <td>113 min</td>\n",
       "      <td>Action, Comedy, Crime</td>\n",
       "      <td>8.1</td>\n",
       "      <td>48441089.0</td>\n",
       "      <td>18400000.0</td>\n",
       "    </tr>\n",
       "    <tr>\n",
       "      <td>...</td>\n",
       "      <td>...</td>\n",
       "      <td>...</td>\n",
       "      <td>...</td>\n",
       "      <td>...</td>\n",
       "      <td>...</td>\n",
       "      <td>...</td>\n",
       "      <td>...</td>\n",
       "      <td>...</td>\n",
       "    </tr>\n",
       "    <tr>\n",
       "      <td>9995</td>\n",
       "      <td>tt1533817</td>\n",
       "      <td>Stomp the Yard 2: Homecoming</td>\n",
       "      <td>PG-13</td>\n",
       "      <td>89 min</td>\n",
       "      <td>Drama, Music</td>\n",
       "      <td>4.2</td>\n",
       "      <td>0.0</td>\n",
       "      <td>0.0</td>\n",
       "    </tr>\n",
       "    <tr>\n",
       "      <td>9996</td>\n",
       "      <td>tt5258904</td>\n",
       "      <td>B&amp;B</td>\n",
       "      <td>TV-MA</td>\n",
       "      <td>87 min</td>\n",
       "      <td>Thriller</td>\n",
       "      <td>5.3</td>\n",
       "      <td>0.0</td>\n",
       "      <td>1000000.0</td>\n",
       "    </tr>\n",
       "    <tr>\n",
       "      <td>9997</td>\n",
       "      <td>tt2585736</td>\n",
       "      <td>American Bistro</td>\n",
       "      <td>TV-MA</td>\n",
       "      <td>94 min</td>\n",
       "      <td>Adventure, Comedy, Drama</td>\n",
       "      <td>7.1</td>\n",
       "      <td>0.0</td>\n",
       "      <td>0.0</td>\n",
       "    </tr>\n",
       "    <tr>\n",
       "      <td>9998</td>\n",
       "      <td>tt2015315</td>\n",
       "      <td>Poo-reun so-geum</td>\n",
       "      <td>Not Rated</td>\n",
       "      <td>122 min</td>\n",
       "      <td>Action, Drama</td>\n",
       "      <td>6.4</td>\n",
       "      <td>0.0</td>\n",
       "      <td>0.0</td>\n",
       "    </tr>\n",
       "    <tr>\n",
       "      <td>9999</td>\n",
       "      <td>tt3257794</td>\n",
       "      <td>Music Teacher</td>\n",
       "      <td>NaN</td>\n",
       "      <td>101 min</td>\n",
       "      <td>Drama</td>\n",
       "      <td>6.4</td>\n",
       "      <td>0.0</td>\n",
       "      <td>0.0</td>\n",
       "    </tr>\n",
       "  </tbody>\n",
       "</table>\n",
       "<p>10000 rows × 8 columns</p>\n",
       "</div>"
      ],
      "text/plain": [
       "       movie_id                   movie_title mpaa_rating  runtime  \\\n",
       "0     tt6751668                      Parasite           R  132 min   \n",
       "1     tt8946378                    Knives Out       PG-13  131 min   \n",
       "2     tt2584384                   Jojo Rabbit       PG-13  108 min   \n",
       "3     tt8579674                          1917           R  119 min   \n",
       "4     tt8367814                 The Gentlemen           R  113 min   \n",
       "...         ...                           ...         ...      ...   \n",
       "9995  tt1533817  Stomp the Yard 2: Homecoming       PG-13   89 min   \n",
       "9996  tt5258904                           B&B       TV-MA   87 min   \n",
       "9997  tt2585736               American Bistro       TV-MA   94 min   \n",
       "9998  tt2015315              Poo-reun so-geum   Not Rated  122 min   \n",
       "9999  tt3257794                 Music Teacher         NaN  101 min   \n",
       "\n",
       "                         genre  star_rating  gross_revenue       budget  \n",
       "0      Comedy, Drama, Thriller          8.6    201055038.0   11363000.0  \n",
       "1         Comedy, Crime, Drama          8.0    163700000.0   40000000.0  \n",
       "2           Comedy, Drama, War          8.0     82468705.0   14000000.0  \n",
       "3                   Drama, War          8.4    200483309.0  100000000.0  \n",
       "4        Action, Comedy, Crime          8.1     48441089.0   18400000.0  \n",
       "...                        ...          ...            ...          ...  \n",
       "9995              Drama, Music          4.2            0.0          0.0  \n",
       "9996                  Thriller          5.3            0.0    1000000.0  \n",
       "9997  Adventure, Comedy, Drama          7.1            0.0          0.0  \n",
       "9998             Action, Drama          6.4            0.0          0.0  \n",
       "9999                     Drama          6.4            0.0          0.0  \n",
       "\n",
       "[10000 rows x 8 columns]"
      ]
     },
     "execution_count": 50,
     "metadata": {},
     "output_type": "execute_result"
    }
   ],
   "source": [
    "movie_df"
   ]
  },
  {
   "cell_type": "code",
   "execution_count": 51,
   "metadata": {},
   "outputs": [],
   "source": [
    "#filling all NA's as 0 to then change series to an integer\n",
    "movie_df['runtime'].fillna(0, inplace=True)"
   ]
  },
  {
   "cell_type": "code",
   "execution_count": 52,
   "metadata": {},
   "outputs": [],
   "source": [
    "#cleaning runtime column to just show minutes as integer\n",
    "movie_df['runtime'] = movie_df['runtime'].astype(str)"
   ]
  },
  {
   "cell_type": "code",
   "execution_count": 53,
   "metadata": {},
   "outputs": [],
   "source": [
    "movie_df['runtime'] = movie_df['runtime'].apply(lambda x: x.rstrip(' min'))"
   ]
  },
  {
   "cell_type": "code",
   "execution_count": 54,
   "metadata": {},
   "outputs": [],
   "source": [
    "movie_df['runtime'] = movie_df['runtime'].astype(int)"
   ]
  },
  {
   "cell_type": "code",
   "execution_count": 58,
   "metadata": {},
   "outputs": [
    {
     "data": {
      "text/plain": [
       "45"
      ]
     },
     "execution_count": 58,
     "metadata": {},
     "output_type": "execute_result"
    }
   ],
   "source": [
    "movie_df['star_rating'].isnull().sum()"
   ]
  },
  {
   "cell_type": "code",
   "execution_count": 59,
   "metadata": {},
   "outputs": [],
   "source": [
    "#clean all NAs for star rating to be 0.0, data type -- float\n",
    "movie_df['star_rating'].fillna(0.0, inplace=True)"
   ]
  },
  {
   "cell_type": "code",
   "execution_count": 60,
   "metadata": {},
   "outputs": [],
   "source": [
    "movie_df['star_rating'] = movie_df['star_rating'].astype(float)"
   ]
  },
  {
   "cell_type": "code",
   "execution_count": 61,
   "metadata": {},
   "outputs": [],
   "source": [
    "movie_df['mpaa_rating'].fillna(\"Not Rated\", inplace=True)"
   ]
  },
  {
   "cell_type": "code",
   "execution_count": 62,
   "metadata": {},
   "outputs": [],
   "source": [
    "movie_df['genre'].fillna(\"No Genre\", inplace=True)"
   ]
  },
  {
   "cell_type": "code",
   "execution_count": 63,
   "metadata": {},
   "outputs": [],
   "source": [
    "movie_df['gross_revenue'].fillna(0, inplace=True)"
   ]
  },
  {
   "cell_type": "code",
   "execution_count": 67,
   "metadata": {},
   "outputs": [],
   "source": [
    "movie_df['budget'].fillna(0, inplace=True)"
   ]
  },
  {
   "cell_type": "code",
   "execution_count": 72,
   "metadata": {},
   "outputs": [
    {
     "name": "stdout",
     "output_type": "stream",
     "text": [
      "{'Comedy': 2906, 'Drama': 5704, 'Thriller': 2046, 'Crime': 1293, 'War': 156, 'Action': 2009, 'Biography': 553, 'Adventure': 1047, 'History': 346, 'Horror': 1529, 'Mystery': 811, 'Animation': 400, 'Romance': 1442, 'Fantasy': 551, 'Sci-Fi': 581, 'Music': 202, 'Family': 380, 'Western': 72, 'Musical': 70, 'Sport': 145, 'Adult': 1, 'Game-Show': 1, 'No Genre': 3}\n"
     ]
    }
   ],
   "source": [
    "#pie chart showing how many movies belonged to which genre\n",
    "genre_list = []\n",
    "for genres in movie_df['genre']:\n",
    "    genre_list.extend(genre.strip() for genre in genres.split(','))\n",
    "    genre_dict = {}\n",
    "    for genre in genre_list:\n",
    "        if genre in genre_dict:\n",
    "            genre_dict[genre] += 1\n",
    "        else:\n",
    "            genre_dict[genre] = 1\n",
    "print(genre_dict)\n",
    "    "
   ]
  },
  {
   "cell_type": "code",
   "execution_count": 78,
   "metadata": {},
   "outputs": [
    {
     "data": {
      "text/plain": [
       "23"
      ]
     },
     "execution_count": 78,
     "metadata": {},
     "output_type": "execute_result"
    }
   ],
   "source": [
    "len(list(genre_dict.keys()))"
   ]
  },
  {
   "cell_type": "code",
   "execution_count": 88,
   "metadata": {},
   "outputs": [],
   "source": [
    "#bar graph to represent "
   ]
  },
  {
   "cell_type": "code",
   "execution_count": 90,
   "metadata": {},
   "outputs": [
    {
     "data": {
      "text/plain": [
       "5.956549999999996"
      ]
     },
     "execution_count": 90,
     "metadata": {},
     "output_type": "execute_result"
    }
   ],
   "source": [
    "movie_df['star_rating'].mean()"
   ]
  },
  {
   "cell_type": "code",
   "execution_count": 91,
   "metadata": {},
   "outputs": [
    {
     "data": {
      "text/plain": [
       "6.1"
      ]
     },
     "execution_count": 91,
     "metadata": {},
     "output_type": "execute_result"
    }
   ],
   "source": [
    "movie_df['star_rating'].median()"
   ]
  },
  {
   "cell_type": "code",
   "execution_count": 92,
   "metadata": {},
   "outputs": [],
   "source": [
    "#display all genres for movies that are considered 'top rated' by users\n",
    "#to be top rated, you must have a star rating of 1.25 times the mean for all star ratings\n",
    "\n",
    "df_highest_rated = movie_df[movie_df['star_rating']>movie_df['star_rating'].mean()*1.25]"
   ]
  },
  {
   "cell_type": "code",
   "execution_count": 93,
   "metadata": {},
   "outputs": [
    {
     "data": {
      "text/html": [
       "<div>\n",
       "<style scoped>\n",
       "    .dataframe tbody tr th:only-of-type {\n",
       "        vertical-align: middle;\n",
       "    }\n",
       "\n",
       "    .dataframe tbody tr th {\n",
       "        vertical-align: top;\n",
       "    }\n",
       "\n",
       "    .dataframe thead th {\n",
       "        text-align: right;\n",
       "    }\n",
       "</style>\n",
       "<table border=\"1\" class=\"dataframe\">\n",
       "  <thead>\n",
       "    <tr style=\"text-align: right;\">\n",
       "      <th></th>\n",
       "      <th>movie_id</th>\n",
       "      <th>movie_title</th>\n",
       "      <th>mpaa_rating</th>\n",
       "      <th>runtime</th>\n",
       "      <th>genre</th>\n",
       "      <th>star_rating</th>\n",
       "      <th>gross_revenue</th>\n",
       "      <th>budget</th>\n",
       "    </tr>\n",
       "  </thead>\n",
       "  <tbody>\n",
       "    <tr>\n",
       "      <td>0</td>\n",
       "      <td>tt6751668</td>\n",
       "      <td>Parasite</td>\n",
       "      <td>R</td>\n",
       "      <td>132</td>\n",
       "      <td>Comedy, Drama, Thriller</td>\n",
       "      <td>8.6</td>\n",
       "      <td>201055038.0</td>\n",
       "      <td>11363000.0</td>\n",
       "    </tr>\n",
       "    <tr>\n",
       "      <td>1</td>\n",
       "      <td>tt8946378</td>\n",
       "      <td>Knives Out</td>\n",
       "      <td>PG-13</td>\n",
       "      <td>131</td>\n",
       "      <td>Comedy, Crime, Drama</td>\n",
       "      <td>8.0</td>\n",
       "      <td>163700000.0</td>\n",
       "      <td>40000000.0</td>\n",
       "    </tr>\n",
       "    <tr>\n",
       "      <td>2</td>\n",
       "      <td>tt2584384</td>\n",
       "      <td>Jojo Rabbit</td>\n",
       "      <td>PG-13</td>\n",
       "      <td>108</td>\n",
       "      <td>Comedy, Drama, War</td>\n",
       "      <td>8.0</td>\n",
       "      <td>82468705.0</td>\n",
       "      <td>14000000.0</td>\n",
       "    </tr>\n",
       "    <tr>\n",
       "      <td>3</td>\n",
       "      <td>tt8579674</td>\n",
       "      <td>1917</td>\n",
       "      <td>R</td>\n",
       "      <td>119</td>\n",
       "      <td>Drama, War</td>\n",
       "      <td>8.4</td>\n",
       "      <td>200483309.0</td>\n",
       "      <td>100000000.0</td>\n",
       "    </tr>\n",
       "    <tr>\n",
       "      <td>4</td>\n",
       "      <td>tt8367814</td>\n",
       "      <td>The Gentlemen</td>\n",
       "      <td>R</td>\n",
       "      <td>113</td>\n",
       "      <td>Action, Comedy, Crime</td>\n",
       "      <td>8.1</td>\n",
       "      <td>48441089.0</td>\n",
       "      <td>18400000.0</td>\n",
       "    </tr>\n",
       "    <tr>\n",
       "      <td>...</td>\n",
       "      <td>...</td>\n",
       "      <td>...</td>\n",
       "      <td>...</td>\n",
       "      <td>...</td>\n",
       "      <td>...</td>\n",
       "      <td>...</td>\n",
       "      <td>...</td>\n",
       "      <td>...</td>\n",
       "    </tr>\n",
       "    <tr>\n",
       "      <td>9904</td>\n",
       "      <td>tt9313424</td>\n",
       "      <td>From the Vine</td>\n",
       "      <td>Not Rated</td>\n",
       "      <td>97</td>\n",
       "      <td>Drama</td>\n",
       "      <td>7.9</td>\n",
       "      <td>0.0</td>\n",
       "      <td>0.0</td>\n",
       "    </tr>\n",
       "    <tr>\n",
       "      <td>9928</td>\n",
       "      <td>tt2258058</td>\n",
       "      <td>High &amp; Outside: A Baseball Noir</td>\n",
       "      <td>Not Rated</td>\n",
       "      <td>98</td>\n",
       "      <td>Drama, Sport</td>\n",
       "      <td>8.2</td>\n",
       "      <td>0.0</td>\n",
       "      <td>0.0</td>\n",
       "    </tr>\n",
       "    <tr>\n",
       "      <td>9931</td>\n",
       "      <td>tt6862538</td>\n",
       "      <td>Yellow Rose</td>\n",
       "      <td>Not Rated</td>\n",
       "      <td>0</td>\n",
       "      <td>Drama, Music</td>\n",
       "      <td>8.0</td>\n",
       "      <td>0.0</td>\n",
       "      <td>0.0</td>\n",
       "    </tr>\n",
       "    <tr>\n",
       "      <td>9936</td>\n",
       "      <td>tt2311530</td>\n",
       "      <td>Lost Angelas</td>\n",
       "      <td>Not Rated</td>\n",
       "      <td>88</td>\n",
       "      <td>Mystery, Thriller</td>\n",
       "      <td>8.8</td>\n",
       "      <td>0.0</td>\n",
       "      <td>0.0</td>\n",
       "    </tr>\n",
       "    <tr>\n",
       "      <td>9950</td>\n",
       "      <td>tt5371090</td>\n",
       "      <td>Hold On</td>\n",
       "      <td>PG-13</td>\n",
       "      <td>106</td>\n",
       "      <td>Drama</td>\n",
       "      <td>8.0</td>\n",
       "      <td>0.0</td>\n",
       "      <td>0.0</td>\n",
       "    </tr>\n",
       "  </tbody>\n",
       "</table>\n",
       "<p>931 rows × 8 columns</p>\n",
       "</div>"
      ],
      "text/plain": [
       "       movie_id                      movie_title mpaa_rating  runtime  \\\n",
       "0     tt6751668                         Parasite           R      132   \n",
       "1     tt8946378                       Knives Out       PG-13      131   \n",
       "2     tt2584384                      Jojo Rabbit       PG-13      108   \n",
       "3     tt8579674                             1917           R      119   \n",
       "4     tt8367814                    The Gentlemen           R      113   \n",
       "...         ...                              ...         ...      ...   \n",
       "9904  tt9313424                    From the Vine   Not Rated       97   \n",
       "9928  tt2258058  High & Outside: A Baseball Noir   Not Rated       98   \n",
       "9931  tt6862538                      Yellow Rose   Not Rated        0   \n",
       "9936  tt2311530                     Lost Angelas   Not Rated       88   \n",
       "9950  tt5371090                          Hold On       PG-13      106   \n",
       "\n",
       "                        genre  star_rating  gross_revenue       budget  \n",
       "0     Comedy, Drama, Thriller          8.6    201055038.0   11363000.0  \n",
       "1        Comedy, Crime, Drama          8.0    163700000.0   40000000.0  \n",
       "2          Comedy, Drama, War          8.0     82468705.0   14000000.0  \n",
       "3                  Drama, War          8.4    200483309.0  100000000.0  \n",
       "4       Action, Comedy, Crime          8.1     48441089.0   18400000.0  \n",
       "...                       ...          ...            ...          ...  \n",
       "9904                    Drama          7.9            0.0          0.0  \n",
       "9928             Drama, Sport          8.2            0.0          0.0  \n",
       "9931             Drama, Music          8.0            0.0          0.0  \n",
       "9936        Mystery, Thriller          8.8            0.0          0.0  \n",
       "9950                    Drama          8.0            0.0          0.0  \n",
       "\n",
       "[931 rows x 8 columns]"
      ]
     },
     "execution_count": 93,
     "metadata": {},
     "output_type": "execute_result"
    }
   ],
   "source": []
  },
  {
   "cell_type": "code",
   "execution_count": 94,
   "metadata": {},
   "outputs": [
    {
     "name": "stdout",
     "output_type": "stream",
     "text": [
      "{'Comedy': 211, 'Drama': 672, 'Thriller': 140, 'Crime': 135, 'War': 22, 'Action': 197, 'Biography': 83, 'Romance': 124, 'History': 41, 'Fantasy': 42, 'Horror': 36, 'Sci-Fi': 34, 'Adventure': 115, 'Animation': 85, 'Mystery': 61, 'Music': 23, 'Musical': 19, 'Western': 2, 'Sport': 18, 'Family': 40, 'No Genre': 1}\n"
     ]
    }
   ],
   "source": [
    "top_rated_genre_list = []\n",
    "for genres in df_highest_rated['genre']:\n",
    "    top_rated_genre_list.extend(genre.strip() for genre in genres.split(','))\n",
    "    genre_dict = {}\n",
    "    for genre in top_rated_genre_list:\n",
    "        if genre in genre_dict:\n",
    "            genre_dict[genre] += 1\n",
    "        else:\n",
    "            genre_dict[genre] = 1\n",
    "#print(genre_dict)\n",
    "    "
   ]
  },
  {
   "cell_type": "code",
   "execution_count": null,
   "metadata": {},
   "outputs": [],
   "source": []
  }
 ],
 "metadata": {
  "kernelspec": {
   "display_name": "Python 3",
   "language": "python",
   "name": "python3"
  },
  "language_info": {
   "codemirror_mode": {
    "name": "ipython",
    "version": 3
   },
   "file_extension": ".py",
   "mimetype": "text/x-python",
   "name": "python",
   "nbconvert_exporter": "python",
   "pygments_lexer": "ipython3",
   "version": "3.7.4"
  }
 },
 "nbformat": 4,
 "nbformat_minor": 2
}
